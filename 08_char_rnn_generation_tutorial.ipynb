{
  "nbformat": 4,
  "nbformat_minor": 0,
  "metadata": {
    "colab": {
      "provenance": []
    },
    "kernelspec": {
      "name": "python3",
      "display_name": "Python 3"
    },
    "language_info": {
      "name": "python"
    }
  },
  "cells": [
    {
      "cell_type": "code",
      "execution_count": 3,
      "metadata": {
        "id": "eOOWi8RiHA2a"
      },
      "outputs": [],
      "source": [
        "%matplotlib inline"
      ]
    },
    {
      "cell_type": "markdown",
      "metadata": {
        "id": "-15WVT29G3Ej"
      },
      "source": [
        "\n",
        "# NLP From Scratch: Generating Names with a Character-Level RNN\n",
        "**Author**: [Sean Robertson](https://github.com/spro)\n",
        "\n",
        "This is our second of three tutorials on \"NLP From Scratch\".\n",
        "In the [first tutorial](/intermediate/char_rnn_classification_tutorial)\n",
        "we used a RNN to classify names into their language of origin. This time\n",
        "we'll turn around and generate names from languages.\n",
        "\n",
        "```sh\n",
        "> python sample.py Russian RUS\n",
        "Rovakov\n",
        "Uantov\n",
        "Shavakov\n",
        "\n",
        "> python sample.py German GER\n",
        "Gerren\n",
        "Ereng\n",
        "Rosher\n",
        "\n",
        "> python sample.py Spanish SPA\n",
        "Salla\n",
        "Parer\n",
        "Allan\n",
        "\n",
        "> python sample.py Chinese CHI\n",
        "Chan\n",
        "Hang\n",
        "Iun\n",
        "```\n",
        "We are still hand-crafting a small RNN with a few linear layers. The big\n",
        "difference is instead of predicting a category after reading in all the\n",
        "letters of a name, we input a category and output one letter at a time.\n",
        "Recurrently predicting characters to form language (this could also be\n",
        "done with words or other higher order constructs) is often referred to\n",
        "as a \"language model\".\n",
        "\n",
        "\n",
        "\n",
        "## Preparing the Data\n",
        "\n",
        "<div class=\"alert alert-info\"><h4>Note</h4><p>Download the data from\n",
        "   [here](https://download.pytorch.org/tutorial/data.zip)\n",
        "   and extract it to the current directory.</p></div>\n",
        "\n",
        "See the last tutorial for more detail of this process. In short, there\n",
        "are a bunch of plain text files ``data/names/[Language].txt`` with a\n",
        "name per line. We split lines into an array, convert Unicode to ASCII,\n",
        "and end up with a dictionary ``{language: [names ...]}``.\n"
      ]
    },
    {
      "cell_type": "markdown",
      "metadata": {
        "id": "gycZaOFfG1lQ"
      },
      "source": [
        "\n",
        "# 기초부터 시작하는 NLP:  문자-단위 RNN으로 이름 생성하기\n",
        "\n",
        "우리는 몇 개의 선형 계층으로 작은 RNN을 직접 만들고 있습니다.\n",
        "이전 튜토리얼인 이름을 읽은 후 그 언어를 예측하는 것과의 큰 차이점은\n",
        "언어를 입력하고 한 번에 한 글자를 생성하여 출력하는 것입니다.\n",
        "언어 형성(단어 또는 다른 고차원 구조로도 수행될 수 있음)을 위해\n",
        "문자를 반복적으로 예측하는 것을 \"언어 모델\" 이라고 합니다.\n",
        "\n",
        "\n"
      ]
    },
    {
      "cell_type": "code",
      "source": [
        "import os, zipfile\n",
        "from pathlib import Path\n",
        "\n",
        "with zipfile.ZipFile(\"data.zip\", \"r\") as zip_ref:\n",
        "    zip_ref.extractall()"
      ],
      "metadata": {
        "id": "mIrXUCS2Qcbr"
      },
      "execution_count": 1,
      "outputs": []
    },
    {
      "cell_type": "code",
      "source": [
        "from io import open\n",
        "import glob, os, unicodedata, string\n",
        "\n",
        "all_letters = string.ascii_letters + \" .,;'-\"\n",
        "n_letters = len(all_letters) + 1 # Plus EOS marker\n",
        "\n",
        "def findFiles(path): return glob.glob(path)\n",
        "\n",
        "# Turn a Unicode string to plain ASCII, thanks to https://stackoverflow.com/a/518232/2809427\n",
        "def unicodeToAscii(s):\n",
        "    return ''.join(\n",
        "        c for c in unicodedata.normalize('NFD', s)\n",
        "        if unicodedata.category(c) != 'Mn'\n",
        "        and c in all_letters\n",
        "    )\n",
        "\n",
        "# Read a file a split into lines\n",
        "def readLines(filename):\n",
        "    with open(filename, encoding='utf-8') as some_file:\n",
        "        return [unicodeToAscii(line.strip()) for line in some_file]\n",
        "\n",
        "# Build the category_lines dictionary, a list of lines per category\n",
        "category_lines = {}\n",
        "all_categories = []\n",
        "for filename in findFiles('data/names/*.txt'):\n",
        "    category = os.path.splitext(os.path.basename(filename))[0]\n",
        "    all_categories.append(category)\n",
        "    lines = readLines(filename)\n",
        "    category_lines[category] = lines\n",
        "\n",
        "n_categories = len(all_categories)\n",
        "\n",
        "if n_categories == 0:\n",
        "    raise RuntimeError('Data not found. Make sure that you downloaded data '\n",
        "        'from https://download.pytorch.org/tutorial/data.zip and extract it to '\n",
        "        'the current directory.')\n",
        "\n",
        "print('# categories:', n_categories, all_categories)\n",
        "print(unicodeToAscii(\"O'Néàl\"))"
      ],
      "metadata": {
        "colab": {
          "base_uri": "https://localhost:8080/"
        },
        "id": "Jp4At5BdQquV",
        "outputId": "89a3d35b-f07a-4546-8788-9152fde05242"
      },
      "execution_count": 6,
      "outputs": [
        {
          "output_type": "stream",
          "name": "stdout",
          "text": [
            "# categories: 18 ['German', 'Portuguese', 'Czech', 'Vietnamese', 'Russian', 'Irish', 'Japanese', 'Korean', 'Dutch', 'French', 'Arabic', 'Polish', 'Greek', 'Chinese', 'Scottish', 'English', 'Italian', 'Spanish']\n",
            "O'Neal\n"
          ]
        }
      ]
    },
    {
      "cell_type": "markdown",
      "metadata": {
        "id": "ObDv_r60G3El"
      },
      "source": [
        "## Creating the Network\n",
        "\n",
        "This network extends [the last tutorial's RNN](#Creating-the-Network)_\n",
        "with an extra argument for the category tensor, which is concatenated\n",
        "along with the others. The category tensor is a one-hot vector just like\n",
        "the letter input.\n",
        "\n",
        "We will interpret the output as the probability of the next letter. When\n",
        "sampling, the most likely output letter is used as the next input\n",
        "letter.\n",
        "\n",
        "I added a second linear layer ``o2o`` (after combining hidden and\n",
        "output) to give it more muscle to work with. There's also a dropout\n",
        "layer, which [randomly zeros parts of its\n",
        "input](https://arxiv.org/abs/1207.0580)_ with a given probability\n",
        "(here 0.1) and is usually used to fuzz inputs to prevent overfitting.\n",
        "Here we're using it towards the end of the network to purposely add some\n",
        "chaos and increase sampling variety.\n",
        "\n",
        "\n",
        "\n",
        "\n"
      ]
    },
    {
      "cell_type": "markdown",
      "metadata": {
        "id": "AH5v-erAG1lS"
      },
      "source": [
        "## 네트워크 생성\n",
        "\n",
        "이 네트워크는 [지난 튜토리얼의 RNN](#Creating-the-Network)_ 이\n",
        "다른 입력들과 연결되는 category tensor를 추가 인자로 가지게 확장합니다.\n",
        "category tensor는 문자 입력과 마찬가지로 one-hot 벡터입니다.\n",
        "\n",
        "역자주: 기존 입력과 category tensor를 결합하여 입력으로 사용하기 때문에\n",
        "입력의 사이즈가 n_categories 만큼 커집니다.\n",
        "\n",
        "우리는 출력을 다음 문자의 확률로 해석합니다. 샘플링 할 때,\n",
        "가장 확률이 높은 문자가 다음 입력 문자로 사용됩니다.\n",
        "\n",
        "더 나은 동작을 위해 두 번째 선형 레이어\n",
        "``o2o`` (은닉과 출력을 결합한 후) 를 추가했습니다 .\n",
        "또한 Drop-out 계층이 있습니다. 이 계층은 주어진 확률(여기서는 0.1)로\n",
        "[무작위로 입력을 0 #](https://arxiv.org/abs/1207.0580)_ 으로 만듭니다.\n",
        "일반적으로 입력을 흐리게 해서 과적합을 막는 데 사용됩니다.\n",
        "여기서 우리는 고의로 일부 혼돈을 추가하고 샘플링 다양성을 높이기\n",
        "위해 네트워크의 마지막에 이것을 사용합니다.\n",
        "\n",
        "![image.png](data:image/png;base64,iVBORw0KGgoAAAANSUhEUgAAAk8AAALJCAIAAAAiTFD8AAAgAElEQVR4AeydCXwb1bX/x3aczZ/YcRY7CVlswaM82vIJn6b031JaWh6UvS2vfUBbmpa20AKFAq8LLa+lFPpeW2ihlGpGq7XGsmV5kx0vSrzFsU1shyhxbBLbMTGOlxjb2BaqEUJ/RjcRytg68WjzzOj4kw9o5t5z7znfc+f+dGeuJMqHf0gACSABJIAEpE6AknqAGB8SQAJIAAkgAR+qHQ4CJIAEkAASkD4BVDvp5xgjRAJIAAkgAVQ7HANIAAkgASQgfQKodtLPMUaIBJAAEkACqHY4BpAAEkACSED6BFDtpJ9jjBAJIAEkgARQ7XAMIAEkgASQgPQJoNpJP8cYIRJAAkgACaDa4RhAAkhgiQl4PJ7x8fGBgYGurq7XXnutvr5+7969paWlFovFZDIZDIY8/5/G/6dWq5X+P4X/j2EYOsQf4/9TKBQq/59Go9FqtTqdzmAwmEymPXv2WCyWoqIiu93ucDhaWlqcTmd/f//4+LjH41liIth9DAig2sUAKjaJBJBAEAG3233q1KmOjg6Hw1FcXJyfn28wGLRarVKpDNYqhUKh0Wj0er3ZbCYiVFtb29zc3NraeujQocOHDzudzq6uru7u7pMnTw4MDAwODg4PD589e3ZycnJ2dtbtdhOVmpubc7lck5OTZ8+eHRoaOnXqVF9fX09Pz9GjRzs7O9vb21tbW5uamurq6hwOR3V1NZFVjktyuZxhGJVKlZeXZzQaCwsLy8rKamtrW1pa3njjjenp6aD48KU4CKDaiSNP6CUSED6BycnJN954o7W1taqqymq16vV6pVJJ1l1KpVKr1VoslsrKyv3797e2tjqdzt7e3rGxMbfbLcDQXC7X8PDwG2+8cfjw4cbGxpqampKSkoKCAoPBEByUTqcrLCysrq5ua2vr7e11uVwCjAVdIgRQ7XAkIAEkwJvAzMzMsWPHHA6HxWLRarWBJZpSqTQYDFartaqqqrW19eTJk5OTk7xbF4OBy+Xq6+traWmpqqoqLCzMy8tTKBRE2lUqlcFgKCoq2rdvn9PpxIWgQPKJaieQRKAbSEC4BDweT19fX2Njo81mI9oml8tVKlV+fn51dfXhw4fffPNNYS7R4s90cnKyp6enubm5oqLCYrGo1WqaphmG0Wq1Nputubn51KlTXq83/o5hj6h2OAaQABLgEhgcHGxtbS0vLzcYDGTdplQqTSZTRUXFoUOHhoeHuQZ4DBIYHh5+7bXX7Ha7wWAgS0CVSmU2m6urq51O5+zsLGiNhdEhgGoXHY7YChIQNQG3233kyJHy8vK8vDyyFtHr9aWlpc3NzQMDA7gWiW5y3W53T0+Pw+EoKCjQaDQEuE6nKy0tdTqdc3Nz0e0OWyMEUO1wJCCBBCUwNjbW3NxcWFhItl2o1Wqbzdbe3o5LjfgPiOHh4ba2tuLiYnLnM5AL3PYSxVyg2kURJjaFBARNwOv19vX1VVdXG41GhmHkcrnBYNi7d29PTw9+wkw4mZubm3M6neXl5WTZp1QqrVZra2vr1NSUcJwUoyeodmLMGvqMBHgQGBgYqKio0Gq1NE0rFAqLxdLQ0DA0NMSjCay6RAQ8Hs/x48crKip0Op1cLifpa2pqOnv27BJ5JOJuUe1EnDx0HQmEIjA3N9fe3l5QUMAwjEKhKCws7OjowFuUoXCJ5TxZmhsMBpqmlUplcXHxiRMnxOL8kvuJarfkKUAHkEDUCJw9e9bhcOTl5cnlco1GU1lZeerUqai1jg0JiUBPT4/NZiPfR2OxWDo6OvB2NJwfVDuYD5YiAREQ6O7uLi4uJptNTCZTc3PzzMyMCPxGF6NBYHBwsLKyUqPRyOVyk8nU1NSE2V+QK6rdgljwJBIQOgGPx9PS0mIymchNrdLS0uPHjwvdafQvlgQmJyfr6ur0er1cLtdqtTU1NWNjY7HsUGRto9qJLGHoLhLo7u4uKCigaVqr1dbV1eGMhkOCQ8Dtdre1te3Zs4e8E6qsrJyYmODUScBDVLsETDqGLEoCIyMj5eXl5GduysvLR0ZGRBkGOh1HAl6vt6ury2w20zSt1+sPHTqUyF8UgGoXx6GHXSEB/gRcLlddXR35/EBBQUF3dzf/NtAi0Qm43e76+nry0XWbzZaYnz9BtUv0ywDjFyYBr9fb0dFhNBrJu/KWlhbccSfMTInLq9OnTxcVFdE0rdFoGhoaEupbylDtxDVW0VvpExgZGSHzkUqlqq2txd+LkX7K4x6h1+ttaWnR6XQ0TVsslgT50B6qXdwHGnaIBEIQcDqder2epmmbzTY4OBiiFp5GAlEjMD4+XlFRwTCMUqmsqamR9s82odpFbdxgQ0ggPAJzc3P79+8n208cDoe0Z5zwEKFVrAk4nU5y27y4uFiqGzhR7WI9irB9JBCSwPT0dFlZGU3TOp3u9ddfD1kPC5BAXAgMDw8XFhbSNG02mwcGBuLSZ/w6QbWLH2vsCQkECIyPj1utVvLUBH8cNYAFXwiBwPT0dHl5OXkT1tPTIwSXouIDql1UMGIjSGCxBIaHh/Pz82maLioqGh8fX6wZ1kMC8SXg8Xjq6+sZhsnLy5OG5qHaxXcEYW8JTGBsbIx8zrekpAR3WibwQBBT6B6Px+FwMAyj1WrFvnUT1U5MIw99FSmBqakpct+ypKQEN6GINImJ7HZA83Q6XX9/v0hRoNqJNHHotjgIuFwusg+lsLBwcnJSHE6jl0hgIQIej6e2tpam6fz8fDHu20S1WyireA4JRIOAw+GQy+Vmsxm/0zIaOLENQRBwuVw2m42m6bKyMnHdqEC1E8QAQickRqCrq0upVGo0GvwxVYllFsMhBEZGRoxGI8Mw9fX1YmGCaieWTKGf4iAwNjZmMpkYhmlpaRGHx+glEgiXQHd3t1qtFsu7OlS7cPOMdkjgQgJer7eyspKmadyKciEYPJI4AYfDQb7uTuDfMY1qJ/GBiOHFh0BfX59SqdTpdPhR8fgAx14ERWBiYsJkMikUio6ODkE5FuwMql0wDXyNBHgT8Hg8xcXFNE03NDTwNkYDJCAhAp2dnQzDGI3G2dlZAYaFaifApKBLoiFw7NgxhmEMBoMYN2SLhjI6Kh4Cc3Nz5KOlhw8fFprXqHZCywj6Iw4CXq+3pKSEpunW1lZxeIxeIoF4EXA6nQzDWCwWQT3JQ7WLV/6xHwkRGBkZUavVeXl5+AVgEsoqhhJNAjMzM+RJXnd3dzTbjaAtVLsI4KFpQhI4ePAgTdN79+5NyOgxaCTAg0BrayvDMFVVVTxsYlYV1S5maLFhyRGYm5vLz89nGObkyZOSCw4DQgIxITA+Pq5SqQwGg8vlikkHi24U1W7RqLBiYhMgF63JZBLXtyUldtIwekEQ8Hg8FotFoVAs7VcLodoJYjSgEwIn0NPTwzBMZWWlwP1E95CAYAk0NjbSNN3Y2LhUHqLaLRV57Fc0BOrr62mabm9vF43H6CgSECSB/v5+hmFKSkqWxDtUuyXBjp2KhoDValUoFIODg6LxGB1FAgImMDs7q1arTSaTx+OJs5uodnEGjt2JhoDH4zGZTFqtdmZmRjROo6NIQPAE5ubm9Hq9RqOJ81euoNoJfmigg0tBwO125+Xl6XS6+L8DXYpwsU8kEG8CVquVYZihoaG4dYxqFzfU2JFoCLjdbpVKtWfPHq/XKxqn0VEkIDYCtbW1DMOcPn06Po6j2sWHM/YiGgIul0sulyuVStF4jI4iAdESaG5upml6YGAgDhGg2sUBMnYhGgLT09MKhcJqtYrGY3QUCYicQHNzM8Mw/f39sY4D1S7WhLF90RCYnZ1VqVSlpaWi8RgdFT8Bl8s1MjLS19fndDpbW1sbGhrq6uocDkdNTc3evXsrKirKy8tLS0srKyurq6sdDkddXd2BAwdaWlo6Ojq6u7sHBwfjvNcjFshbW1vlcnlfX18sGg+0iWoXQIEvEpoAeVaHq7qEHgSxCd7r9Y6MjHR1dTU1NZWXl+fn52u1WoVCQfv/5HI5wzBKpVKj0RgMhj179uTn51sslsLCwiL/X3FxcWlpqc1ms1qtFotlz549RqNRr9frdDq1Wh1oJ9CIyWSy2WwOh+Pw4cODg4Ni2WZFvn42pl+zjmoXmwGOrYqKwNzcnEajsVgsovIanRUogeHh4ba2tvLycqPRSNSIYRiNRmM0GouLix0OR0dHx+nTpycnJ6O1Dcrr9U5MTAwMDDidzpaWFrvdbrFYtFotwzA0TZPeCwoK9u3b193dLdivvnM4HHK5fGRkJEZ5RbWLEVhsVkwEDAZDQUGBmDxGX4VEYGJi4uDBg4WFhWq1mqiLTqez2WyNjY39/f3RkrSwIx4ZGTl69Gh1dbXZbFYqlTRNKxQKg8Fgt9tff/11Qf0EXWVlpUKhiNEKD9Uu7CGEhhIhUFZWplarxXLDRyLQxR/G4OBgfX39nj17yOotLy+voqLi+PHjS/5N/xdF6/V6T506deDAAZvNptFoaJpWqVRFRUWHDh0SwiNAm82mUqliocGodhcdG1hBygQOHDjAMMzk5KSUg8TYokTA6/UePXqUfJkcwzBGo9HhcMRn93yUIligmbm5uaNHj9rt9ry8PPLZG5vNdvz48QWqxuuUyWTS6/VRXxOj2sUrgdiP8Ah0d3fH7bM+wosePVosAbfb3dLSYjKZyDKorKws1rsHF+tZtOt5vd4TJ06UlpaSG55ms7mlpWVJnvNptdqo/+QIql20xwu2JxIC4+PjDMMcOXJEJP6im0tA4NixY2azmaZprVbrcDjGxsaWwIkl6nJkZKSmpoYs+PR6fUtLSzzv9k9PTzMM09LSEsXoUe2iCBObEhOBvLy84uJiMXmMvsaLwNjYWEVFBdnTX1VVFaNNE/GKJtJ+XC5XQ0MDecJntVrjtq49efIkTdNR/PkRVLtIhwLai5FAdXW1Wq2O+oMBMaJAn4MJHDt2TKfT0TRtsVhOnDgRXISvh4eHy8rKyJuA6urqONzhrKurYxgmWh2h2uEYTjgCvb29NE0PDw8nXOQYcGgCHR0dGo1GoVDU19fHYkNg6J7FV+J0OslTzNLS0ljv8LJYLAaDISqMUO2ighEbEQ0Bt9utUCgOHDggGo/R0VgS8Hq9Bw8eVKlUCoWiubk5ll1Jre3h4eGCggKapvPz86N4v5GDyePxROuCRbXjsMVDiRMoLi42mUwSDxLDWxwBp9OpUChUKlV7e/viLLAWl8DU1FRpaSlN0yaTKUb3S8gDvImJCW7fPI9R7XgCw+piJnDq1CmapiO/bMTMAH1nCZw9e9ZkMjEM09bWhkQiJ+B2uysrK2mattlssfh8fUlJiV6vj9BPVLsIAaK5mAio1era2loxeYy+RpuA2+2uqKigabq0tBSfz0WX7sTERH5+vlwudzgc0f24gsfjUSqVDQ0NkTiMahcJPbQVE4GGhgaVSiUmj9HXaBPo6elhGEav18fonlu0/RVle/39/WS/zxtvvBHFAMiNmfHx8bDbRLULGx0aionA7OxsfH4xUkxQEsxXcquto6MjweJemnDb2tpomrbb7VH8nI/NZtuzZ0/Y8aDahY0ODcVEoLS0NJLrREyhoq/zCExOTubl5anV6tj9msy8PvGEb3x8nGCP1o5Nl8tF0/TJkyfDg4tqFx43tBITgdnZWfyAnZgSFlVfOzs7aZouLi6O4iIjqg5KvLHa2lqapqP1vLyurk6tVoeHDNUuPG5oJSYCxcXF+EutYkpY9Hxtbm6maRq/DTV6RMNpaXBwUKlUWq3WcIzn2SiVyoMHD847ffETqHYXZ4Q1RE1gamqKpumE+j5fUecris7v27ePpumhoaEotolNhUfA7XZrNBq9Xh/514AdO3ZMoVCEsecT1S683KGVaAjYbLZovakUTczoqM9HvtYZ914KZyx4PB6z2axSqSL/srG8vLy6ujq+oaHa8SWG9cVEwOPx4Lt7MSUsSr5WVVXJ5XL8GoEo4YxmMyUlJTRNR/hJR7K84+sWqh1fYlhfTASampq0Wq2YPEZfIyZAVnUJ/jM9EVOMYQPFxcU0Tc/OzkbSh1qt5vvrd6h2kQBHW6ET0Gg0+NVQQk9SVP07dOgQwzBnz56NaqvYWJQJFBUVqdXqSFZ4hw4dUiqVvNxCteOFCyuLicDAwABN07jvXEw5i8xXknH8XbrIKMbJ2mQy6fX6SC5PpVJ5+PDhxbuLard4VlhTZAQKCgoqKipE5jS6Gy6B6elphmHwt5zC5RdvO6/Xq9PpioqKwu64sbGR13MKVLuwUaOh0AnI5XLckif0JEXPP41GU15eHr32sKWYE3C5XAzDhP1pyLm5OZqmF//Nmah2Mc8odrAkBI4fP65QKJaka+w0/gRaWloUCkUkt8Xi7zP26PP5Ojs7GYYJ+0eC8vPzF3//BtUOh5w0CdhstpKSEmnGhlFdSIAsEY4dO3bhaTwSB4F8/194vnZ3dy9+rwqqXXiQ0UroBBQKRdjfHiv02NC/CwkUFRWZzeYLz+GRaAiQNyudnZ3heaxQKLq7uxdji2q3GEpYR2QE3nzzTYZhROY0uhsWgf7+fpqm8dN1YcETilFHR0fYvz1ZUVGxyG/BRbUTSr7RjygSqKmpWeQFEMVOsaklIaDVauvr65eka+w0igSUSmV4y7uhoaFFvrVFtYtivrApoRAwGo1hfI2eULxHPxZNYGRkJPKvoVp0b1gxhgQaGhp4fZwg2BWFQtHb2xt8ZsHXqHYLYsGT4ibAMMybb74p7hjQ+0UQKC4uxq/8XgQnEVTxeDwMw/T19YXha2Fhod1uv6ghqt1FEWEFkRGYnJykaVpkTqO7/AmQr/yO1u9i8+8fLaJMoLa21mQyhdHo4cOHNRrNRQ1R7S6KCCuIjMChQ4fy8vJE5jS6y59AY2MjJpo/NuFajI+Ph/c+1ePxyOXyi37NNKqdcHOPnoVHoKSkpKysLDxbtBIRAa1W297eLiKH0dWLElAoFG+88cZFq82voNPpLvqD5qh287nhGfER6O3tDWzoMplMTU1NnZ2di3lwLb5QE9jj4Cx7vV6apg8ePIhZltKIsFqti3kCNz9ku91us9nmnw8+g2oXTANfi5XA5OSk0Wgk3qtUqmPHjhmNxsh/IlmsOCTqd3CWyZdoYJYllur29vbFPIGbH3VHR8dFt3Si2s3nhmdESSAw8TEM89ZbbwXET5TBoNMhCASyXFlZmZ+fj1kOwUmsp8kXPXs8Hr4BLGZvGqodX6pYX6AEGhoanE6n2+2madrpdDY0NAjUUXQrAgIkyz6fT6/XV1dXY5YjYClQU4ZhRkZGwnCOYZihoSHAENUOgINFYiLQ399fUVExMDCgVCorKir6+/vF5D36ujgCJMs+n4+m6ZKSEszy4rCJqZZSqQxvo4per29ubgZCRbUD4GCRmAjMzc2pVKrDhw9rtVq1Wj03Nycm79HXxREgWZ6YmKBpGrO8OGYiq5WXlxfeVtuLblRBtRPZUEB3AQLFxcUHDhzQarXFxcVANSwSNYHi4uKuri6GYTDLos5jKOfNZnN4X3za2NgIfzgd1S4UczwvPgLt7e0lJSX4MSzxZY6Px+3t7VVVVQqFIrwVAJ+usO4SELDZbJWVlWF03NXVBe/nRLULgyqaCJTA6OioWq2maXp0dFSgLqJbERMYHR3VarVyuRyzHDFLITZQXl4e3rdDjIyMwD+GgGonxHyjT2ETkPv/wjZHQ1EQwCyLIk3hORm22pEvHPB6vaH6RbULRQbPi5KARqPR6XSidB2dXjQBrVaL35C5aFoiq1hWVlZeXh6e0/CnF1DtwqOKVkgACSABJBB9AmGv7Xw+n0aj6erqCuUTql0oMngeCSABJIAE4k0gErWDd6hdXO1cZhn+EziBSMajwEND91xmGeZX2sMgkvxKzzYStTMYDMAvIaDaSUHLIxnx0p5HpBEd5lcaeQwVRST5lZ6t3W4vLS0NLy6TyQR8mRyqHaqdFAiEmkekcT68K59YSYOAtKOIJL/Ss41kbWexWBwORygmqHZSmOtDZXcx56U9j0gjusXkMVQdaRCQdhShcpeY5yNRu6Kior1794bihmqHaicFAjgbhrrCpU1GGtGFyl1ino9E7UpKSoBPL6DaSWGuj+SqkMZ8Ie0oML+Y30jGgLhsI3luByslqh2qnRQI4GwYakaTNhlpRBcqd4l5HlYsmAlsi2onhbkeHgFwqTTmC2lHAWcQLpU2GWlEB2cw0UphxYJpwLaodqh2UiAgjVkvVBTwFQ6XhmoTzwuHAJzBRCuFFQumAdui2klhrodHAFwqnGsePQlFAM4gXBqqTTwvHAJwBhOtNJLvyUS1k4KewVdmJNcD3LIQSk2PZT1zd+aJV7YLwZkl8UEy+Z0x5j5zd+aLu9fPxxgqy7Mm1uQv310336T9z1ufuTuz7KlN84vEdSaS/ErPFlYsOF7YVmpru2fuzjz0563iGuuRewuPALg08t5j3cJ3vpCWnZHU+IctUe/I8kS2/tGsqDcb9QbhDMKlUXcmkgan9LkURWVnJM1vJFSWp42sycY1C5jkPbKRoqgf37RmfmviOgNnMNFKYcWCacC2klK7fc9soShK91MRzF/RvRrhEQCXRtcTEbU2Y8zdkpn01WtWCd9nOINwqaCiA9QulJ+odnB+pVcKKxYcL2wrdLU78Pwln79i+ZoV1LUfW/7C7vWzplyXWTalz/3F1zJ25qRmZyT9+KY1r7/ILuZe3L1+fRpFUVRWetK9n1/tMsvepHfcfe3qrPSkrPSk730pbTwvh1xRL31//db1ydkZSb++a+1v/nOtLDvF8bvNpCjvkY1XbV+2MpWSZac8eWfGhI7tzvBoliw75ZUfbrjpqpU7Nibr/Ye/+FoGMXmT3iHLTvnc5ctDXa5xOA+PALg0Du5F2MUP/2ONLDvlwPOXjGpyZNkpX7tm1f5ntnxKlrp1ffLv786c0rM5Ikl5Yff6n96avnFN0pbMJNVDG0m/d+xaJctO6X2VvRE6Y8yVZadcc1nq0b9t274hmaKoVf5cDyl3ROhkTM3hDMKlMXWMb+NE7bZkJtX9fsunL03dviH5D/eey2Agyy6z7O28nPu+mLZ2FXXV9mWVv9kcvLbr+MvWT1+amr6SuuXqlX+/f31gbTdryn3+W+su25Syejk7VwRu8Hz3i2my7JQjL2796jWr1qVRu69P63ppG1+3Y10fzmCilcKKBdOAbQWtdide2b48hUpOon5045rPXr6coijNw+wU9n/fWUdR1F2fWfWb/1xLUdRtn1rpMsvKn9q0MyeVotjL4JUfbHCZZddcxh7+7PaMJ+7IoCjq29elucyyut+z678kirr/hjUf37ps45okiqL2Ps2qneoh9sZI+krqp7emX745JWCi/Al7/hPblq1eTt169crTzI6UJGrT2iQivcTqoZvTY31JAO3DIwAuBZoVSNFtn1pJUZTjd5sndOxNrc2ZSbLslDs/vWoZq1ZU5W/Y3Cl+zOYoKz3p05em3nPtaraAosi8RkZF98vsHBdYKJySb7/bX+3S7JTHb884qz33TkggIXPcgDMIl3KaWtpDonZZ6UmXZqfcsWtVCnvxnctgIMsfpolcsNkZSY/emr5jI5tmcidz1pSbm8UeXnfF8nuuXZ3pz/OD/juZ//ttdk64/soVL+xevyUzaV0aRXJ6y9Xs4LnmstQbPrFiSybb3w9uENydTziDiVaaoLtUyKD/7zvZVdSb9I7/+OSKR29lRcXyRPaLu9cPKtj34/9+ybLkJIq8fvjm9MCdzP3+u5qfuSyVXN7/79+WJydRbyl2PHjTGoqiSDtT+twVy9jrrea37IxJLiSifG/n5ST7L8XeV7er/Sq4dhXVLz+3UeKr16yiKIo8SfrGZ9lrLhZPlRY/MUVyPSy+l6WqGZgHyVxJUVS5f2PC7+/OpCjqiTvY4UFytG19MnkLctdn2AQ9e0+myyxbUO1cZhkZIXgnM55pDWSQbC15xp/BJ/0XeCDLLrMsO4O99sg1ZXkiO6B2jt+x67yt65OJz+T9ClG7TWtZk5P/YK/Qv3yXVT75A+xbXtLs/V9mFe7o37ZRFLVj4znzeAYO9xXJ9Ss9W3h9BscL2wp6bXfLTvZ92fx9BGdUO7SPbLz386tv/OSKDHZao9r+7xKXWRasdvSDGyiKWp9G7ZKl7pKlkjVc03NbSJvaR87d5vqcf8lY89vN43k5bEPUubeEgVmy8jebyUx601XsCpL8s/6cvQJ//tWMaWNuxirq0uyUQNGSvIBHAFy6JA7z6jQwD5K5cnkKNem/e1n21CaKou7YxT54Izn6+mfOPYR79h5WCH90IzvHodrxoh3TykAGA1kmK3iKosijh95XtwfUjtxHIfdyXGbZn+9jVe3Bm9aMac5dvORiJzdmHr+dfRtEmt3z+Lln+ensjEK9Y2DvfgvnH3yFJloprFgwDdhW0Gp3/ZUrKIqyPJHNGZc3fII9/6Mb1/z1e+tl2ewtx/lq98oPWLX7xLZlT921NvDvyItbb7qKHe+G8zvxrv0Ye4O05rebz6h2UBSVmvLRlUCEsOSXm8hM+pOvfHSv8h1DblZ60hVbUuqfZe+L/vo/13I8jPMhPALg0ji7GkZ3gXmQzJWBHX1kU1Kw2n33i+zNapdZ9if/PEje0RO1O/o39k4myTK5LYZruzByEaEJkMFAlkfUrHQtS6amjawmnWbYC5Ok7J8PsBf1Nz/LPpV3mWUv+5/bPXjTmiElWyc5iQpc6U/dtTb/cXbeCDRLTMiqEdUOnhOWthRWLNg32FbQavf9L7HbTp7+BqslE7rc73wh7ae3pvf8nb0d8cnty8imAzJ8W4PWduTZHnnjf3XuuTuZo5qcGf/Fc/+X2TuZ5ObJtDF3Jfto79ydzA3+Z3jNf2SXie8Yzt3kPP7yNqJ2nCdzj93G3jX90Y1sa0f822QinAgiMYdHAFwaSb/xsQ1MWMBcSRfhLbUAACAASURBVHL08a3sqHCZZd++7qORc7P/DgF5z1T43x/dFiNqF1goxCeW8HqBMwiXhtdjjKyADAay/OGibTX7FpQiO01Kfsmu4Inakdcf23LuVsru69kskzuZZNFGns5O6HLJ/jJUO3hsCLMUVizYZ9hW0GpHVk7ZGUnKn2x8wK8r91y7eliVk5pCrUylzD/Luu+LaUSiXvr++kl97h/uZe9f3Xr1yvpnt0zpc7etZx+9PXtPZumvNq1LYwVyQpdb7r/9lZrCbkW5Ojd1rf9GKHlu99tvsuafkqWaf5Z156fZgluuZu9eLqh2h/68laKolCQqIKgxmiAW0yw8AuDSxbS/tHUC8yAwV5IcLUtmn8i+sHt9Grv4p177E/vG5YXd7M69K7akPHdv5s6c1GXJ7P1tl1l2/GX2bVNWelLRz7NHNbhLJR539oAMBrL8YWr+63Pss/DrrliufzRr5w720TpJ2Vltzhp/Zp+4I+NP960ju1Qe8N+vJk8xbt+1surpzV/ZuTIliTrwPJv94GYDTwRxbQfPCUtbmqC7VD4cnfIHNpDPFSxPYe9gjKjZWenpb6zNWMUqzXe+kNb6f5cE1mSBbeW7ZOySrvmPl3xyO3upLEumPn/FcvJBBZdZ9vu7MzdnJuVmsfvXyX6TWv8ulUl97pN3Zqzyr/aWJbPdvUmzG2EWVLvAA6E/37fAtzzEWR4iGZ1xdjWM7gITFjBXkhzdf8Macpd7WTL1h3vZLSous6z31e137FqV5P9Q896nN2dnJK1ezqqdyyy7Yxf7niYliXL+VXC70oNBSSa/QAYDWXaZZT1/33blVvbKXbuK/fjsqlQqkDLTY1lk5Xfl1mWv/JC9sbn7evb29bAq555rV5OdZZdvTmF+zG5RQbWLZOQslS28PoO9gm0FvbYLXPAD9A7O27FJfW7g83MzxtzgHeRv+fdqBmyHVTmBmuSzesf+to3c8QjswwwcusyyWVNu3z+3k2cGgUbmv5jSs59NTk2hTp3fqDm/TtzOwCMALo2bkzHtKPgdyRnVDvIhvOAeh1ULr96GlDvILe7gykJ7DWcQLhVaLIv35016B9lhyzGZNuZyrvFAhXcMuWR7duCMKF7AGUy0UlixYBqwrTjULopD9ujftq1MZb+76JUfbrj/Bvap2zWXpS54UQGd/uY/15LtLT/z7/sCasanCB4BcGl8PIx1L8FqF+u+4t8+nEG4NP7eYo98CcAZTLRSWLFgGrBtwqmdyyyz/SL7q9esys5I2rExeff1aX3/5P11wzt3LPvk9mX/882189cQfAd6VOrDIwAujYoDS96I+WdZWelJv/r6Em+OjREHOINwaYxcwmajSADOYKKVwooF04BtE1HtojhMBdIUPALgUoGEgG4ABOAMwqVAs1gkEAJwBhOtFFYsmAZsi2oXj61osb6o4BEAl8baN2w/cgJwBuHSyHvHFmJNAM5gopXa7fbS0tLwoka1k4KewddbeCODWMEtY6kQCGB+hZCF2PkQSX6lZwsrFhwvbItrOyloITwC4NLYXcPYcrQIwBmES6PlA7YTOwJwBhOtFFYsmAZsi2qHaicFArGbiYTQMnyFw6VC8B99gAnAGUy0UlixYBqwLapddOb6d8z/PmO+DB7TsSuFRwBcGjuvsOVoEYAzCJdGywe+7cyYLxswfIGvVWLWhzOYaKWwYsE0YNuLqx3cOpYSAtXV1UqlEmksOQF4uC+5e4njgFKprK6uTpx4MdJoEYjkEoZtUe2ilSOfwWBQqVTHjx+PWovYEH8C8HDn3x5a8CZw/PhxvV5vMpl4W6IBEvD5lnJPJvJfPIGGhgaGYVQq1b59+yYmJhZviDWjRQDVLlok+bYzMTGxb98+lUrFMExDQwNfc6yPBAiBSC5h2BbXdlEeY16vt7Oz02Qy0TSt0WjKy8u7u7uj3Ac2F5pAJG8MQ7eKJSEJ9PT0lJeXazQamqZNJlNnZ6fX6w1ZGwuQwMUIwIoFW8O2qHYwvfBLPR5PR0dHUVGRUqmkaVqn09nt9q6uLrfbHX6jaHkxAvBwv5g1ll+cgNvt7urqstvtOp2OpmmFQlFUVNTR0eHxeC5ujDWQwMUIRHIJw7aodhdjH43yqamplpYWq9WqVqtpmlYqlfn5+Q6Ho7u7e25uLho9YBvnCMDDHTGFQWBubq6np8fhcOTn55O3bmq12mq1trS0TE1NhdEgmiABgEAklzBsi2oHYI9JkcfjOXnyZPDcoVQqjUZjRUVFR0cHPu2LEDo83CNsPEHMJyYmOjo6KioqjEYjkbfA+7OTJ0/iGi5BhsFShRnJJQzbototVU7P9evxeHp7exsaGqxWq1arlcvl5IFfQUHBvn37urq6pqenl9hFUXWPz+34pmt6erqrq2vfvn0FBQXk8ZtcLtdqtVartaGhobe3F+WNL1KsHwmBpfzt8kj8RtswCExOTjqdzpqaGovFotFo5P4/jUZTWFhYW1vrdDpx/QdQhd/cAYYJUjQxMeF0OmtrawsLC4NHl8ViqampcTqdk5OTCYICwxQmgUguYdgW13bCzPgFXo2Pj3d2dtbU1OTn55Mnf2T9l5+fX1VV1dHRMTIycoFBAh/Awz3RwIyNjXV0dFRVVeXn55N1G03TarU6Pz+/pqams7NzfHw80ZhgvAInEMklDNui2gk89Qu7Nzk5efToUYfDUVhYqNVqGYahaVqlUplMpsrKyra2tsHBwcTcCA4P94VpSuKs1+sdHBxsa2urrKw0mUwqlYqmaYZhtFptYWGhw+E4evQortskkWqJBxHJJQzbotpJZOi4XK6enp66urqioiKdTqdQKMjmT6PRWFZW1traevr06UTQv0hu+otoKHi93tOnT7e2ttrt9sBeEoVCodPpioqK6urqenp6XC6XiCJCV5EAIQArFkwJtkW1g+mJuHRubq6vr6+xsbG0tFSv1wfrX0VFRVtb29DQkIjDC+E6PNxDGIng9NDQ0GuvvRa8T1KhUOj1+tLS0sbGxr6+PvwoiwiyiC4ugkAklzBsi2q3CPxSqTI3N3fy5MmGhgabzabT6QL3P81mc3V1tdPpnJ2dFXus8HAXS3Szs7NHjx6tqakxm82Be5I6nc5mszU0NJw8eRK1TSypRD/5EojkEoZtUe345kJS9d1ud09PT2D3uVwuZxhGr9eXlJQcPHhwcHBQdNHCw12w4QwNDbW2tpaUlOj1eoZh5HK5Wq22WCz79u3r6enB798RbOLQsagTiORDRPDlj2oX9WSJu0Ey7ZaVlZGbn3K5XKPRFBUVNTc3Dw8PCz+2SC6VeEY3PDzc3NxcVFREPgbAMIxOpyspKWltbZXkHeZ4ssW+RE0AViw4NNgW1Q6ml+ilLpers7OzoqKCrDlomtZqtWVlZe3t7cLc4AcP9yVM5+TkZHt7e1lZmVarpf1/er2+oqKis7NzZmZmCR3DrpGAoAhEcgnDtqh2gkq00J0ZHx9va2srLS3Ny8sj3whsMpn27ds3MDAgENfh4R5nJwcGBvbt22cymcgWoby8vNLS0ra2NvyUW5wTgd2JiEAklzBsi2onomEgOFdPnz5dV1dnNpvJbG4wGKqrq5dW+eDhHgeCAwMD1dXVBoOBvBswm811dXWnT5+OQ9fYBRKQAIFILmHYFtVOAsNDECFMTEw0NTXl5+eTTRYmk6mpqYnXl3z29PQcPXo0vGB6e3s7Ozt9QT983NnZ2dvbG15rR48e7enpWbzt9PR0U1OTyWQi23zy8/MbGxvxC94WDxBrIoEAAVixAtUWfAHbototCA1PRkRgbGzM4XDo9XryDS8VFRWL2d45NjaWn58fXseTk5NGo9Hn8wWGu9FoDPvJosViGRsbu6gng4ODFRUV5BMCer3e4XDgV7hdFBpWQAIwgcAlDFdbsBS2RbVbEBqejA4Bj8fjdDoLCgrIbb3y8vLgDYder/eDDz4I7ikvLy/sLRtE3shwD4hfcOOLfD07O6vVaoMrf/DBB8GfRBwaGiovLyc3bwsKCpxOJ/5KQDAufI0EIiEQybZqVLtIyKNt1Ah0d3cXFRWRbyV2OBxut3tmZmbv3r3vv/9+oA/yI0eBQ14vGhoanE4nGe5Op7OhoYGXeaDy8ePHHQ5H4PD999/fu3fvzMyM2+12OBzkW7mLioq6u7sDdfAFEkAC0SIAKxbcC2yLazuYHpZGmYDX621vbzeZTDRNW61WMjrfe+890s2JEyeqqqrC67K/v7+iooJ8T2ZFRUV/f3947VRXV584cYLYvvfee6RBq9VK07TJZGpvb0+ErxsNDx1aIYHICcCKBbcP26LawfSwNFYEzp49W1xcTNN0Xl6e2Wz+17/+5fP53G63Wq0OT07m5uZUKlVZWVlpaalKpQrvu7U++OADtVpNvrvkX//6l9lsJp+1KC4uPnv2bKxYYLtIAAmcJwAr1vlaC/8ftkW1W5gano0PAbfbbbfbyVbGd955x+fzFRUVBT/b4+VGsf+vqKiopKSEl2Gg8pkzZ4qKinw+3zvvvEM2l9rtdvzirgAffIEEYk0AViy4d9gW1Q6mh6XxIDAzM6PX6+Vy+aFDh1577bXW1tbwem1vby8oKLBYLB0dHeG10Nra+tprrx06dEgul+v1+rC3zITXO1ohASQAKxbMB7ZFtYPpYWn8CDQ0NMjl8v379xcWFobX6+joqML/Nzo6Gl4LhYWF+/fvl8vlYW9yCa9ftEICSIAQgBULpgTbotrB9LA0rgSOHDki9/+9++674XVMzMOzfffdd4n5kSNHwmsBrZAAEoiQQCQ/yIxqFyF8NI8rAafTKZfL7XZ7eL1GonYVFRVyuRylLjzyaIUEokIAViy4C9gW13YwPemXuswyof3r11+/VC4tYddAyNIfhRghEjhPAFas87UW/j9si2q3MLXEOQtMslgkEAKJMxoxUiQAKxbMB7ZFtYPpSb9UIBM6ugEQkP4oxAiRwHkCsGKdr7Xw/2FbVLuFqSXOWWCSxSKBEEic0YiRIgFYsWA+sC2qHUxP+qUCmdDRDYCA9EchRogEzhOAFet8rYX/D9ui2i1MLXHOApMsFgmEQOKMRowUCcCKBfOBbVHtYHrSLxXIhI5uAASkPwoxQiRwngD+4s95Evj/aBMAJlksEgiBaOcc20MCwiUAr89gv2FbXNvB9KRfKpAJHd0ACEh/FGKESOA8AVixztda+P+wLardwtQS5ywwyWKRQAgkzmjESJEArFgwH9gW1Q6mJ/1SgUzoEboxY8x95u7MF3evn9/OoT9vfebuzPKnNs0v4num3d9UWTSa4tW19EchRogEzhOAFet8rYX/D9ui2i1MLXHO8pp2BVt5Sp9LUVR2RtJ8D80/y8rOSPrV19fOL+J7Ju+RjRRF/fimNXwNI6yfOKMRI0UCsGLBfGBbVDuYnvRLI5yIBWIOqF0UPUS1k/71gBEuNQFYsWDvYFtUO5ie9EujKAaLb+pv31t/xZaUtauob3529d6nNxPD8bycR25Jz9mYvCqV2pmTuufxLHLe+FiWLDvlnw9s+MXXMjasSbruiuU9f99meizrsk0pu2Sp9l+ztyiJ2m1am1T21KadOalrV1H3f3nNlD7XZZYVPpkty0757TczXWZZoKnnv7XuknXJ135sue0X2aSXN+kdd1+7Ois9KSs96XtfShvPyyHnO/6y9dOXpqavpG65euXf71+PazvpXxIY4ZISgBULdg22RbWD6Um/lMzp8fzvy37N2LQ26Yk7MrIzktasoN6kd7jMsluvXklR1JVblz18c/rq5RRFUdafs1Kkeoi9f7gzJ/Xq3NRL1iVTFPWVnStzNiZ/4d/ZSjkbkwNql7aCPXzwpjVrVrDmf/z2OpdZpvabP3RzeqCpT1+amrMx+borWPP1adSsiRXFay5LpSjqZ7dnPHFHBkVR374uzWWWzZpyc7PYHj+U2HuuXZ25mm32QbyTKf3LAiNcMgL4ebslQy/5juOpc6Sv7RtY/Wj+4yUus8z0WNbNO1fueTzr4B8voShqw5okoj3knuHnLl8ekKsdG5OnjblNz21hBYei6p/d4jLLdmxkmzrxynaytgucN/8siwhkwJyoHVG+rPSkSf+yb+eOZRRFHXjukv3PsM1+5rJU4uH/+7flyUnUW4odjt9tpihq63pWUF1m2d3XsnKHaif5iwIDXEIC8PoMdgy2xbUdTE/6pXFWu/G8HIqikpMoojeB3pU/YRdwt169kpzpemkbRVGZq6mAXN1z7WqXWUbMV6ZS00Z2QUaWg1VPbyZql3K+WWK+Lu0j82C1+8Zn2aZcZtn3v5RGUZT2kY30gxvIOu/DW6O7ZKkb1yRRFNX03BayrLztU+e8+vN961DtpH9JYIRLSgBWLNg12BbVDqYn/dKA3sTnxVuKHR/eY1yeck6uAp3+44es3nzzvA71y7dTFJW2gitXLrOMoqis9HN7L+/6zCqKogJql7bi3G3J3ldZ84xVXPPgu5ous+yhm9OJ2r3yA7b3T2xb9tRdawP/jry49Z8PXOAVuQeLazvpXxUY4dIRgBUL9gu2RbWD6Um/NKA3cXuRzj6eozr/stVlljl+t/k7X0jTPLyx+n/Ye4a5WefuGVqeyF7wViSsdhRFHXmRbdb2C9b8yq3LAkvD4LUdeR2sdmVPbaIo6urcc3cyRzU5M/61Y8kv2fMf25JC4Oy+nl0LotpJ/6rACJeOAKxYsF+wLaodTE/6pXETuUBHj93Grqi+8O/LC57M3pnD7g0peDJ7xph71Xb2KdoPblijeXjjZZtSPnxgpnpoI0euQqndhI79vF0SRV37seWGR7M+sY1t6qm72M/YBa/ngl8Hq92UPnfb+uQkinr2nszSX21al0Z9cvuyCV3uWW0O2fDyxB0Zf7pvHdml8sCN+Hk76V8XGOFSEYAVC/YKtkW1g+lJvzQgQnF7MabJ2X192jJ2fwm7LeWv3zv3BSjHX952wyf8myn9T+z+dN86smOFI1EL3sk8o2JvkP7b5pTn7s1cyQoodeMnVwyr2E8RBJsHvw5WO5dZ1vzHSz7pl9tlydTnr1j+un+NSPbRkA2iV25d9or/duvu69ntmvH8J/1RiBEigfMEYMU6X2vh/8O2qHYLU0ucs/GctYP7mjbmnpJvDz5DXk/ocgf8H0iYX7TIM1P63DMq9iMNYfwbVuUEPmkXMJ825r6lCLPBQCORvEic0YiRIgFYsWA+sC2qHUxP+qWRzMJoGx8C0h+FGCESOE8AVqzztRb+P2yLarcwtcQ5G5/5GnuJhEDijEaMFAngp8txDMSKQCSzMNrGh0Csco/tIgHhEYDXZ7C/sC2u7WB60i+Nz3yNvURCQPqjECNEAucJwIp1vtbC/4dtUe0WppY4ZyOZhdE2PgQSZzRipEgAViyYD2yLagfTk35pfOZr7CUSAtIfhRghEjhPAFas87UW/j9si2q3MLXEORvJLIy28SGQOKMRI0UCsGLBfGBbVDuYnvRL4zNfYy+REJD+KMQIkcB5ArBina+18P9hW1S7hanhWWES8Hg8NE3r9frw3NPr9TRNezye8MzRCgkggVgTgBUL7h22RbWD6WGpgAjU1tbK5XK1Wh2JTzRNy+Xy2traSBpBWySABGJEoKysrLy8PLzGUe3C44ZWQiHw9ttv79mzh/b/WSyWyN2yWCyktT179rz99tuRN4gtIAEkEC0CsGLBvcC2uLaD6WHpkhHo7e01Go0Mw9A0rVAoKisro+tKZWWlQqGgaZphGJPJ1NvbG932sTUkgATCIAArFtwgbItqB9PD0rgScLvdNTU1arWarL0UCkVRUdHU1FTsnJiamioqKiKaStO0Wq2uqalxu92x6xFbRgJIACAAKxZg6PP5YFtUO5gelsaDQEtLi8FgIJIjl8s1Gk1VVVWc95J4PJ6qqiqNRiOXy8mCz2AwtLS0xCN+7AMJIIHzBGDFOl9r4f/Dtqh2C1PDs7Em0NraajQayRpOLpcrlcqioqKzZ8/Gut/FtH/27FmbzaZUKony0TRtMBhaW1sXY4t1kAASiIQArFhwy7Atqh1MD0ujSSBY4WiaViqVBQUFfX190ewj2m29+eabBQUF5Akf0Waj0YhrvmhjxvaQwDkCsGLBmGBbVDuYHpZGSqC9vT2whiMKV1hYKNItIb29vYWFhUqlksgeTdNGo7G9vT1SRmiPBJDAeQKwYp2vtfD/YVtUu4Wp4dlICBw7dsxkMpFPtpEdlVarVeBrOL7x9vX1Wa1WsuYjNzxNJtOxY8f4toP1kQASCCYAK1ZwzfmvYVtUu/nE8Ew4BNxud2VlZWDdwzDMnj17uru7w2lLbDbd3d179uwJbOxUKpWVlZW4sVNsaUR/BUEAf81VEGlAJ+YTOHHihMlkCkz0Wq22ubl5frXEOdPc3KzVagO3Ok0mU4JIfuKkGCONKQF4fQZ3Ddvi2g6mh6ULEPB4PDU1NcGb9a1Wq0C2Uy7g7hKdGh0dtVqtgfcBKpUq/h+rWKLQsVskED4BWLHgdmFbVDuYHpZ+RGBqaqqgoCAwfWs0mvr6+o+K8VVoAnV1dWq1mjzeUygUBQUFMf3IfGhHsAQJCJ0ArFiw97Atqh1MD0t9MzMzNpstIHL5+fmnTp1CLuEROH36dOBbOhmGsdlsMzMz4TWFVkhAkgRgxYJDhm1R7WB6CV1aVVVFRI5sORkdHU1oHFENfnR0NLCxhWGYqqqqqDaPjSEBsRKAFQuOCrZFtYPpJWLpmTNndDpd4JPUuJKL6SA4depU4POIOp3uzJkzMe0OG0cCAicAKxbsPGyLagfTS6zS2tpa8gEyhUKBz+TinPv6+voAfPz5vTjDx+6EQwBWLNhP2BbVDqaXKKWVlZVkD4XBYMA7lkuY9dHRUYPBQD6YH/UfOVrCuLBrJLBIArBiwY3Atqh2MD0plI6MjCiVylCR2O12onNWqzVUHTwffwJWq5Vont1uD9W7QqEYGRkJVYrnkYAYCeBvl4sxa0LxubGx0WAwzPdm//795OFcYWHh/FI8IwQChYWFJEf79++f74/BYGhqapp/Hs8gAfESgNdncFywLa7tYHpSKC0oKOBs+RsaGiKPiGw2mxQilHoMNpuNfN3o0NBQcKzV1dUWiyX4DL5GAmInACsWHB1si2oH05NCqUqlCv7yKp1OJ5fLFQoFPp8TUXZHR0cVCoVcLtfpdAG3e3p6gHvUgWr4AgmIiACsWHAgsC2qHUxP9KVut5umafI74FNTU+RRUE1NjegDS8gAampqyDsV8lUsHo+HpmmXy5WQMDBoaRKAFQuOGbZFtYPpib709ddf12g0Pp/v2LFjROqGh4dFH1UCBzA8PEx2FZFfF1Kr1UeOHElgHhi61AjAigVHC9ui2sH0RF9qt9ttNtvrr79ONjvgFj7RZ9TnGxkZIdns6Oiw2WxlZWUSCApDQAKEAKxYMCXYFtUOpif6Uq1W29TURFYDg4ODoo8HA/ATGBwcJCv1pqYmrVaLVJCAZAjAigWHCdui2sH0RF9KFgFyuXxgYED0wWAAQQQGBgbImxiapoNO40skIG4CsGLBscG2qHYwPXGXkglRLpf39fWJOxL0fiECfX19cv8fvpVZCA+eEyUBWLHgkGBbVDuYnrhLyVTY0dEh7jDQ+9AEOjo6SJZDV8ESJCAmArBiwZHAtqh2XHq3vnQa/wmcADdnfI4FHhq6d+tLp/nkE+tKjQCsWHC0sC2qHZceTjfCJ8DNGZ9j4UeHHvLJJ9aVGgFYseBoYVtUOy49nGuET4CbMz7Hwo8OPeSTT6wrNQKwYsHRwraodlx6ONcInwA3Z3yOhR8desgnn1hXagRgxYKjhW1R7bj0cK4RPgFuzvgcCz869JBPPrGu1AjAigVHC9ui2nHp4VwjfALcnPE5Fn506CGffGJdqRGAFQuOFrZFtePSw7lG+AS4OeNzLPzo0EM++cS6UiMAKxYcLWyLaselh3ON8Alwc8bnWPjRoYd88ol1pUYAViw4WtgW1Y5LD+ca4RPg5ozPsfCjQw/55BPrSo1AWVlZeXl5eFGh2vHjhnON8Anwy+iFtYUfHXp4YcbwKLEIwIoFs4BtcW3HpSfSueY5+1ntgcn7VEMB/7/+j8HbX5bm98Jwc8bnOMBHXC8umt/bXjqtPTD5z7oJccW1oLd88ol1pUYAViw4WtgW1Y5Lb8HLT/gna7pm3559/7E9I7e+dPrXRaPtA+++9/4H0+7363pmHzYOC99/Xh5yc8bnmFdHwql80fze8Xf2C7fGZ94Xjs9he8Inn1hXagRgxYKjhW1R7bj0wr5EBWJ4599Pj77jcc1585onK50zPp/v9NvvCcS3aLnBzRmf42j5sFTthMovqh2fUYB1hUsAVizYb9gW1Y5Lb6lmsQj7tR+ZeWvivZ+ahh/Un6l0zry6n72jddtLp93veX0+352vsLc0v/bKoK1j+syk590574mRuT+Un42w06Uy5+aMz/FS+RxhvxfNL1G7sWnP4/kj3Wf+NTzlUTdN3vF3Ud7K5pNPrCs1ArBiwdHCtqh2XHoRzkpLZX6w912fz/ekhb2TGfj3pGXE5/OdmfKQMy19bJ1TZ+eKO6ddc6wK/q5kLFBZRC+4OeNzLKIwg129aH6J2r09+/5bE+81n3S99/4HPp/vV9bR4EbE8ppPPrGu1AjAigVHC9ui2nHpiWVG4Pg5fzb8Yd6Zt2ff9/l8L1SN3/rS6UeMwz6fb9J17rnO/1WO+3y+o2/9i9OOKA65OeNzLIoA5zt50fwStfP5fL+2sQqnPTDp8/ksr70zvynhn+GTT6wrNQKwYsHRwraodlx6wp8LFvSQMxv+QHvm7IzH5/OZ26ZI/ReqWHlr6XuXHH5fM+Tz+d55V5SbGrg543O8ID3hn7xofona/cvjvdN/9/LXtlGfz9d80iX80OZ7yCefWFdqBGDFgqOFbVHtuPTmX3uiOBM8G96vZuUIHwAAIABJREFUHTo74/F+8AF5ekf8f6n2bZ/PV9czSw6/pXjL5/O5/uUVRXQcJ7k543PMaUoshxfNL1G7wJ5MchMb1Y7P0MC6giAAKxbsImyLaselJ5bpj+NnYDa87aXTJ0bmfD7fX2veDq7ziwL2zf7Q5Ln9mc+Wjfl8vhMjc8F1xPKamzM+x2KJkePnRfOLasdnFGBd4RKAFQv2G7ZFtePS48wyYjkMzIZ/q2HXcO73vDXHZgL/7tcO3fbS6d5RVgUrjsz8ae/44MR7Pp/vL/5HemKJMeAnN2d8jgONiOvFRfOLasdnFGBd4RKAFQv2G7ZFtePSE9ckGPA2MBua26a4Ifl8T+SzezW/px7qGHC/72V3673z7vtMvVi/d2N+gIs/EyAmrhcXzS+q3eLHANYUMgFYsWDPYVtUOy49cU2CYXh75yun72HeCsNQOCbcnPE5Fk4U6EkoAnzyiXWlRgBWLDha2BbVjksv1BWI54VDgJszPsfCiQI9CUWATz6xrtQIwIoFRwvbotpx6YW6AvG8cAhwc8bnWDhRoCehCPDJJ9aVGgFYseBoYVtUOy69UFcgnhcOAW7O+BwLJwr0JBQBPvnEulIjACsWHC1si2rHpRfqCsTzwiHAzRmfY+FEgZ6EIsAnn1hXagRgxYKjhW1R7bj0Ql2BeF44BLg543MsnCjQk1AE+OQT60qNAKxYcLSwLaodl16oKxDPC4cAN2d8joUTBXoSigCffGJdqRGw2+2lpaXhRYVqx49bqCsQzwuHAL+MXlhbOFGgJ6EIXJgxPEosArBiwSxgW1zbcemFugLxvHAIcHPG51g4UaAnoQjwySfWlRoBWLHgaGFbVDuYnuhL4fSLPryEDwDzm/BDQGoAIhnSsC2qndTGCiceOP2cyngoOgKYX9GlDB2GCUQypGFbVDuYvOhL4fSLPryEDwDzm/BDQGoAIhnSsC2qndTGCiceOP2cyngoOgKYX9GlDB2GCUQypGFbVDuYvOhL4fSLPryEDwDzm/BDQGoAIhnSsC2qndTGCiceOP2cyngoOgKYX9GlDB2GCUQypGFbVDuYvOhL4fSLPryEDwDzm/BDQGoAIhnSsC2qndTGCiceOP2cyngoOgKYX9GlDB2GCUQypGFbVDuYvOhL4fSLPryEDwDzm/BDQGoAIhnSsC2qndTGCiceOP2cyngoOgKYX9GlDB2GCUQypGFbVDuYvOhL4fSLPryEDwDzm/BDQGoAIhnSsC2qndTGCiceOP2cyngoOgKYX9GlDB2GCUQypGFbVDuYvOhL4fSLPryEDwDzm/BDQGoAIhnSsC2qndTGCiceOP2cyngoOgKYX9GlDB2GCUQypGFbVDuYvOhL4fSLPryEDwDzm/BDQGoAIhnSsC2qndTGCiceOP2cyngoOgKYX9GlDB2GCUQypGFbVDuYvOhL4fSLPryEDwDzm/BDQGoAIhnSsC2qndTGCiceOP2cyngoOgKYX9GlDB2GCZSVlZWXl8N1QpXClwOqXShuEjkPp18iQSZwGJjfBE6+NEOPZEjDtqh20hwxvb29nZ2dPp8vkP7Ozs7e3l5pRpt4UWF+Ey/niRJxYMoKI2DYFtUuDKQiMJmcnDQajcFqZzQaJycnReA6urgIApjfRUDCKqIkACsWHBJsi2oH0xNxKZE3kv7A5CjieND1Cwlgfi/kgUcSIQArFhwkbItqB9MTcWlDQ4PT6STpdzqdDQ0NIg4GXZ9HAPM7DwmekAIBWLHgCGFbVDuYnohL+/v7KyoqSPorKir6+/tFHAy6Po8A5nceEjwhBQKwYsERwraodjA9EZfOzc2pVKqysrLS0lKVSjU3NyfiYND1eQQwv/OQ4AkpEIAVC44QtkW1g+mJu7TY/2ez2YqLi8UdCXq/EAHM70JU8Jy4CcCKBccG26LawfTEXdre3l5QUJCfn9/R0SHuSND7hQhgfheigufETQBWLDg22BbVDqYn7tLR0VGF/290dFTckaD3CxHA/C5EBc+JmwCsWHBssC2qHUxP9KVy/5/ow8AAQhDA/IYAg6fFSgBWLDgq2BbVDqYn+lKNRqPT6UQfBgYQggDmNwQYPC1WArBiwVHBtqh2XHouswz/CZwAN2d8jgUeGrrnMsv45BPrSo0ArFhwtLAtqh2XHk43wifAzRmfY+FHhx7yySfWlRoBWLHgaGFbVDsuPZxrhE+AmzM+x8KPDj3kk0+sKzUCsGLB0cK2qHZcejjXCJ8AN2d8joUfHXrIJ59YV2oEYMWCo4VtUe249HCuET4Bbs74HAs/OvSQTz6xrtQIwIoFRwvbotpx6eFcI3wC3JzxORZ+dOghn3xiXakRgBULjha2RbXj0sO5RvgEuDnjcyz86NBDPvnEulIjACsWHC1si2rHpYdzjfAJcHPG51j40aGHfPKJdaVGAFYsOFrYFtWOSw/nGuET4OaMz7Hwo0MP+eQT60qNQFlZWXl5eXhRodrx44ZzjfAJ8MvohbWFHx16eGHG8CixCMCKBbOAbXFtx6WHc43wCXBzxudYUNHNGHOfuTvzxd3r53tleizrmbszT7yynVM0a2JN/vLddZzzLrOs/c9bn7k7s+ypTfOLxHWGTz6xrtQIwIoFRwvbotpx6YlrXgC8febuzEN/3gpUgIucf93267vWzppy4WpLUsrNGZ/jJXE4VKdT+lyKorIzkuZX+M4X0rIzkhr/sIVTNG1kTTauWcAk75GNFEX9+KY1HBPRHfLJJ9aVGgFYseBoYVtUOy490U0NCzq875ktFEXpfpq1YOliTj58czpFUTNGVLsYfm8qoHahcoRqx71i8VhaBGDFgmOFbVHtuPRCzTJLeH48L+eRW9JzNiavSqV25qTuefychr3yww2y7JRXf7SB+PbAjWtk2SlNz215cff69WkURVFZ6Un3fn71sCpHlp3ylZ0rC57M/vdLlq1eTu2+Pm1Kz8rYHbtWybJTel9lb5fNGHNl2SnXXJbqMsu+snNlagrbgiw7RfvIxiWMfcGuuTnjc7xgg0t1kqjdlsykut9v+fSlqds3JP/h3kySmh/+B5vNA89f4jLL3s7Lue+LaWtXUVdtX1b5m83Ba7uOv2z99KWp6SupW65e+ff71wfWdrOm3Oe/te6yTSmrl1PXfmx5YJX/3S+mybJTjry49avXrFqXxo6Erpe2LVX4ofrlk0+sKzUCsGLB0cK2qHZceqGuwCU8f+vVKymKunLrsodvTl+9nBUh68+zXWbZs/dkUhT1/LfOPcK5Y9cqiqJqfru5/KlNO3NSKYqdAV/5wYbxvByKolYvp7auT37klvR0trFzVqRa98vsfBe8aPjfb69bxTZA/ez2jLrfc2+mLSEK0jU3Z3yOl9z5YAeI2mWlJ12anXLHrlUpSSzzyt9sdpllt32KzZPjd+zrJ+7IIDc8H701fcfG5IDazZpyc7PYw+uuWH7PtaszV7PmD/rvZP7vt9dRFHX9lSte2L1+S2bSujTqrDbHZZbd4h9L11yWesMnVmzJZPv7wQ2Cu/PJJ59YV2oEYMWCo4VtUe249IInIyG8PvjHSyiK2rAmiTxCI89mPnf5ckDtXGYZuQ9J7mSSKZWiqIZnWd0yPpZFUewa0WWWhVI7l1m2aS07FeJzu5iOgUBqyNaSZ+5m3748eWcGR+2yM9hckGd4lieyA2rn+B27ztu6Ppk4efe1rNwRtSPpO/kPdtX+l++yyid/gL0HQET0/i+zCnf0b9soitqx8Zx5TCPl1Tj3msTjRCIAKxZMArZFtePS43VZxqGy8ifs1oNbr15J+up6iZ2hMldTfNUuJYma9N+9POaf49alsS2g2sUhg0AXRO2Wp5xLTdlTmyiKumPXqoAsOX63eULHbkuhKGo8j12c9b66PaB2qofYsXHbp86NjT/fx6ragzetGdOwq3mKonbJUnfJUi/fzN6Vfvz2j0Q0cDOcLPTfMQjr6Sz3msTjRCIAKxZMArZFtePSA+amJSn6xw83UBT1zc+uJr33y9nJLm3FR2r3+7szSdGXP76C3MlccG2XtuLcQu3kP9gWMlZ9pHZH/8beyTyj2hGYRnFtF59cE7UL7Mkke4s4ajeiZqVrWTI17d8xdJr5KE3/fOCCsfGy/7ndgzetGVKydZKTqKfuWhv4l/84e/c7+Aapyywjq0ZUO+4sgMdLRwBWLNgv2BbVjksvPtPc4nup/h/2blVu1rnbTeRGFrkPqfgx+9b+vz7HCuE7hlzySK/mt+yTHnInU/Mwu8EkcLvs9RfZDyQU/Zy9FXbl1mUus+zmnezDIcsT7DxY+N8f3SILqB3ZMbF4b+NTk5szPsfx8XCRvSxG7VxmGcks2WlS8kt2/Uc+gUBef2xLCulu9/Xs3iRyJ5Ms2sgT2Qld7oTu3OoN1Y7PYMG6S0AAVizYIdgW1Y5Lb5HzVNyqzRhzr9q+jOwm0Dy88bJN7F0p1UOsjJGbWqtSqae/sfZLH19xyTp2w0LV06za/eFe9gnQrVevrH92C5lSk5PYvXn6R7M+vpVt7am71rrMshd2s7v4rtiS8ty9mTtzUpclU+v9dzgDNzn/dN+6Y/6VX9ziXUxH3JzxOV5M+3Grs0i1+6/PsQ/krruCTd/OHWz6SJrOanPWsOt56ok7Mv503zqyS+WBG9lncuTtzu27VlY9vfkrO1emJFFkeyeqHZ/BgnWXgACsWLBDsC2qHZde3Ga6xXd0/OVtN3zCP6v5n9j96b51gc0jv/r62nVp1PIU6udfzXjI/wm5kl+yX6Vx9G/btm9gxW+XLJVMqZszk569J3Olf6flTVetHFadewh0x65VSf4POO99enN2RtLq5ewdTpdZ9uqPNpBtmYE9n4t3ONY1uTnjcxxr33i1v0i16/n7tiv971HWrmI/Q7kqld1hSzoyPZZFVn5Xbl32iv+m9+7r01xm2bAq555rVyf7N3levjmF+fG5j6mg2vEZLFh3CQjAigU7BNui2nHp8Zqt4ll5Qpc7QO+Y32PwfSpO6VsKtn7wlDqlzz2j4jZClI9j6zLLPvycH9kZMb9oac9wc8bneGk9j6T3N+kdgXc5we1MG3NJooNPktfvGHIH/WNgfpGQz/DJJ9aVGgFYseBoYVtUOy49Ic8C4fkWrHbhtSA0K27O+BwLLRb0Zz4BPvnEulIjACsWHC1si2rHpTf/2hP7mSl9blZ60ie2sdtSpPGPmzM+x9IgIO0o+OQT60qNAKxYcLSwLaodl5605xFpRMfNGZ9jaRCQdhR88ol1pUYAViw4WtgW1Y5LT9rziDSi4+aMz7E0CEg7Cj75xLpSIwArFhwtbItqx6Un7XlEGtFxc8bnWBoEpB0Fn3xiXakRgBULjha2RbXj0pP2PCKN6Lg543MsDQLSjoJPPrGu1AjAigVHC9ui2nHpSXsekUZ03JzxOZYGAWlHwSefWFdqBGDFgqOFbVHtuPSkPY9IIzpuzvgcS4NAIIp3zFcEXkvmBZ98Yl2pESgrKysvLw8vKlS78LhJxGrv3r0KhUIiwWAYFxIYHx+Xy+XNzc0XnsYjJCBiArBiwYHBtri2g+mJvtTj8cjlcqPRKPpIMIAgAoODg1arlabpioqKoNP4EgmIngCsWHB4sC2qHUxPCqVzc3MajUatVp88eVIK8SRqDF6vt6urq6SkRKFQ0DRdUlJitVqLi4sTlQfGLU0CsGLBMcO2qHYwPYmUejyexsZGhmH0en1XV5dEokqAMObm5rq6uux2u1arpWlapVIVFxd3d3eT0O12e2lpaQJgwBATiACsWDAI2BbVDqYnqVK32+1wOBQKhUqlqq+vd7vdkgpPKsGcPn26oaHBYrGo1WqicEVFRW1tbdPT05wQ7XZ7WVkZ5yQeIgFRE4AVCw4NtkW1g+lJs/TQoUM6nY6maYvFElgoSDNUwUfl9XoHBgaampqsVqtGo6FpWqFQmEymqqqq7u5uj8cDRIBrOwAOFomUAKxYcFCwLaodTE/KpePj43a7XeH/Ky8vHxsbk3K0goltbm6up6fH4XBYLBaVSkXTNMMwJpOpsrLS6XTOzMws3lNUu8WzwppiIQArFhwFbItqB9NLiNLu7u6CggKapjUaTV1dncvlSoiw4xXk9PS00+ncu3evyWQiG0yUSqXZbK6uru7u7o7kfnJFRQXuUolXGrGfOBGAFQt2ArZFtYPpJVCpx+Npa2szGAw0TRuNxvb2dq/Xm0DxRy/U8fHxQ4cOlZeX6/V6hmHkcrlarS4sLKyvr+/t7Y0i1crKSlS76OUNWxIEAVixYBdhW1Q7mF4ils7Ozu7fv1+tVsvlcqvV2t/fn4gU+MR89uzZtra2kpIS8jSUpmmtVltcXNza2jo0NMSnJX51KysrbTYbPxusjQSETQBWLNh32BbVDqaX0KWDg4OlpaUMw6hUqoaGhrm5uYTGERT8zMxMZ2dneXl5QN50Ol1JSUlbW9vIyEhQxdi+rKioQLWLLWJsPe4EYMWC3YFtUe1geljKEmhvbyfTutVqjeliRci4T548WVtbazKZGIYhzziLiooOHjwYT3nj8KmoqCgqKuKcxEMkIGoCsGLBocG2qHYwPSz9iMDw8LDNZqNpOi8vr62tLYrPnz7qQ0iv5ubmnE6n3W7Py8uTy+UKhcJisdTV1Qnn1i7eyRTSeEFfokMAViy4D9gW1Q6mh6VcAuRrWdRqNcMwZWVls7Oz3BpiPna73e3t7VarlXw2QK1WFxUVHTp0aP4nu4UQZWVlpdVqFYIn6AMSiBYBWLHgXmBbVDuYHpaGJNDf35+fn0/TtM1mm5ycDFlPDAU9PT3l5eXkw91ardZutx89elT4zyn37t2LaieG8YU+8iAAKxbcEGyLagfTw9KLEBgbG7NYLDRNFxYWTkxMXKS2kIonJib27dtHPnGhUCiKioo6Ojoi+fRb/IOrqqpCtYs/duwxpgRgxYK7hm1R7WB6WLooAhMTE0VFRTRN2+12gS+JRkZG9u7dS5ZxZrO5sbFRXCIdnA9Uu2Aa+FoaBGDFgmOEbVHtYHpYyoPA8PAw2bLY0NDAwywuVU+dOmW325VKJfl20I6ODvgrKOPiVKSdVFdX49ouUohoLzACsGLBzsK2qHYwPSzlTaCnp0ft/xPCZxWmpqZqamqUSiXDMFar9dixY7zjEbBBTU0Nqp2A84OuhUMAViy4RdgW1Q6mh6VhEqiurqZpuqamZv4HFSwWC6/vPp7vwczMjMVimX8++ExXV5fJZKJp2mQyHTlyJLhIMq9ramoKCwslEw4GggR8Ph+sWDAi2BbVDqaHpeETGBoaIr+ZPj4+HtxKTU3NiRMngs/wfX3ixImampoFrbxeb319PVnMVVdXi2vXyYIRASdR7QA4WCRSApH8sgeqnUiTLhG3KyoqaJru6ekJxON0OhsbGwOHYbxoamriLNc8Hs/s7GxNTQ3DMFqt1ul0htGs6Exqa2txbSe6rKHDMAFYsSKxxbUdTA9LIyUwNzen1WrlcnlA4UZHRyOcowsLC0dHRwOetbe3azQahmH0en2wrAYqSPVFbW1tQUGBVKPDuBKTAKpdYuZdIlG73W6dTieXyx0Oh8/n83q9KpXqvffeCy88j8ejUqkCjwMPHjxIvtYrQdZzwdBqa2sv+vwyuD6+RgLCJ4BqJ/wcoYcQAZfLRQSPPG8rKSl56623IIPQZW+99VZJSQkpLy0tlcvltbW1oatLuWTfvn2odlJOcELGhmqXkGmXVtAzMzNarZam6YaGhtbW1vb29vDi6+joaG1t9Xg8RD4HBwfDa0cCVg6HA9VOAnnEEIIJoNoF08DXYiUwNTVFvsSkubnZbreHF4bdbj916pTc/yf27+cMj0DAyuFw5OfnBw7xBRKQAAFUOwkkEUNgCUxMTJDfh1OpVOERUalUSqVSLpeL9xu/wgt8vhXeyZzPBM+InQCqndgziP5/RGB8fJyszMKQq4mJCWLL+QzfR60n0qu6ujq8k5lICU+IWFHtEiLNiRMkuRWp0Wj4hqzRaORy+alTp/gaSrJ+XV0d3smUZGYTOShUu0TOPhu7yyzDfwInEP8xWldXZzab498v9ogEYkcA1S52bMXRssAnenTPZZbFfyTV19ej2sUfO/YYUwKodjHFK4LGUU6ETyD+w6ihoQHVLv7YsceYEkC1iyleETQu/LkePYz/MEK1iz9z7DHWBFDtYk1Y6O2jlgifQPzHUENDg8lkin+/2CMSiB0BVLvYsRVHy8Kf69HD+I+kxsZGVLv4Y8ceY0oA1S6meEXQOGqJ8AnEfxg1NTWh2sUfO/YYUwKodjHFK4LGhT/Xo4fxH0aodvFnjj3GmgCqXawJC7191BLhE4j/GGpsbDQajfHvF3tEArEjgGoXO7biaFn4cz16GP+RhGu7+DPHHmNNANUu1oSF3n5CaYnpsaxn7s488cp2TtQzxtxn7s58cfd6zvkwDmdNbFN/+e66MGxDmcR/DB04cADXdvHHjj3GlACqXUzxiqDxUDNsfM47/7rt13etnTXlxqe72z61kqIox+82c7qb0udmZyR9cvsyzvkwDqeNuRRFbVyTFIZtKJP4D6Pm5mZUu/hjxx5jSgDVLqZ4RdB4qBk2PucfvjmdoqgZ4xKrXRSDlYzaGQwGEQxfdBEJLJpAWVlZeXn5oqtfUBFWSuqCunggVAJRnOjH83IeuSU9Z2PyqlRqZ07qnsezSON37Foly07pfZW9fzhjzJVlp1xzWarLLPvKzpWpKRRFUbLsFO0jGzmeHHj+ks9fsXzNCurajy1/Yff6wPov75GNV21ftjKVtXryzowJHauUo5ocWXbK165ZVfqrTZdvTpFlpxgezTrxyvbrrli+OTPpD/dmEkEla7vCJ7Nv2bkyfSX1mctSj/1tm8sse8fAevX//m25yywzPpYly0755wMbnv/WukvWJV/7seW2X2QT32ZNuc9/a91lm1JWL2e9OvTnreT823k5930xbe0q6qrtyyp/s1kCa7uWlhZUO6FesuhXmARgxYIbhW1R7WB6QinlaEwkh7dezd4nvHLrsodvTl+9nJUx689ZndiZk0pRVPfLrK4EL33+99vrVrEl1M9uz6j7/Zbgrk+8sn15CpWcRP3oxjWfvZxtS/MwK4eqhzZSFJW+kvrpremXb2al8tvXpbnMsgkde/9wc2bSFVtSrruCrb9hTdKXP77ilqtXpiSxXTT/8RKXWUbUbvuG5G9fl/bxrcsoivqUjNXdKT1rnp3B3n4kXXz60tScjcmkqfVpFNHa//32Ooqirr9yxQu712/JTFqXRp3V5nwY1BN3ZBDzR29N37ExWQJqd/DgQVQ7oVyi6EeUCMCKBXcC26LawfSEUhqsMZG8PvjHS4jGEGHIe4SVpc9dzq6WQqmdyyzbtJbVosC6LeAA0Y//vjPDZZa9Se/4j0+uePTWdJdZlpvFasnep9kHb2/n5ST7laz31e1EriiKaniWVc1t69lqxIQ09X/fYbeNELUj56f0uWRl2fXStmC1U/sFNSs9aVLPrhp37mBF8cBzrFgSb0/+g12k/uW7rPLJH9jgMsuyM1g/Gv/Adm15IlsCatfa2opqJ5RLFP2IEgFYseBOYFtUO5ieUEoDAhPhC+VPWHm79eqVpJ2ul7ZRFJW5mgpP7W7ZyS4T9Y+euxdK2hzPy2GXadS5FVWg5crfbCZytWIZNe1/BEjMC59kV5ZkrfbAjWsCamc43yyR4b1PnzMnazuidt/47GrS6fe/lEZRlPaRjWOac73vkqXukqWSleXjt7O3UolX43nsOq/31e2odkIZ3OgHEggiACtWUMUFXsK2qHYLIBPgqQhFLmD+jx9uoCjqm+dFol/OTvppKz5Su6P+J2RnVDuCxSDU2u76K1dQFGV54twDM9ILsU1Nod4xnNvV8jn/Tc6SX24KXpy5zLKvf2bVhyvLmt+yS8APP3VAUVSw2pX8chNp8DOXsTdS7b++wJyo3UM3s0tJl1n2kH8fjfaRjUNK1vPkJOqpu9YG/uU/nj2iZlVwWfI5oT3NXBBggE8kL+I/bHBtF3/m2GOsCcCKBfcO26LawfSEUhrJLBxsW/0/7O6M3KxkcpLc0NuZwz4Vu9m/UCPSVfjfF9zoI2o35b9nGNwaWVE9/Y215Jncd76Q9lP/ncwNa9h7huQh3DuG3BXsXUbq+MsX3Iq8qNr97r8yXWbZrCmXPDU8/MLWYLEMpXYusyydXXCeewA5ocslG2RcZhl5SEk2rZT8clOwnAcHFfbr+I+VlpYWvV4f/36xRyQQOwKwYsH9wraodjA9oZSGPQVzDGeMuVdtZ8XnBzes0Ty88bJN7BYS1UPs1pIXdq+nKOqKLSnP3Zu5Myd1WTK1Po1d8wVuRf7pvnVkb2Sgzfpnt5B9H8qfbHzgxjUURd1zLXtr8bffzCRbS8w/y7rz0+wC7hb/vdNguQLU7hb/PpotmUnyBzbc90X2FuXlm1M4u1QAtSOfl7h918qqpzd/ZSe7/+XA8+zzvP/63GqKoq67Yrn+0SzynC8QYCCiSF7Ef6y0tbWh2sUfO/YYUwKwYsFdw7aodjA9oZRGMgtzbI+/vO2GT7B3IMkTuz/d9//bexfotqoz7/uEhFxgQYAEQrgkJG2hQOkKC0op116gU8Il6Uw7A52+H73MdGhLp6vTt7cpHWba6ffOtEwboB2do7usSyTLN8mSHTt2bMkRsRM5ThQnMXHsxBb+7Dh+Yze267qu0Df2AdecWE9sXc/Z+6/FarXPPs/ez//3HPaffXQkXyM/fnLytxuevnfVkpmHHqtfWr9u9ZLLlr/jdr/9+7XyBuvnX1D++Ijua2vXTPuRsHzp9A3SAdP0p2LDRZu++8xqOWTZJdPHe8SNCrsi3O6Td06nJ72w9oarp/eI669eIj/VMtcsCbfrN97y7IOXyY/G3Lp+qfTC9CMq467NHa/dfMfME55XrRJs37pu1aVsMMJYAAAgAElEQVTCrEAFovSa+b9WDhw4ALfLP3bMmFMCtGPRU9OxcDuanlp601t/iahztk2nZxxIcU6/cdquLvznf76lJz/fcWHXuGvzaXHj7Kd0syeMOTd1/fcG+YGU2YOLfSPb5GKj5C/nxfXTFqv4p0fceOHDpYpz0mvm/1o5cOCA1WrN/7yYEQRyR4B2LHpeOhZuR9NTS2966y+i8kkg/9dKNBq12Wz5nxczgkDuCNCORc9Lx8LtaHpq6c3nqo250iOQ/2sFbpd/5pgx1wRox6Jnp2PhdjQ9tfSmt/4iKp8E8n+twO3yzxwz5poA7Vj07HQs3I6mp5befK7amCs9Avm/VqLRqMViyf+8mBEEckeAdix6XjoWbkfTU0tveusvovJJIP/XSmtrK55SyT92zJhTArRj0VPTsXA7mp5aevO5amOu9Ajk/1ppbW3F3i7/2DFjTgnQjkVPTcfC7Wh6aulNb/1FVD4J5P9aaWtrw94u/9gxY04J0I5FT03Hwu1oemrpzeeqjbnSI5D/awVul3/mmDHXBGjHomenY+F2ND305oSAJEnV1dU5GZqnQQ8fPoy9HU8F50Ir7Vg0AjoWbkfTQ2/2CTgcDp1ONzU1lf2hORvx0KFDZrOZM9GQyzgB2rFo8XQs3I6mh95sEujs7DSZTGazeXJyMpvj8jpWLBaD2/FafGZ1045Fy6Zj4XY0PfRmh8DRo0eLiookSQqHw9jVZYdpMgm3yxZJjKMeAn6/v7KyMr184HbpcUNUFghMTEw0NjYajUa9Xl9XVzcxMZGFQTHEuwRisRi+gfAuDPw/IwRox6JF0rHY29H00JsmgY6ODo/HI4qizWY7cOBAmqMgjCSAvR2JB52aJEA7Fi2JjoXb0fTQuzgCg4ODlZWV+plXIBAYGhpaXDzOXgyBI0eO4HO7xQDDuRogQDsWLYCOhdvR9NC7IALj4+MNDQ1ms1kUxeLi4uPHjy8oDCdlRqC9vd1kMmU2BqJBQF0EaMeic6Vj4XY0PfRSBBKJRDQadTgcoija7faWlhY8gULxynbf0aNHsbfLNlSMV2ACtGPRydGxcDuaHnrnJ9Dd3V1SUqLT6Uwm0549e8bGxuY/D0dzSQBul0u6GLswBGjHonOiY+F2ND30vofA5ORkKBQymUySJPl8vng8/p5uNPJLAHcy88sbs+WDAO1YdAZ0LNyOpofedwj09fWVlJTIz1hGo1FwUQOBjo4OfG6nhkIghywSoB2LnoiOhdvR9HjvTSQSLS0tVqtVFMWysrL+/n7eiahJ/7Fjx4xGo5oyQi4gkCkB2rHo0elYuB1Nj9/esbExv98vSZLJZMIPoKjzOujo6IDbqbM0yCptArRj0cPSsXA7mh6PvcPDw2VlZaIout3u7u5uHhFoRPPx48dxJ1MjtUKaCyVAOxY9Ch0Lt6Pp8dU7PDzs9XpFUfR4PIODg3yJ16Ba7O00WDSkfBECtGPRwXQs3I6mx0vv5ORkZWWlKIqlpaXnzp3jRbbGdZ44cQJ3MjVeQ6SvJEA7lvLs97bpWLjde2lx2QqFQpIk2e12PISirfq/+eabcDttlQzZXpQA7Vh0OB0Lt6PpMd7b19dnmnkdO3aMcaksyuvs7DQYDCwqgyZ+CdCORXOhY+F2ND0WekdHRz0ej0JJIpGora0VRbGmpkbRhaZWCMDttFIp5LlwArRj0ePQsXA7mh4LvSdOnKitrZ2rZGhoSP4b4n19fXOP4722CHR1deFOprZKhmwvSoB2LDqcjoXb0fRY6G1qajp8+PCsko6ODlEUg8Hg7BG80SiBrq4u3MnUaO2QdioCtGOlipKP07FwO5oeC71er/fMmTOyknA4rNPpLBbL5OQkC9r41tDd3Y29Hd+XAIPqaceiBdOxcDuanuZ7p6amjEZjIpFIJpN1dXU6nc5ms01MTGheGAQkk93d3djb4UJgjADtWLRYOhZuR9PTfO9bb71VUVGRTCZra2tlqxsfH9e8KgiYIdDd3a3X6wEDBFgiEAgEfD5feorgdulxYySqtbW1ubk5FAqJomixWEZHRxkRBhnJ5OnTp7G3w4XAGAHasWixdCz2djQ9zfcGAoFIJCKKotlsHhkZ0bweCJhD4PTp09jbzeGBtywQoB2LVkjHwu1oeprvNRqNoihKkoTfA9N8LS8QcOrUKbjdBVRwQNsEaMeitdGxcDuanrZ7z507p5t5DQ0NaVsJsp+PQE9PD+5kzgcGxzRMgHYsWhgdC7ej6Wm712w263S6U6dOaVsGsk9BoLe3V5KkFJ04DAKaJEA7Fi2JjoXbKelt3dGLf1ROQFkzXtvxeBx3MnktPrO6aceiZdOxcDslPZUv9Ehv645eZc14bcPteK08y7ppx6KV07FwOyU92In6CShrxmsbbsdr5VnWTTsWrZyOhdsp6al/rUeGyprx2obb8Vp5lnXTjkUrp2Phdkp68BL1E1DWjNd2f38/nlLhtfjM6qYdi5ZNx8LtlPTUv9YjQ2XNeG339/fjKRVei8+sbtqxaNl0LNxOSQ9eon4Cyprx2obb8Vp5lnXTjkUrp2Phdkp66l/rkaGyZry2cSeT18qzrJt2LFo5HQu3U9KDl6ifgLJmvLYHBgbwuR2vxWdWN+1YtGw6Fm6npKf+tR4ZKmvGaxtux2vlWdZNOxatnI6F2ynpMeYlT+7o/cvfxhkTpawZr+3BwUHs7XgtPrO6aceiZdOxcDslPWaM4Qv6t2rbR0fG//SnxNuH4xOv7BpiRpqyZry2z549C7fjtfjM6qYdi5ZNx8LtlPSYsQRf2/lkMll3bMzcNHx+4k9vv/32Nxz9bKhT1ozX9uDgoCiKvKqHbjYJ0I5Fa6Zj4XZKeprzg+2vx8taz/9/w1O/n0ycGJj8WeXZrTt6n9zRWxr93a4jo0+9Ov0j13XHxpLJ5C+q39ne/UfV0MkzkxN/TLx17o+e/b975nWN/RC2sma8tuF2vFaeZd20Y9HK6Vi4nZKe5txuX9fvk8nkqbOT5QfPj08m/kfPyxWDc1U883pv/8hUMpn8lnN6b/fLXdN/6270D4my1vM9//ePyWRy99Gxueer/72yZry2h4aGcCeT1+Izq5t2LFo2HQu3U9JT/1o/N8MXHf3JZHJ4/E/ywf+omnayI2/9Yfacp1/rbZ6xw5au38sH+4anHe4H3jNbd/Rue7136k9vJ95++4uGt2ZD1P9GWTNe20NDQ7iTyWvxmdXt9/srKyvTkwe3Wxw39a/1czN8ZWajtu9dJ/uyuS+ZTP7u9++Y39Ov9b5xcjyZTHb0/+Fz/z39ZOb21+Nvv/32/zy38tnfvPOg5omByWQy+cOSafPTyj+Lqyi7Z587dw57O3bLy6ky2rFoKHQs9nZKelpZ8eU8d+z+v8lksqHjnVuRX9C/lUwmx/+Q2Lqj96lXe/d2Tltdc9fvZ73tc/8dTyaTk1Nvy5/nbd3Re+StPySTyZfK3nPzU+UQlDXjtT08PIy9Ha/FZ1Y37Vi0bDoWbqekp/KFXpHe94vPJJPJvuE/ysd/6h9MJpMnBia37ui17B2WrW7W2ORzhsf/lEwmX5z5DO+pV3sn/jj9Ud+XTH2KkdXcVNaM1zbcjtfKs6ybdixaOR0Lt1PSU/Mqf2FuT+7oPXlm+lZk8PDof1YPxc9Nfyb3y11DX9C/9YepaRtr7vp9bfuo/M9/VE0/k2mLTLtgR/8f/r3y7Ozm78KR1XxEWTNe2yMjI9jb8Vp8ZnXTjkXLpmPhdkp6al7l583tS6a+1tMTf0q8LX9iJzWe27qj9xszT68otJUfPL91R+8zr/V69v/u9zNPb/5x6u2GjrFnRS09orJ1R69CF7fN8+fPw+24rT6rwmnHolXTsXA7Jb15HUX9B595vfdZaXGm9bf6txQ3OdUvU85QWTNe23A7XivPsm7asWjldCzcTklPKys+z3kqa8ZrG27Ha+VZ1k07Fq2cjoXbKenx7CJa0a6sGa/tsbEx3MnktfjM6qYdi5ZNx8LtlPS0suLznKeyZry24Xa8Vp5l3bRj0crpWLidkh7PLqIV7cqa8doeHR3V6XS8qoduNgnQjkVrpmPhdkp6Wlnxec5TWTNe2+Pj47iTyWvxmdVNOxYtm46F2ynp8ewiWtGurBmv7fHxcezteC0+s7ppx6Jl07FwOyU9raz4POeprBmv7YmJCezteC0+s7ppx6Jl07FwOyU9nl1EK9qVNeO1PTExgb0dr8VnVjftWLRsOhZuR9PTfC9dfs3L41sA9nZ8159N9ZksWXQs3I7NK2ZWFV3+2dPwRosEJicncSdTi4VDzgSBTJYsOhZuR2BnoYsuPwsKOdYAt+O4+MxKz2TJomPhdsxeNLIwuvyMi2dd3tTUFPZ2rBeZO32ZLFl0LNyO8YuJLj/j4lmXB7djvcI86stkyaJj4XaMX090+RkXz7o8uB3rFeZRXyZLFh0Lt2P8eqLLz7h41uXB7VivMI/6/H5/ZWVlesrp5Q5ulx5VzUTR5deMDCQ6H4FEIoHP7eYDg2MaJpDJkkXHwu00fFksJHW6/AsZAeeolgDcTrWlQWJpE8hkyaJj4XZpF0UbgXT5taEBWaYmgL1dajbo0SSBTJYsOhZup8kLYuFJ0+Vf+Dg4U50E8Mth6qwLskqbQCZLFh0Lt0u7KNoIpMuvDQ3IMjUB7O1Ss0GPJglksmTRsXA7TV4QC0+aLv/Cx8GZ6iQAt1NnXZBV2gQyWbLoWLhd2kXRRiBdfm1oQJapCYiimEgkUvejBwQ0RiCTJYuOhdtp7FJYbLp0+Rc7Gs5XGwG4ndoqgnwyJJDJkkXHwu0yLI3aw+nyqz175HcxAqIoTk1NXews9IOAZghksmTRsXA7zVwE6SVKlz+9MRGlHgJwO/XUAplkhUAmSxYdC7fLSoHUOwhdfvXmjcwWRgButzBOOEszBDJZsuhYuJ1mLoL0EqXLn96YiFIPAbidemqBTLJCIJMli46F22WlQKob5OTJkwcPHkwmk7PlP3jw4MmTJ1WXKBLKjIAoipOTk5mNgWgQUBGB2SUrjZzoWLhdGkg1EDI8POxwOOa6ncPhGB4e1kDqSHExBOB2i6GFczVAgHYsWgAdC7ej6Wm4V7Y3ufyz5qdhPUh9PgKiKE5MTMzXg2MgoEkCtGPRkuhYuB1NT8O9oVAoFovJ5Y/FYqFQSMNikHoKAnC7FGBwWKsEaMeiVdGxcDuanoZ7u7u7g8GgXP5gMNjd3a1hMUg9BQG4XQowOKxVArRj0aroWLgdTU/DvZOTk0aj0e/3+3w+o9GIZxk0XMvUqet0uvHx8dT96AEBjRGgHYsWQ8fC7Wh62u4tn3mVlZWVl5drWwmyT0EAbpcCDA5rlQDtWLQqOhZuR9PTdm80Gi0uLna73a2trdpWguxTEBBFEXu7FGxwWJMEAoGAz+dLL3W4XXrcWIg6c+aMfuZ15swZFvRAwwUEdDrd6OjoBYdxAAS0SoB2LFoVHYu9HU1P8726mZfmZUBACgKiKI6NjaXoxGEQ0B4B2rFoPXQs3I6mp/les9lss9k0LwMCUhCA26UAg8NaJUA7Fq2KjoXbKeltj4fxj8oJKGvGcVsUxfPnz3MMANJZI0A7Fq2WjoXbKempfKFHetvjYWXNOG7D7TguPpvSaceiNdOxcDslPdiJ+gkoa8ZxWxTFkZERjgFAOmsEaMei1dKxcDslPfWv9chQWTOO23A7jovPpnTasWjNdCzcTkkPXqJ+AsqacdwWRRF/2oLj+jMonXYsWjAdC7dT0lP/Wo8MlTXjuA2347j4bEqnHYvWTMfC7ZT04CXqJ6CsGcdtnU537tw5jgFAOmsEaMei1dKxcDslPfWv9chQWTOO25Ikwe04rj+D0mnHogXTsXA7JT14ifoJKGvGcVsUxcHBQY4BQDprBGjHotXSsXA7JT31r/XIUFkzjtuSJJ09e5ZjAJDOGgHasWi1dCzcTklPhV7yyfqi23/w9w84/0uFuRUkJWXNOG5LkoS9Hcf1Z1A67Vi0YDoWbqekV5Dlm5703t+8LAjCpi//JX1aTnsfC7tu/c6XtvWGcjrLAgdX1ozjNtyO4+KzKZ12LFozHQu3U9Jb4IKbz9PU4Habv/p5QRC29TTmU3iquZQ147gtSdLAwADHACCdNQK0Y9Fq6Vi4nZJeqhU2z8c/tafoqi23L73isnWPPfDh//Pd2b3dzX/9xKqNNz7g+tWK66993wvPbY+Hnz6xe/PffX7lhvVLVq5Yfdet9+n/XU715s9Pn/lw6W/WPnTPkhXLV2/54GNhl9yVKmTLf35v1cYbt/zi+/Jptzz/2VUbb3w0oL/uE/cLly4TBGHVxhvvff1f8oziwumUNeO4DbfjuPhsSqcdi9ZMx8LtlPQuXFvzf2Rbb2jVxhsEQVhz/5YbP/v40tVXCIJwy5em72Sue+wBQRCu+ODmlRvW3/mTb04fefzB6SO3bdr81c9fsmqFIAj3W/9jezx83Sc/JgjC8nVrNjz31BUf3CwIwuotH5S1pAq5/Uf/IAjCHT/+unza9Z95WBCEh0pev/Mn31yycnrk973w3CM+Xf6BKGZU1ozjtiRJ/f39HAOAdNYI0I5Fq6Vj4XZKeoqFtSDNh8t+KwjCihuuk2e/8bOP/9ntPv2QIAjrtz76zKk92+Phj+8yCYKw7JrV8idq8j3Pa+67a9oFZ8583z88uz0efqarXli2VBCExyNuIiSV222Ph5evWzN9JxOf2ymvlwK39Xo93K7ANcD0WSVAOxY9FR0Lt1PSK4i9KSa959WXBEFY9+mH5OMf+tdvKdxuyys/lLvu3vHj6TMff1BuPh5xC4KwdPUVs273Ed2/yV1X3vkBQRAeLH6VCIHbKa8G1bfhdqovERJcHAG/319ZWbm4mHfPhtu9S2Jh/y97Q2H/d8svfyAIwg3bPiWn8eH/958Ubvdw6W/kri3/+b25Z37mYIUgCJdctnLW7T5W9Ev5zKvvuVMQhAd2/poIkd3u9h9+TQ5Z+/C98p1M7O0Wdu0U4Cy4XQGgY8pcEqAdi56ZjsXeTklPXugL+78fs/9SEITL379BTmPDs08q3a7st3LXQ97XZh4euUFuftT48+nP5+66ddbtPvi/v7o9Ht7WG5I/ePtUo4MIufvX/ywIwo3bH5u++Xlqj/wp4EMlr8+63TPd07dPC/6PsmYctyVJ6uvr4xgApLNGgHYsWi0dC7dT0iv4Ur49Hn7qRO0ll68SBOH9X//CnS+/+M5TKs9/dtbDHn7X7bb1NF55x/sFQdj4xW33vPaTyzbdJAjCPa++NHvmiuuv3fLKD2/63Gdm7ZMI+Uy0TBCEJStX3Pbdr6x96J4V66+d3tsVv7Y9Hl59162CINz58ouP73UXHJGyZhy34XYcF59N6bRj0ZrpWLidkl7Bl3I5gY9IP5W3Vlfctkm+97jh2SdnPWzW7bbHw4+/4Vn7yEeEmdfS1Vfc+fKL8rMk8lMqd/3028vXrZ1+5uX6ax/1i/LgqUK2x8O3fvv5ZVddKSxf9oEXv7jpK58TBOFj9ul7oVt+8X15dzj7xGYBQSlrxnFbr9fH43GOAUA6awRox6LV0rFwOyW9Ai7iiqm3nW7YeiSoOJiq+fTJuicO+ef2ym4n++ITh9/TJZ92Ycjs8adP1s0d6p3jJ3Y/fWL3hcfzf0RZM47bcDuOi8+mdNqxaM10LNxOSS//a3eOZpzrdjmaolDDKmvGcRtux3Hx2ZROOxatmY6F2ynpFWoFz/q8N3/+iUvXXv1opZT1kQs+oLJmHLfhdhwXn03ptGPRmulYuJ2SXsGXciRwUQLKmnHcliSpt7eXYwCQzhoB2rFotXQs3E5J76JLLU4oOAFlzThuGwyGnp4ejgFAOmsEaMei1dKxcDslvYIv5UjgogSUNeO4rdfrT506xTEASGeNAO1YtFo6Fm6npHfRpRYnFJyAsmYct+F2HBefTem0Y9Ga6Vi4nZJewZdyJHBRAsqacdzW6/WnT5/mGACks0aAdixaLR0Lt1PSu+hSixMKTkBZM47bBoMBbsdx/RmUTjsWLZiOhdvR9DTfS5df8/K4F6DX67u7u7nHAADsEMhkyaJj4XbsXCXzKqHLP28IDmqIgMFggNtpqF5I9aIEMlmy6Fi43UXha/sEuvza1obsk0mDwXDy5EmQAAFmCGSyZNGxcDtmLpL5hdDlnz8GR7VDAG6nnVoh0wURyGTJomPhdgsqgHZPosuvXV3IXCZgNBq7urpAAwSYIYC/Xc5MKfMtBG6Xb+L5nc9gMHR2duZ3TswGAjkkkMmSRcdib5fDsqlhaLr8asgQOWRCAG6XCT3EqpBAJksWHQu3U2G5s5kSXf5szoSxCkEAblcI6pgzhwQyWbLoWLhdDsumhqHp8qshQ+SQCQGj0fjmm29mMgJiQUBVBDJZsuhYuJ2qCp39ZOjyZ38+jJhfAkaj8cSJE/mdE7OBQA4JZLJk0bFwuxyWTQ1D0+VXQ4bIIRMCRqOxo6MjkxEQCwKqIpDJkkXHwu1UVejsJ0OXP/vzYcT8EjCZTMePH8/vnJgNBHJIIJMli46F2+WwbGoYmi6/GjJEDpkQgNtlQg+xKiSQyZJFx8LtVFjubKZElz+bM2GsQhDAncxCUMecOSSAb5fnEC7bQ8Pt2K6v0Wg8duwY2xqhjisCmSxZdCz2doxfSHT5GRfPgTyz2Qy346DOHEnMZMmiY+F2jF9GdPkZF8+BPJPJ1N7ezoFQSOSFQCZLFh0Lt2P8GqLLz7h4DuSZzeajR49yIBQSeSGQyZJFx8LtGL+G6PIzLp4DeXA7DorMl8RMliw6Fm7H5pV08uTJgwcPJpPJ2fIfPHgQf/aTvWLD7dirKeeKZpesNDjQsXC7NJBqIGR4eNjhcMx1O4fDMTw8rIHUkeJiCOBzu8XQwrkaIEA7Fi2AjoXb0fQ03Cvbm1z+WfPTsB6kPh8Bs9l85MiR+XpwDAQ0SYB2LFoSHQu3o+lpuDcUCsViMbn8sVgsFAppWAxST0HAbDbHYrEUnTgMAtojgG+Xa69mBc+4u7s7GAzKbhcMBru7uwueEhLIOgGLxQK3yzpVDFhAAvT+jE6MjsXejqan4d7JyUmj0ej3+30+n9FonJyc1LAYpJ6CAPZ2KcDgsFYJ0I5Fq6Jj4XY0PW33ls+8ysrKysvLta0E2acgYDabDx06lKITh0FAewRox6L10LFwO5qetnuj0WhxcbHb7W5tbdW2EmSfggDcLgUYHNYqAdqxaFV0LNyOpqft3jNnzuhnXmfOnNG2EmSfgoDFYjl8+HCKThwGAe0RoB2L1kPHwu1oeprv1c28NC8DAlIQsFqtcLsUbHBYkwRox6Il0bFwO5qe5nvNZrPNZtO8DAhIQcBqtba1taXoxGEQ0B4B2rFoPXQs3E5Jb3s8jH9UTkBZM47bcDuOi8+mdNqxaM10LNxOSU/lCz3S2x4PK2vGcdtiseARJI7rz6D0QCDg8/nSEwa3Wxw32In6CSyuokyfbbVa4XZMV5g7cbRj0TjoWOztlPTUv9YjQ2XNOG5bLJZoNMoxAEhnjQDtWLRaOhZup6QHL1E/AWXNOG7D7TguPpvSaceiNdOxcDslPfWv9chQWTOO2zabDXs7juvPoHTasWjBdCzcTkkPXqJ+AsqacdyG23FcfDal045Fa6Zj4XZKeupf65GhsmYct61W64EDBzgGAOmsEaAdi1ZLx8LtlPTgJeonoKwZx224HcfFZ1M67Vi0ZjoWbqekp/61Hhkqa8Zxu6ioaP/+/RwDgHTWCOD7dvmrqEa95C/2l2x55Yd3/ft3tvU0alTCwtPO39Wg+pngdqovERJcHAF6f0aPRcdib6ekt/A1Vz1nPtWxa8nySwVBuOK2Tc+c2vNY2HXrd760rTekngyzm4myZhy3i4qKWlpaOAYA6awRoB2LVkvHwu2U9LK7LudntPsMPxcE4ebPPyFPt/mrnxcEgeFNnrJmHLeLior27dvHMQBIZ40A7Vi0WjoWbqeklx9/omd5pOK/b/7rJ5avW7tq440b//aZJw755fM/1ei47hP3L7vqykvXXLXu8Qcf3+veHg/fvePHl669WhCEpVdctmrjjdd+/KPCpcsEQVi18cZ7X/+Xj4g/XbXxxi2//MEHvvW/ll2zes39Wz7d7P2I9NPLNt101ZYPPrDz1++MvKdow7NPrlh/7ZV3fuCOf37h6RO7t8fDd/37d1ZtvPH2H/z99nh4W29o3acfWrXxxkcrJTr5PPQqa8Zx2263Nzc3cwwA0lkjQDsWrZaOhdsp6eVhsaaneOrNmksuW7n8umvufPnFW7/zJeGSJTd+9vHt8fATbb5LLl8lCML6pz5x/WceEQTh0jVXPXl818Plv1332AOCIKz+0Afe//Xn7vjx15esXCEIwvteeO4Rn+6eV1+a7rrr1tUfvm3F+msFQbjuE/ev3LB+zce2CIKwcsN6OZmr77lTEITbf/SCPNQ9r760PR5++mTd5e/fICxb+ljIefevfjS9ffzrd7aPtIRc9yprxnEbbsdx8dmUTjsWrZmOhdsp6eV6pb7o+I+FnIIgrLl/y5PHqrfHw4/4xY9XG7fHwx948YuCINzy/2yXR5AN70P/9u3t8fC9v3lZEIRNX/4ruWv5ujXTdzJnPreT3W7lzddvO93waEAvzLwe8Yvb4+GVN18vCMJf7C958lj1lv/8nuxwn9pTJAjCtR//qDzUo5WSIAjX3P/hZdesXnH9tXJKF5WQ6xOUNeO4DbfjuPhsSqcdi9ZMx8LtlPRyvVJfdPxtvaHL3rdh2pUuXbbmgbs/9G//+FTHru3x8HWf+pggCLInbY+Hb//RPwiCsPF/bVuI28m7w6dP7BYEYcmK5dtON2yPh9c9/qAgCA8Vv7Y9Hn4s7LrjpW+s+/RD8p7vss03z+Ypu6wgCA+4fjV7sLBvlDXjuG2329944w2OAUA6awRox0jTsvoAACAASURBVKLV0rFwOyW9wq7j8uxbY5Xv/8bfXnn7++St2OoP37atN7T24XsFQbjP8HP5nA/927cFQdjw7JMLcbtNX/mcHDXtoWuvlt+vf+oTsts9ccgvLL1k+XXX3Pbdr9z+oxcEQZjrdu/72t/Iadyn/5kcWPD/VdaM47bdbsdTKhzXn0Hp+L5d/opa8KV8ezy8tT0oPyfyF/tLVt91qyAIj4Vdtzz/WUEQ3v/NL8oZ3vjZx+VP2lK53TPde7bHw/KdTNrt7vzJN6eHmnka5aGS16efcLnlRnmWh8t+O3Nj877l69Ysu2b17PMyhaWUv6tB9TPZ7fZIJKL6NJEgCCyUAL0/o0ehY7G3U9Ir7Dq+PR6WPypb/+THH/HpHix+dfqu5tJLnjxa9cn6ImHJkqWrr/jwz//ptn/6ypIVyy+5bOUTbb4L3U42yDtffvHxve6FuJ18zjX33fVR48+vvPMDS6+8bMmK5Y+FnE+dqF218cYlK5bLj3FOPyCz9dGC88HfLp97ycLt5tLAewYI0I5FC6Rj4XZKempYze946RuXbbpp+v7h8mVrH7z7o8Z37l5+1Px/Vt40/WjJ9BfJP7j54fLfytkqnlLZ8ovvy49l3vHjry/E7Z7q2HXto/cJgrDsqivvee0nd778orD0klUbb9j05b8SBOGOl74hz3LdJ+4XBOHe37xccETKmnHcdjqd2NtxXH8GpdOORQumY+F2SnoFX8pnE3jyWPUzXfWzzdk3W48En3qzZrY575unT+yW74XO2zvvwSePVc/+/MrTJ3Y/c2r6Rqg6/1HWjOM23I7j4rMpnXYsWjMdC7dT0lPn+o6s5hJQ1ozjttPpbGpq4hgApLNGgHYsWi0dC7dT0pu7quK9Ogkoa8ZxG27HcfHZlE47Fq2ZjoXbKempc31HVnMJKGvGcdvhcITDYY4BQDprBGjHotXSsXA7Jb25qyreq5OAsmYct7G347j4bErH9+3yV1d1ru/Iai6B/F0Nqp8Jbqf6EiHBxRGg92f0WHQs9nZKenNXVbxXJwFlzThuO51O3MnkuP4MSqcdixZMx8LtlPTUub4jq7kElDXjuO10OkOhEMcAIJ01ArRj0WrpWLidkt7cVRXv1UlAWTOO23A7jovPpnTasWjNdCzcjqan+V66/JqXx70Al8uFvR33VwFTADJZsuhYuB1TF8qFYujyX3g+jmiLgMvlamxs1FbOyBYECAKZLFl0LNyOwM5CF11+FhTyrWHnzp0NDQ18M4B6pgj4/f7Kysr0JNHLHdwuPaqaiaLLrxkZSDQFAbfbDbdLwQaHNUkgkyWLjoXbafKCWHjSdPkXPg7OVCcB3MlUZ12QVdoEMlmy6Fi4XdpF0UYgXX5taECWqQm4XC7s7VLjQY/2CGSyZNGxcDvtXQ2Lypgu/6KGwskqJIA7mSosClLKhEAmSxYdC7fLpC4aiKXLrwEBSJEkALcj8aBTewQyWbLoWLid9q6GRWVMl39RQ+FkFRJwu9179uxRYWJICQTSI5DJkkXHwu3Sq4hmoujya0YGEk1BwOPx1NfXp+jEYRDQHoFMliw6Fm6nvathURnT5V/UUDhZhQTgdiosClLKhAC+b5cJPa5j4XZsl9/tdtfV1bGtEeq4IpDJkkXHYm/H+IVEl59x8RzI83g8cDsO6syRxEyWLDoWbsf4ZUSXn3HxHMgrLi6G23FQZ44kZrJk0bFwO8YvI7r8jIvnQJ7H49m9ezcHQiGRFwKZLFl0LNyO8WuILj/j4jmQB7fjoMh8ScxkyaJj4XaMX0l0+RkXz4G84uJi7O04qDNHEgOBgM/nS08wvdzB7dKjqpkouvyakYFEUxDweDw1NTUpOnEYBLRHIJMli46F22nvalhUxnT5FzUUTlYhAbidCouClDIhkMmSRcfC7TKpi3pjT548efDgwWQyOVv+gwcPnjx5Ur0ZI7O0CHi93tra2rRCEQQCaiQwu2SlkRwdC7dLA6kGQoaHhx0Ox1y3czgcw8PDGkgdKS6GANxuMbRwrgYI0I5FC6Bj4XY0PQ33yvYml3/W/DSsB6nPRwBuNx8VHNMwAdqxaGF0LNyOpqfh3lAoFIvF5PLHYrFQKKRhMUg9BQGv14unVFKwwWFNEqAdi5ZEx8LtaHoa7u3u7g4Gg3L5g8Fgd3e3hsUg9RQESkpK8LldCjY4rEkC+AaCJstW2KQnJyeNRqPf7/f5fEajcXJysrD5YPZcECgpKdm1a1cuRsaYIFAQAvT+jE6JjsXejqan7d7ymVdZWVl5ebm2lSD7FATgdinA4LBWCdCORauiY+F2ND1t90aj0eLiYrfb3draqm0lyD4FgdLS0urq6hSdOAwC2iNAOxath46F29H0tN175swZ/czrzJkz2laC7FMQgNulAIPDWiVAOxatio6F29H0NN+rm3lpXgYEpCBQUlKCvV0KNjisSQK0Y9GS6Fi4HU1P871ms9lms2leBgSkIFBSUlJVVZWiE4dBQHsE/H5/ZWVlennD7RbHbdy1Gf+onMDiKsr02XA7psvLozjasWgidCz2dkp6Kl/okd64a7OyZhy3S0tLsbfjuP4MSqcdixZMx8LtlPRgJ+onoKwZx+2ysjK4Hcf1Z1A67Vi0YDoWbqekp/61Hhkqa8Zxu7S0NBgMcgwA0lkjQDsWrZaOhdsp6cFL1E9AWTOO22VlZXA7juvPoHTasWjBdCzcTklP/Ws9MlTWjOM23I7j4rMpXf6xw/S0we0Wxw1eon4Ci6so02fjczumy8ujONqxaCJ0LPZ2SnrqX+uRobJmHLfhdhwXn03ptGPRmulYuJ2SHrxE/QSUNeO4XVZWFggEOAYA6awRoB2LVkvHwu2U9NS/1iNDZc04bsPtOC4+m9Jpx6I107FwOyU9eIn6CShrxnHb5/Nhb8dx/RmUjr/mmr+iqn+tX2CGnn9aV/SP1y3w5HlP+9e/ufrAL26at6uwB/N3Nah+pvLy8rR/VFD14pAgjwTo/RlNhI7F3k5Jr7DreLZmH3VsuuHqJdvuW5X2gPX/eoMgCLZvZeSXac9OByprxnEbbsdx8dmUTjsWrZmOhdsp6dHrbKF621656S+2rLzmcuHaK5ZsvXtl+69vHndtPvH6hs3rls5aWsn31m1et/Slz1115Nc3b1h7iSAIqy4VNq9b2mfY+MVHLt+8bunuf1n/iTtXrLxUuGfzpbFfUSP81/Nr1lwuCIJw3ZVLnnvoskKpTjWvsmYct+F2HBefTem0Y9Ga6Vi4nZJeqhW2gMdP6TZcsWLae/7yo6ue+cgqQZj2vAHTLUd33CwI09Yl52Z98VpBEF749BWndBv+5sHLBEF437ql33lq9VnLLZ/ZslIQhOuvWvKlT1z+oZuXzUalGqHyR9dvueVSQRCeuHvl619dW0Dt806trBnH7YqKCtzJ5Lj+DEqnHYsWTMfC7ZT05l1eC3vwe9tWC4Lw949fIachG94rz69J5VXjrs17Zu5Dzm77nrxn2u2+/eSV467Nw0Wblk1v/ISjO24mRvjmZ67EnUzlxaG+Np5SUV9NkFFGBPCUSkb4FhVcWGObd/YnZnZmxm9cK/f+9NmrBUH4u8euILxqXrezv/vQypaN09u76pfWEyPA7RZ12RTq5IqKCjyTWSj4mDcXBOj9GT0jHYu9nZLevH5T2IOfvHP6Pqb7O+vkNF55fo0gCM9//HLZqz68YZl8/Dd/t1a+k5lqb1f+g+vlMz/6/um7lIF/vp4YAW6nvDJU2YbbqbIsSCp9ArRj0ePSsXA7Jb3CGtu8s3/t8SsEQfjfz6yWe+XP5H723NUDpluWCMLypcLv7JvGXZufe2j6s7oXPj19w1Pe2z15z0o5RL6T+ZPPXzXu2jzm3LRq2uyEtlduIkaQ3c78zXc2lPMmVqiDyppx3MadTI6Lz6Z02rFozXQs3E5Jr1ArODFv9Bc3LRGEqy8Tdnx5zY//6qqVlwqXrxBO6TaMuzY/cOtyQRD++oHL/nHrlZvXLZ39eO/Yq9MPsFx35ZLS7607Y75Fdrsbrl6i+9rav314+mnL225YKs+YaoSfPTd9v3Tr3Ssbf3oDkVtBupQ147hdUVHh9/s5BgDprBHA30DIX0ULsnxfdFLvd9fJXyoQBOFDNy+r/9d3HKj8B9fLz1je/4HlZd9fJ9/hlEd7+t7ppzeXLhFiv7pZdrv/en7N+quXCIJww9VLQu96WKoRZr/GcO+7z3xeNMm8nZC/q0H1M8HtVF8iJLg4AvT+jB6LjsXeTkkvb0t2GhO9pd84aL7lwsB+4zwHx12b+wwbRx3TNzllt6t7ef24a3OPuHHhI7yln+fkC8PzfERZM47b9L/eHIOBdK0SyOSSpmPhdsprIs8Ld36mm+t2+Zkxp7Moa8Zx2+/34/t2HNefQem0Y9GC6Vi4nZJeTpfpQg3+xUcuv+7KJeGfqe4TuPSAKGvGcRtux3Hx2ZSeySUNt1vcNZHe+ouofBJYXEWZPrty5sW0RIjjiwDtWDQLOhZ7OyW9fK7amCs9Asqacdz2zbw4BgDprBGgHYtWS8fC7ZT00lt/EZVPAsqacdyG23FcfDal405m/uqaz1Ubc6VHIH9Xg+pnyuTLSaoXhwR5JEDvz2gidCz2dkp66a2/iMonAWXNOG7T/3pzDAbStUogk0uajoXbKa+JfK7amCs9Asqacdym//XmGAyka5VAJpc0HQu30+o1sfC8g8FgeXn5ws/HmRoiEAwGy8rKNJQwUgUBmkB5eXkwGKTPSdVbXl5eVVWVqhdul4oMO8fr6+s9Hg87eqBkDoGGhga32z3nAN6CgLYJeDyeurq69DQUFxfv3r07VSzcLhUZdo43NTU5nU529EDJHAL79++3Wq1zDuAtCGibgNPpjEQi6WlwOp3hcDhVLNwuFRl2jkejUZvNxo4eKJlDYGRkRKfTzTmAtyCgbQJ6vb67uzs9DTabraWlJVUs3C4VGXaOHz161Gw2s6MHSt5LQJKkU6dOvfcYWiCgSQITExOiKCYSifSyN5vNsVgsVSzcLhUZdo739/fr9Xp29EDJewmUl5eXlpa+9xhaIKBJArFYzGg0pp26wWDo6upKFQ63S0WGqeOiKI6OjjIlCWLeJRCPxzP5z+F3h8H/g0DhCbjd7urq6vTySCQSoihOTk6mCofbpSLD1HGTydTe3s6UJIiZQ8BqtdbU1Mw5gLcgoD0Csl0NDAykl3o8HpckiYiF2xFw2OnyeDxYDdkp5wVKTp8+LYri+Pj4BT04AAKaIVBfX2+xWNJOt7m5mX4cD26XNlstBdbX1+NbWVoq2OJz9Xg8Lpdr8XGIAAFVEEgkEnq9/vjx42ln4/f76Z/RgNulzVZLgZ2dnXhQRUsFW3yuExMTer3+jTfeWHwoIkCg8ATq6uoy2dglk0mn09nU1EQogdsRcJjqkiQpHo8zJQli3kugo6NDp9N1dHS89zBaIKB2AoODg6IoZrhAiaJ49uxZQircjoDDVFdxcXHavz7HFAimxezbt0+n0/X19TGtEuJYI2Cz2Xw+XyaqOjo6DAYDPQLcjubDTm9bWxu+Y85OOVMraW5uFkWxv78/9SnoAQEVESgvLzebzWl/o1xWUlFRcdGfR4fbqajqOU1lampKFMXz58/ndBYMrgYCdXV1uHGthkIgh4sSaGlpkSRpeHj4omfSJxiNxiNHjtDnwO1oPkz1ulwu3MxkqqKpxYTDYZ1O19ramvoU9IBAgQlEo1FRFNP+VczZ7EdGRhbyAwtwu1li7L/p7u6WJCnDOwbsY2JFYUdHhyiKu3btYkUQdDBFYN++faIovvnmm5mrqqqqWsjXb+B2maPW0ghms3nv3r1ayhi5ZkBgcHDQZDJZLJZz585lMAxCQSDLBPx+v06nox+hXPiUkiR1dnZe9Hy43UURMXVCS0tLJj+6yhQLPsQkEolAICBJEv4rh4+Ca0BlIBDQ6/UZft9gVmc0Gl3gmga3m4XGxRv5BwvwlSwuij1H5JtvvmkwGCwWC57VnEMFb/NNYGRkxGKxmM3mzB9LmU3dZrM1NjbONok3cDsCDptde/fuXeB/CrGpn1dViUSiurpaFMXy8nL8oiavV0EhdcdiMUmSfD5fFh8dGBgYoP/uwVzBcLu5NHh5bzQaQ6EQL2qhcw6BoaEhl8slimJNTc3U1NScHrwFgVwRGB8fd7vdkiQdPnw4u3M4HA6/37/AMeF2CwTF1Gny03oTExNMqYKYBRM4ffq0zWaTJKm+vh6et2BsODEdApFIRJIkj8eT9TsKXV1doigufB2D26VTPwZinE5nRUUFA0IgIW0CHR0dNptNFMXa2lr8sd+0MSIwFYGuri6TyWQ0Go8ePZrqnEyOWyyWurq6hY8At1s4K6bOPHv2rE6ny/x7nUxB4VJMV1eX0+kURdHj8eB64PISyL7o3t5eh8MhSVJDQ0P2R58Zsa2tTa/XL+ojQLhdjmqhgWHlOwzEH7bXgAakmCUCw8PDlZWVkiTJ38jE7c0sceVumHg8Lv/HUzAYXPg9xjQwGY3GSCSyqEC43aJwsXay0+n0eDysqYKedAkkEol9+/ZZLBadTufz+bL1jah000Gclgi0tLRYrVZRFKuqqnLqc8lk0ufz0X+mfF5wcLt5sfBycHx8XJKkaDTKi2DoXBiBeDxeWloqSZLBYAgEAviW3sKw8XjWyMhIMBiUJMlkMoXD4TzcFThx4oROp0vj54HgdjxeoHM1HzlyRJKkwcHBuQfxHgRkAu3t7cXFxaIoGo3G6urqbP3UE/AyQKCrq0v+NovL5VrID3dlRfLk5KTBYFjsPUx5arhdVkqg7UHkPxAzNjambRnIPmcEEonE4cOH3W63KIomk6mqqqqrqytns2FgVRM4efJkeXm5Xq+XJKmqqirPf0SspKTE6XSmBwhulx431qJKSkoy/4OKrEGBngsITE1Ntba2er1evV6v0+lcLlckEsnzendBUjiQDwLd3d0+n08/8yorK8vbZm6utgMHDkiSNDIyMvfgwt/D7RbOivEzrVarXq9nXCTkZY9Af3//7t27i4qK5PucPp+vo6NjUU+EZy8XjJQTAolE4vjx436/X97JlZaWZuUP9KSXa3d3tyiKmdxUgNulR57BqKmpKZ1OV1JSwqA2SMolgampqVgsVlpaajAYRFE0m80VFRVtbW1Z/+2MXIrA2H8mEI/Ha2tr5V8eMBqNZWVlJ06c+HN3Id4NDw9LkrRv375MJofbZUKPtdiJiQlJkgKBAGvCoCdfBMbHx1tbW30+n8ViEUXRYDAUFxc3NTXh8ZZ8VSDNeYaHh8PhsMvlkmZebrc7Eomkfc8wzSRShE1NTcn/CZWif6GH4XYLJcXJecPDw/JD55zohczcEUgkEh0dHbt27bLb7fIaarVay8rKIpEIvsmXO+wLHHliYuLo0aPV1dVOp1Ov14uiaLfb6+vrVVgal8uVlb+cALdb4LXB0WnDw8N6vX7hvyzOERpIzYDA2bNnDxw4EAgE7Ha7vLyazWav19vQ0NDV1YXf9MkA7YJCE4nEqVOnGhoa3G630WiUH6/1er1NTU0qdLhZSS6Xy2w2Z+XygNvNUsWbPxOA4f2ZBd7lhsDo6GgsFtu1a5fL5ZI/8JMkyWq1er3e3bt3Hzp0CDc/MwGfSCR6e3ubm5sDgYDD4Zgl7HQ6a2pqOjo68vA18Ezyl2M9Ho/JZMrWL7PA7TKvCJsjDA8Pm0wmh8OhiX8r2KwBZ6r6+vqi0eiuXbvcbrfZbBZnXgaDweFwVFZWNjQ0xGKxvr4+XJAXXhdDQ0PHjx9vamoKBAKzdyb1er3NZisvL29qatLi7rmkpMRoNGbxWSe43YVXDo68Q2Bqasput5vNZnyhCtdEQQiMj4+fOHGiqanJ7/e7XC6LxSJJkiiKkiQZjUan01laWlpTU3PgwIGurq6zZ8+ybYSJRGJoaOjYsWN79+4NBAJut1v+1tAsEIfD4fP5NOptigtM3o9m9ycv4HYKyGgqCZSXl0uShF9KVHJBu3AEBgcHjx07FolEgsFgcXGxzWaT79TJ20H5LznY7XaPxxMIBOrr61taWo4fP3769OnBwcEs7hWyCCCRSIyNjQ0MDHR2dkaj0cbGxkAgUFJS4nA4zGaz/DGnrM5kMjmdzrKysvr6+tbW1p6enqx8ppVFLRkONTU1ZTKZdDpd1r+7CbfLsDRchDc2Noqi2NrayoVaiNQygfPnz/f09MRisUgkUltb6/P53G63zWYzm80Gg0GSJJ1ON2uKBoPBbDYXFRXJfwyktLS0vLy8srIyGAzW1NTU1dWFQqFIJNLS0tLa2npk5tU+8zo65yUfOX78eEdHx9GjRw8fPhyNRpubm/fu3dvY2FhfX19bW1tVVVVZWenz+UpKStxut91ut1qtRqNxro2JoqjX6w0Gg9Vq3blzZ1lZ2a5du5qamg4dOnT69Onh4WEtl2WhuY+OjlosFrvdnottOtxuoWXg/Lz29nZJksrLy7P+H1ycg4X8ghAYGxvr7+8/efLkkSNH9u/fHw6H6+vrq6urg8Gg3+8vKyvzer1ut9vlcjkcjqKiIovFYp55mWZe8vu5R2aPWywWm81mt9sdDofL5fJ4PF6vt6SkpLy8PBAIVFdXNzQ0RCKRtra2jo6OU6dODQ4OZuspjIKQzOKk586dMxgMXq83i2POHQpuN5cG3lMERkZGrFar2WweGhqizkMfCIAACCySwIkTJyRJqq6uXmTcIk6H2y0CFk5NJpPBYFCn08ViMdAAARAAgawQqK+vF0Wxubk5K6OlGgRul4oMjqckcPToUUmSvF4v7sCkZIQOEACBBRCYmJhwOp0Gg6Gvr28Bp2d0CtwuI3zcBp8/f97lcun1+iNHjnALAcJBAAQyIdDf36/X610uV34eK4XbZVIs3mOj0agoisXFxdjk8X4pQD8ILJJAQ0ODKIoNDQ2LjEv/dLhd+uwQmUwmR0dH5U3e4cOHAQQEQAAELkpgaGjIarUaDIbu7u6LnpzFE+B2WYTJ71BtbW16vd5utw8MDPBLAcpBAAQuRiAcDoui6Pf78/9dJrjdxYqD/oURmJqaqqysFEWxsrIyP3fhF5YXzgIBEFAFgeHhYbvdbjAYMvn745kogdtlQg+xSgKDg4PyHzM7cOCAsg9tEAABLgkkEona2lpRFH0+Xy5+JGWBUOF2CwSF0xZBIBaLyb/JdOzYsUWE4VQQAAHmCLS3t8urQW9vb2HFwe0Ky5/Z2ROJRGNjoyRJRUVFp0+fZlYnhIEACKQgMDIy4nK5JEmKRCIpTsnrYbhdXnHzNtnU1FRNTY1Op3M6nfgrCrxVH3q5JTA5OVlVVSWKYllZmXq+ngS34/aCzJ/wiYkJv98viqLH44Hn5Y87ZgKBvBNIJBJ1dXWSJNnt9ng8nvf5qQnhdhQd9GWRwPnz5ysqKkRRdDgcuLeZRbAYCgRUQmDfvn2SJFksls7OTpWkNDcNuN1cGnifcwLj4+PBYFD+PK+joyPn82ECEACB3BNobW01Go0Gg0HNvxcPt8v9hYAZLiAwNTVVX1+v1+stFsv+/fsv6McBEAABbRCIRCKGmVeu/4JB5jjgdpkzxAhpEkgkEuFwWP4LztXV1aOjo2kOhDAQAIH8EpiammpoaNDr9SaTKRqN5nfyNGeD26UJDmFZJNDR0eF0OuXHWHp6erI4MoYCARDILoHx8fHa2lr587n29vbsDp7T0eB2OcWLwRdB4Ny5c5WVlZIkWa3WSCRSwN9cWETSOBUEuCEQj8e9Xq8oik6nU53PodClgNvRfNCbbwJTU1ORSMRisYii6PV68/wr6flWi/lAQAsEotGo1WoVRbGiomJoaEgLKc+TI9xuHig4pAYCAwMDfr9fkiSj0VhXV6ee76iqAQ5yAIE8EBgZGampqZH/HQyHw1q/3QK3y8M1gykyItDW1ma32+Uv6u3fv1/r/8plxALBIJB7AolEIhqN2u12nU7ncrmOHz+e+znzMQPcLh+UMUfmBMbGxurq6sxmsyiKbrdbzV/ryVwsRgCBghCIx+NlZWWiKJpMpoaGhvHx8YKkkaNJ4XY5Aothc0Xg7NmzVVVVBoNBkqTS0tI333wzVzNhXBDgg8Dw8HB9fb3JZNLpdKWlpQX/YwU5og63yxFYDJtzAvF43O/36/V6SZK8Xm8sFsv/X0POuUhMAAI5IzA2NtbY2Cg/fuJwOKLRKNv/BsHtcnYpYeB8EYjH44FAwGg0iqLocrlaWlrw2V6+2GMe7RGYmJhoamoqKirS6XR2u/2NN96YnJzUnozFZwy3WzwzRKiVwODgYE1Njdls1ul0RUVF9fX1Z8+eVWuyyAsE8kpgaGiovr7eZrPpdDqbzdbU1MTYx3IXpQm3uyginKA9AmNjY01NTfLvsxgMhtLS0lgshg2f9gqJjDMmcPr06WAwaDKZ5KeaI5EIt1/mgdtlfDVhAHUT6OjoqKyslP9tlzd8fX196k4Z2YFARgQmJiai0ajX68Wn2nM5wu3m0sB7lgmcP38+HA67XC5p5uVyuUKhEG51slxyzrR1dXUFg0H5Wzpms7mqqgo/RTT3EoDbzaWB97wQiMfjdXV18q1OvV7v8Xj27dsH5+Ol/AzpHBgYCIfDs1ey1+uNRqPc3qukCwu3o/mgl30C3d3dNTU1RUVF4szLbrdXVVUdPXqUkwfV2C8wcwr7+voaGxtn71I4HI76+vqBgQHmhGZZENwuy0AxnKYJ9Pf3NzU1eb1e+fsMRqPR6/U2NTX19/drWheS1zSBRCLR1dXV0NDgcDjk+/Cyw8XjcU3rynPycLs8A8d0miEwOTnZ3t5eXV0t/0qn/Nx2IBCIxWK4U6SZKmo20Z6enlAoNPsfXgaDYefOnY2NjXjGKu2Swu3SRodAvggMDg7u27evpKREfrzTYDB4PJ6Ghobjx4/D/Pi6FHKjtr+/f9++faWlpRaLunmOggAABRdJREFURafTSZLkcDiqq6vb29txgWUFOdwuKxgxCF8EpqamOjo6amtrd+7cKd/zlCTJZrP5fL5IJHLq1Cm2f4GJr2LnTO25c+cOHDhQUVEh/3aXKIpFRUWVlZVtbW1jY2M5m5bfgeF2/NYeyrNIIB6PNzc3V1ZW2u12vV4viqLBYHA6ncFgMBqNDg4OZnEuDKVFAufPnz969GhDQ0NJSYnFYpEkSRRFi8VSUVGxf/9+7f6JVA3VAm6noWIhVc0QmJyc7OzsDIVCJSUlVqtVXtrMZrPH46mvrz906FB/fz/2f5op5+ITHRgYaGtrq6mp8Xg88hfgdDqd0WjcuXNnMBg8cOAAnntaPNRMI+B2mRJEPAgshMDY2NiRI0dqamrcbvfsf9pLkmS1Wj0eT1VVVXNzc1dXF28/XbgQdCo/J5FI9PT0yDt7p9Mp39mW921er3f37t2xWAxbNzUUEW6nhiogBx4JTE1NxePx1tbW3bt3l5SUFBUVGQwG+Tt/JpPJ4XD4fL7GxsYjR47gRqgaro+JiYmenp62trY9e/ZUVFS4XK7Z/2rR6/U2m62srCwUCh0/fhz/yaKGel2YA9zuQiY4AgKFJHDu3Lljx46Fw2G/3+9yueT7YKIo6vV6s9nsdDpLSkqqq6ubmppisVhPTw+eaMhutQYHB48dOxaJRKqqqrxer81mm92uyXtxt9vt9/sbGxtjsVhfXx9+bTy7/HM3Gtwud2wxMghkjcDk5GRPT8/hw4fD4XBVVVVpaanD4ZD3FjqdTvZCk8lkt9uLi4sDgUBDQ0M0Gu3s7MQ9tLk1mJycHBwc7OzsbGtra2pqqq2traio8Hg8drvdbDbLjxdJkmQ0Gu12e0lJSW1tbUtLS2dn58jIyNxx8F6LBOB2WqwacgaB9xCYnJzs7+9vb29vbm6uqakpLy+X77MZjUb5ARlRFCVJMhgMZrPZbre7XK7S0tLKysqamppQKNTS0hKLxbq6uvr7+zW3U5yamhobGzt79mw8Hu/s7Dxy5Mgbb7xRV1cXCAS8Xq/D4bBarQaDQcHBarU6nU6v1+v3+3fv3h2JRGKxWH9/PzZq77mw2GrA7diqJ9SAwHwERkZG+vr6Ojs7Dx061Nzc3NjYWF1d7ff7vV6vy+UqKioym80Gg0He3MifHUqSpNfrTSaT2Wy2WCxFRUXOmZfb7S4uLi4tLS0rK/P5fMFgsLq6uqamZs+ePaFQKBKJ7Nu3LxqNHj58ODbzOnz4cFtbW2tra3TmtX///paWlubm5jfeeCMy89q7d2945hUKhRrefdXW1gYCAZ/PV1JS4vF4HA5HUVGR1Wo1mUxynpIkyZvaudkaDAaLxWK32z0ej8/nq6mpCYfDbW1tnZ2dAwMD+I52ku8X3I7v+kM9CMxHYHx8fGBgoLu7u729/dChQ9FotKWlJRKJhEKhPXv27N69u7q6Wnaj8vJy2ZDcbrfL5ZJtyTLzMs+8LBaL1WqVj9hstqKZl/3dl9PpdMy8nE6ny+XauXOny+XyeDxer7esrCwQCOzatau+vj4cDre0tLS1tbW3t3d1dcXj8aGhodHRUXyLY77q4dj8BOB283PBURAAARAAAZYIwO1Yqia0gAAIgAAIzE8Abjc/FxwFARAAARBgiQDcjqVqQgsIgAAIgMD8BOB283PBURAAARAAAZYIwO1Yqia0gAAIgAAIzE8Abjc/FxwFARAAARBgiQDcjqVqQgsIgAAIgMD8BP5/OblbYZPhifMAAAAASUVORK5CYII=)\n",
        "\n"
      ]
    },
    {
      "cell_type": "code",
      "source": [
        "import torch\n",
        "import torch.nn as nn\n",
        "\n",
        "class RNN(nn.Module):\n",
        "    def __init__(self, input_size, hidden_size, output_size):\n",
        "        super(RNN, self).__init__()\n",
        "        self.hidden_size = hidden_size\n",
        "\n",
        "        self.i2h = nn.Linear(n_categories + input_size + hidden_size, hidden_size)\n",
        "        self.i2o = nn.Linear(n_categories + input_size + hidden_size, output_size)\n",
        "        self.o2o = nn.Linear(hidden_size + output_size, output_size)\n",
        "        self.dropout = nn.Dropout(0.1)\n",
        "        self.softmax = nn.LogSoftmax(dim=1)\n",
        "\n",
        "    def forward(self, category, input, hidden):\n",
        "        input_combined = torch.cat((category, input, hidden), 1)\n",
        "        hidden = self.i2h(input_combined)\n",
        "        output = self.i2o(input_combined)\n",
        "        output_combined = torch.cat((hidden, output), 1)\n",
        "        output = self.o2o(output_combined)\n",
        "        output = self.dropout(output)\n",
        "        output = self.softmax(output)\n",
        "        return output, hidden\n",
        "\n",
        "    def initHidden(self):\n",
        "        return torch.zeros(1, self.hidden_size)"
      ],
      "metadata": {
        "id": "r0-_fr4NTCgD"
      },
      "execution_count": 4,
      "outputs": []
    },
    {
      "cell_type": "markdown",
      "metadata": {
        "id": "Gi_ussQrG3El"
      },
      "source": [
        "## Training\n",
        "Preparing for Training\n",
        "----------------------\n",
        "\n",
        "First of all, helper functions to get random pairs of (category, line):\n",
        "\n",
        "\n"
      ]
    },
    {
      "cell_type": "markdown",
      "metadata": {
        "id": "8f00bLfaG1lS"
      },
      "source": [
        "## 학습\n",
        "학습 준비\n",
        "----------------------\n",
        "\n",
        "제일 먼저 (category, line)의 무작위 쌍을 얻는 함수:\n",
        "\n",
        "\n"
      ]
    },
    {
      "cell_type": "code",
      "source": [
        "import random\n",
        "\n",
        "# Random item from a list\n",
        "def randomChoice(l):\n",
        "    return l[random.randint(0, len(l) - 1)]\n",
        "\n",
        "# Get a random category and random line from that category\n",
        "def randomTrainingPair():\n",
        "    category = randomChoice(all_categories)\n",
        "    line = randomChoice(category_lines[category])\n",
        "    return category, line"
      ],
      "metadata": {
        "id": "zZrJIzuLT69y"
      },
      "execution_count": 5,
      "outputs": []
    },
    {
      "cell_type": "markdown",
      "metadata": {
        "id": "0-V0osBZG3El"
      },
      "source": [
        "For each timestep (that is, for each letter in a training word) the\n",
        "inputs of the network will be\n",
        "``(category, current letter, hidden state)`` and the outputs will be\n",
        "``(next letter, next hidden state)``. So for each training set, we'll\n",
        "need the category, a set of input letters, and a set of output/target\n",
        "letters.\n",
        "\n",
        "Since we are predicting the next letter from the current letter for each\n",
        "timestep, the letter pairs are groups of consecutive letters from the\n",
        "line - e.g. for ``\"ABCD<EOS>\"`` we would create (\"A\", \"B\"), (\"B\", \"C\"),\n",
        "(\"C\", \"D\"), (\"D\", \"EOS\").\n",
        "\n",
        "![image.png](data:image/png;base64,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)\n",
        "\n",
        "The category tensor is a [one-hot\n",
        "tensor](https://en.wikipedia.org/wiki/One-hot)_ of size\n",
        "``<1 x n_categories>``. When training we feed it to the network at every\n",
        "timestep - this is a design choice, it could have been included as part\n",
        "of initial hidden state or some other strategy.\n",
        "\n",
        "\n"
      ]
    },
    {
      "cell_type": "markdown",
      "metadata": {
        "id": "nkWOhmAhG1lS"
      },
      "source": [
        "각 시간 단계 마다 (즉, 학습 단어의 각 문자 마다) 네트워크의 입력은\n",
        "``(언어, 현재 문자, 은닉 상태)`` 가 되고, 출력은\n",
        "``(다음 문자, 다음 은닉 상태)`` 가 된다. 따라서 각 학습 세트 마다\n",
        "언어, 입력 문자의 세트, 출력/목표 문자의 세트가 필요하다.\n",
        "\n",
        "각 시간 단계마다 현재 문자에서 다음 문자를 예측하기 때문에,\n",
        "문자 쌍은 한 줄(하나의 이름)에서 연속된 문자 그룹입니다. - 예를 들어 ``\"ABCD<EOS>\"`` 는\n",
        "(\"A\", \"B\"), (\"B\", \"C\"), (\"C\", \"D\"), (\"D\", \"EOS\") 로 생성합니다.\n",
        "\n",
        "\n",
        "Category(언어) Tensor는 ``<1 x n_categories>`` 크기의 [One-hot\n",
        "Tensor](https://en.wikipedia.org/wiki/One-hot)_ 입니다.\n",
        "학습시에 모든 시간 단계에서 네트워크에 이것을 전달합니다.\n",
        "- 이것은 설계 선택사항으로, 초기 은닉 상태 또는\n",
        "또 다른 전략의 부분으로 포함될 수 있습니다.\n",
        "\n",
        "\n"
      ]
    },
    {
      "cell_type": "code",
      "source": [
        "# One-hot vector for category\n",
        "def categoryTensor(category):\n",
        "    li = all_categories.index(category)\n",
        "    tensor = torch.zeros(1, n_categories)\n",
        "    tensor[0][li] = 1\n",
        "    return tensor\n",
        "\n",
        "# One-hot matrix of first to last letters (not including EOS) for input\n",
        "def inputTensor(line):\n",
        "    tensor = torch.zeros(len(line), 1, n_letters)\n",
        "    for li in range(len(line)):\n",
        "        letter = line[li]\n",
        "        tensor[li][0][all_letters.find(letter)] = 1\n",
        "    return tensor\n",
        "\n",
        "# ``LongTensor`` of second letter to end (EOS) for target\n",
        "def targetTensor(line):\n",
        "    letter_indexes = [all_letters.find(line[li]) for li in range(1, len(line))]\n",
        "    letter_indexes.append(n_letters - 1) # EOS\n",
        "    return torch.LongTensor(letter_indexes)"
      ],
      "metadata": {
        "id": "qkA_k4KpUr-5"
      },
      "execution_count": 7,
      "outputs": []
    },
    {
      "cell_type": "markdown",
      "metadata": {
        "id": "Kw89PTzQG3Em"
      },
      "source": [
        "For convenience during training we'll make a ``randomTrainingExample``\n",
        "function that fetches a random (category, line) pair and turns them into\n",
        "the required (category, input, target) tensors.\n",
        "\n",
        "\n"
      ]
    },
    {
      "cell_type": "markdown",
      "metadata": {
        "id": "UjQkrl3zG1lT"
      },
      "source": [
        "학습 동안 편의를 위해 무작위로 (category[언어], line[이름])을 가져오고\n",
        "그것을 필요한 형태 (category[언어], input[현재 문자], target[다음 문자]) Tensor로 바꾸는\n",
        "``randomTrainingExample`` 함수를 만들 예정입니다.\n",
        "\n",
        "\n"
      ]
    },
    {
      "cell_type": "code",
      "source": [
        "# Make category, input, and target tensors from a random category, line pair\n",
        "def randomTrainingExample():\n",
        "    category, line = randomTrainingPair()\n",
        "    category_tensor = categoryTensor(category)\n",
        "    input_line_tensor = inputTensor(line)\n",
        "    target_line_tensor = targetTensor(line)\n",
        "    return category_tensor, input_line_tensor, target_line_tensor"
      ],
      "metadata": {
        "id": "trXaNcECWEYT"
      },
      "execution_count": 8,
      "outputs": []
    },
    {
      "cell_type": "markdown",
      "metadata": {
        "id": "eXfISWwYG3Em"
      },
      "source": [
        "### Training the Network\n",
        "\n",
        "In contrast to classification, where only the last output is used, we\n",
        "are making a prediction at every step, so we are calculating loss at\n",
        "every step.\n",
        "\n",
        "The magic of autograd allows you to simply sum these losses at each step\n",
        "and call backward at the end.\n",
        "\n",
        "\n"
      ]
    },
    {
      "cell_type": "markdown",
      "metadata": {
        "id": "yl73doBwG1lT"
      },
      "source": [
        "### 네트워크 학습\n",
        "\n",
        "마지막 출력만 사용하는 분류와 달리, 모든 단계에서 예측을 수행하므로\n",
        "모든 단계에서 손실을 계산합니다.\n",
        "\n",
        "Autograd의 마법이 각 단계의 손실들을 간단하게 합하고 마지막에\n",
        "역전파를 호출하게 해줍니다.\n",
        "\n",
        "\n"
      ]
    },
    {
      "cell_type": "code",
      "source": [
        "criterion = nn.NLLLoss()\n",
        "\n",
        "learning_rate = 0.0005\n",
        "\n",
        "def train(category_tensor, input_line_tensor, target_line_tensor):\n",
        "    target_line_tensor.unsqueeze_(-1)\n",
        "    hidden = rnn.initHidden()\n",
        "\n",
        "    rnn.zero_grad()\n",
        "\n",
        "    loss = torch.Tensor([0]) # you can also just simply use ``loss = 0``\n",
        "\n",
        "    for i in range(input_line_tensor.size(0)):\n",
        "        output, hidden = rnn(category_tensor, input_line_tensor[i], hidden)\n",
        "        l = criterion(output, target_line_tensor[i])\n",
        "        loss += l\n",
        "\n",
        "    loss.backward()\n",
        "\n",
        "    for p in rnn.parameters():\n",
        "        p.data.add_(p.grad.data, alpha = - learning_rate)\n",
        "\n",
        "    return output, loss.item() / input_line_tensor.size(0)"
      ],
      "metadata": {
        "id": "viHDRTnbWqiC"
      },
      "execution_count": 9,
      "outputs": []
    },
    {
      "cell_type": "markdown",
      "metadata": {
        "id": "NleX9ymJG3Em"
      },
      "source": [
        "To keep track of how long training takes I am adding a\n",
        "``timeSince(timestamp)`` function which returns a human readable string:\n",
        "\n",
        "\n"
      ]
    },
    {
      "cell_type": "markdown",
      "metadata": {
        "id": "iUmw5AWPG1lU"
      },
      "source": [
        "학습에 걸리는 시간을 추적하기 위해 사람이 읽을 수 있는 문자열을\n",
        "반환하는``timeSince (timestamp)`` 함수를 추가합니다:\n",
        "\n",
        "\n"
      ]
    },
    {
      "cell_type": "code",
      "source": [
        "import time, math\n",
        "\n",
        "def timeSince(since):\n",
        "    now = time.time()\n",
        "    s = now - since\n",
        "    m = math.floor(s / 60)\n",
        "    s -= m * 60\n",
        "    return '%dm %ds' % (m, s)"
      ],
      "metadata": {
        "id": "n4ZMS8cFXjca"
      },
      "execution_count": 10,
      "outputs": []
    },
    {
      "cell_type": "markdown",
      "metadata": {
        "id": "APLSfT7bG3Em"
      },
      "source": [
        "Training is business as usual - call train a bunch of times and wait a\n",
        "few minutes, printing the current time and loss every ``print_every``\n",
        "examples, and keeping store of an average loss per ``plot_every`` examples\n",
        "in ``all_losses`` for plotting later.\n",
        "\n",
        "\n"
      ]
    },
    {
      "cell_type": "markdown",
      "metadata": {
        "id": "T9V-caNeG1lU"
      },
      "source": [
        "학습은 일상적인 일입니다. - 몇 번 train() 을 호출하고, 몇 분 정도\n",
        "기다렸다가 ``print_every`` 마다 현재 시간과 손실을 출력하고,\n",
        "나중에 도식화를 위해  ``plot_every`` 마다 ``all_losses`` 에\n",
        "평균 손실을 저장합니다.\n",
        "\n",
        "\n"
      ]
    },
    {
      "cell_type": "code",
      "source": [
        "rnn = RNN(n_letters, 128, n_letters)\n",
        "\n",
        "n_iters = 100000\n",
        "print_every = 5000\n",
        "plot_every = 500\n",
        "all_losses = []\n",
        "total_loss = 0 # Reset every ``plot_every`` ``iters``\n",
        "\n",
        "start = time.time()\n",
        "\n",
        "for iter in range(1, n_iters + 1):\n",
        "    output, loss = train(*randomTrainingExample())\n",
        "    total_loss += loss\n",
        "\n",
        "    if iter % print_every == 0:\n",
        "        print('%s (%d %d%%) %.4f' % (timeSince(start), iter, iter / n_iters * 100, loss))\n",
        "\n",
        "    if iter % plot_every == 0:\n",
        "        all_losses.append(total_loss / plot_every)\n",
        "        total_loss = 0"
      ],
      "metadata": {
        "colab": {
          "base_uri": "https://localhost:8080/"
        },
        "id": "Nnebz0hDX8eJ",
        "outputId": "f6490162-8cbd-41b6-8663-8456c7a06e95"
      },
      "execution_count": 11,
      "outputs": [
        {
          "output_type": "stream",
          "name": "stdout",
          "text": [
            "0m 19s (5000 5%) 3.2074\n",
            "0m 39s (10000 10%) 2.6935\n",
            "0m 58s (15000 15%) 2.2066\n",
            "1m 19s (20000 20%) 2.5244\n",
            "1m 38s (25000 25%) 3.2433\n",
            "2m 1s (30000 30%) 2.3575\n",
            "2m 33s (35000 35%) 2.5780\n",
            "3m 10s (40000 40%) 1.9919\n",
            "3m 33s (45000 45%) 2.2552\n",
            "3m 54s (50000 50%) 2.4114\n",
            "4m 15s (55000 55%) 2.0644\n",
            "4m 36s (60000 60%) 2.1382\n",
            "5m 7s (65000 65%) 2.6424\n",
            "5m 34s (70000 70%) 2.6864\n",
            "6m 8s (75000 75%) 2.1215\n",
            "6m 45s (80000 80%) 2.5942\n",
            "7m 12s (85000 85%) 1.6538\n",
            "7m 33s (90000 90%) 1.7613\n",
            "7m 59s (95000 95%) 2.9058\n",
            "8m 34s (100000 100%) 2.0954\n"
          ]
        }
      ]
    },
    {
      "cell_type": "markdown",
      "metadata": {
        "id": "IQYG86c2G3En"
      },
      "source": [
        "### Plotting the Losses\n",
        "\n",
        "Plotting the historical loss from all\\_losses shows the network\n",
        "learning:\n",
        "\n",
        "\n"
      ]
    },
    {
      "cell_type": "markdown",
      "metadata": {
        "id": "kS9qTMy_G1lU"
      },
      "source": [
        "### 손실 도식화\n",
        "\n",
        "all\\_losses를 이용한 손실의 도식화는\n",
        "네트워크의 학습 상태를 보여줍니다:\n",
        "\n",
        "\n"
      ]
    },
    {
      "cell_type": "code",
      "source": [
        "import matplotlib.pyplot as plt\n",
        "\n",
        "plt.figure()\n",
        "plt.plot(all_losses);"
      ],
      "metadata": {
        "colab": {
          "base_uri": "https://localhost:8080/",
          "height": 430
        },
        "id": "MUfYHESyYkfp",
        "outputId": "902af0ea-2d6a-484c-8e24-5a404c1cfa4c"
      },
      "execution_count": 13,
      "outputs": [
        {
          "output_type": "display_data",
          "data": {
            "text/plain": [
              "<Figure size 640x480 with 1 Axes>"
            ],
            "image/png": "[encoded data removed]"
          },
          "metadata": {}
        }
      ]
    },
    {
      "cell_type": "markdown",
      "metadata": {
        "id": "PBGEWwVhG3En"
      },
      "source": [
        "## Sampling the Network\n",
        "\n",
        "To sample we give the network a letter and ask what the next one is,\n",
        "feed that in as the next letter, and repeat until the EOS token.\n",
        "\n",
        "-  Create tensors for input category, starting letter, and empty hidden\n",
        "   state\n",
        "-  Create a string ``output_name`` with the starting letter\n",
        "-  Up to a maximum output length,\n",
        "\n",
        "   -  Feed the current letter to the network\n",
        "   -  Get the next letter from highest output, and next hidden state\n",
        "   -  If the letter is EOS, stop here\n",
        "   -  If a regular letter, add to ``output_name`` and continue\n",
        "\n",
        "-  Return the final name\n",
        "\n",
        "<div class=\"alert alert-info\"><h4>Note</h4><p>Rather than having to give it a starting letter, another\n",
        "   strategy would have been to include a \"start of string\" token in\n",
        "   training and have the network choose its own starting letter.</p></div>\n",
        "\n",
        "\n"
      ]
    },
    {
      "cell_type": "markdown",
      "metadata": {
        "id": "MxNo0R1TG1lU"
      },
      "source": [
        "## 네트워크 샘플링\n",
        "\n",
        "샘플링을 위해서, 네트워크에 하나의 글자를 주고 다음 문자를 물어보고\n",
        "이것을 다음 문자로 전달하는 것을 EOS 토큰까지 반복합니다.\n",
        "\n",
        "-  입력 카테고리(언어), 시작 문자, 비어 있는 은닉 상태를 위한 Tensor를 생성하십시오\n",
        "-  시작 문자로 ``output_name`` 문자열을 생성하십시오\n",
        "-  최대 출력 길이까지,\n",
        "\n",
        "   -  현재 문자를 네트워크에 전달하십시오.\n",
        "   -  가장 높은 출력에서 다음 문자와 다음 은닉 상태를 얻으십시오\n",
        "   -  만일 문자가 EOS면, 여기서 멈추십시오\n",
        "   -  만일 일반적인 문자라면, ``output_name`` 에 추가하고 계속하십시오\n",
        "\n",
        "-  마지막 이름을 반환하십시오\n",
        "\n",
        ".. Note::\n",
        "   시작 문자를 주는 것 외에 \"문자열 시작\" 토큰을 학습에\n",
        "   포함되게 하고 네트워크가 자체적으로 시작 문자를 선택하게 하는\n",
        "   다른 방법도 있습니다.\n",
        "\n",
        "\n"
      ]
    },
    {
      "cell_type": "code",
      "source": [
        "max_length = 20\n",
        "\n",
        "# Sample from a category and starting letter\n",
        "def sample(category, start_letter='A'):\n",
        "    with torch.no_grad(): # no need to track history in sampling\n",
        "        category_tensor = categoryTensor(category)\n",
        "        input = inputTensor(start_letter)\n",
        "        hidden = rnn.initHidden()\n",
        "\n",
        "        output_name = start_letter\n",
        "\n",
        "        for i in range(max_length):\n",
        "            output, hidden = rnn(category_tensor, input[0], hidden)\n",
        "            topv, topi = output.topk(1)\n",
        "            topi = topi[0][0]\n",
        "            if topi == n_letters - 1:\n",
        "                break\n",
        "            else:\n",
        "                letter = all_letters[topi]\n",
        "                output_name += letter\n",
        "            input = inputTensor(letter)\n",
        "\n",
        "        return output_name\n",
        "\n",
        "# Get multiple samples from one category and multiple starting letters\n",
        "def samples(category, start_letters='ABC'):\n",
        "    for start_letter in start_letters:\n",
        "        print(sample(category, start_letter))\n",
        "\n",
        "samples('Russian', 'RUS')\n",
        "\n",
        "samples('German', 'GER')\n",
        "\n",
        "samples('Spanish', 'SPA')\n",
        "\n",
        "samples('Chinese', 'CHI')\n",
        "\n",
        "samples('Korean', 'PKL')"
      ],
      "metadata": {
        "colab": {
          "base_uri": "https://localhost:8080/"
        },
        "id": "M2hghEKgTCc9",
        "outputId": "847e1250-ff89-4a5f-8382-d201f3257f16"
      },
      "execution_count": 14,
      "outputs": [
        {
          "output_type": "stream",
          "name": "stdout",
          "text": [
            "Rourov\n",
            "Uanier\n",
            "Shinovev\n",
            "Gerter\n",
            "Ereng\n",
            "Roure\n",
            "Salla\n",
            "Pares\n",
            "Arter\n",
            "Chan\n",
            "Han\n",
            "Iun\n",
            "Pon\n",
            "Kon\n",
            "Lon\n"
          ]
        }
      ]
    },
    {
      "cell_type": "markdown",
      "metadata": {
        "id": "Fwos4yzEG3En"
      },
      "source": [
        "## Exercises\n",
        "\n",
        "-  Try with a different dataset of category -> line, for example:\n",
        "\n",
        "   -  Fictional series -> Character name\n",
        "   -  Part of speech -> Word\n",
        "   -  Country -> City\n",
        "\n",
        "-  Use a \"start of sentence\" token so that sampling can be done without\n",
        "   choosing a start letter\n",
        "-  Get better results with a bigger and/or better shaped network\n",
        "\n",
        "   -  Try the ``nn.LSTM`` and ``nn.GRU`` layers\n",
        "   -  Combine multiple of these RNNs as a higher level network\n",
        "\n",
        "\n"
      ]
    }
  ]
}