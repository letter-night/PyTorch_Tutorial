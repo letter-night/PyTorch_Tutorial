{
  "nbformat": 4,
  "nbformat_minor": 0,
  "metadata": {
    "colab": {
      "provenance": []
    },
    "kernelspec": {
      "name": "python3",
      "display_name": "Python 3"
    },
    "language_info": {
      "name": "python"
    }
  },
  "cells": [
    {
      "cell_type": "markdown",
      "metadata": {
        "id": "2NW2fBLtzPBG"
      },
      "source": [
        "\n",
        "# NLP From Scratch: Classifying Names with a Character-Level RNN\n",
        "**Author**: [Sean Robertson](https://github.com/spro)\n",
        "\n",
        "We will be building and training a basic character-level Recurrent Neural\n",
        "Network (RNN) to classify words. This tutorial, along with two other\n",
        "Natural Language Processing (NLP) \"from scratch\" tutorials\n",
        ":doc:`/intermediate/char_rnn_generation_tutorial` and\n",
        ":doc:`/intermediate/seq2seq_translation_tutorial`, show how to\n",
        "preprocess data to model NLP. In particular these tutorials do not\n",
        "use many of the convenience functions of `torchtext`, so you can see how\n",
        "preprocessing to model NLP works at a low level.\n",
        "\n",
        "A character-level RNN reads words as a series of characters -\n",
        "outputting a prediction and \"hidden state\" at each step, feeding its\n",
        "previous hidden state into each next step. We take the final prediction\n",
        "to be the output, i.e. which class the word belongs to.\n",
        "\n",
        "Specifically, we'll train on a few thousand surnames from 18 languages\n",
        "of origin, and predict which language a name is from based on the\n",
        "spelling:\n",
        "\n",
        "```sh\n",
        "$ python predict.py Hinton\n",
        "(-0.47) Scottish\n",
        "(-1.52) English\n",
        "(-3.57) Irish\n",
        "\n",
        "$ python predict.py Schmidhuber\n",
        "(-0.19) German\n",
        "(-2.48) Czech\n",
        "(-2.68) Dutch\n",
        "```\n",
        "## Recommended Preparation\n",
        "\n",
        "Before starting this tutorial it is recommended that you have installed PyTorch,\n",
        "and have a basic understanding of Python programming language and Tensors:\n",
        "\n",
        "-  https://pytorch.org/ For installation instructions\n",
        "-  :doc:`/beginner/deep_learning_60min_blitz` to get started with PyTorch in general\n",
        "   and learn the basics of Tensors\n",
        "-  :doc:`/beginner/pytorch_with_examples` for a wide and deep overview\n",
        "-  :doc:`/beginner/former_torchies_tutorial` if you are former Lua Torch user\n",
        "\n",
        "It would also be useful to know about RNNs and how they work:\n",
        "\n",
        "-  [The Unreasonable Effectiveness of Recurrent Neural\n",
        "   Networks](https://karpathy.github.io/2015/05/21/rnn-effectiveness/)_\n",
        "   shows a bunch of real life examples\n",
        "-  [Understanding LSTM\n",
        "   Networks](https://colah.github.io/posts/2015-08-Understanding-LSTMs/)_\n",
        "   is about LSTMs specifically but also informative about RNNs in\n",
        "   general\n",
        "\n",
        "## Preparing the Data\n",
        "\n",
        "<div class=\"alert alert-info\"><h4>Note</h4><p>Download the data from\n",
        "   [here](https://download.pytorch.org/tutorial/data.zip)\n",
        "   and extract it to the current directory.</p></div>\n",
        "\n",
        "Included in the ``data/names`` directory are 18 text files named as\n",
        "``[Language].txt``. Each file contains a bunch of names, one name per\n",
        "line, mostly romanized (but we still need to convert from Unicode to\n",
        "ASCII).\n",
        "\n",
        "We'll end up with a dictionary of lists of names per language,\n",
        "``{language: [names ...]}``. The generic variables \"category\" and \"line\"\n",
        "(for language and name in our case) are used for later extensibility.\n"
      ]
    },
    {
      "cell_type": "markdown",
      "metadata": {
        "id": "cX0QuGnCzM4C"
      },
      "source": [
        "\n",
        "# 기초부터 시작하는 NLP: 문자-단위 RNN으로 이름 분류하기\n",
        "\n",
        "**Author**: [Sean Robertson](https://github.com/spro/practical-pytorch)\n",
        "  **번역**: [황성수](https://github.com/adonisues), [김제필](https://github.com/garlicvread)\n",
        "\n",
        "\n",
        "단어를 분류하기 위해 기초적인 문자-단위 RNN을 구축하고 학습할 예정입니다.\n",
        "이 튜토리얼에서는(이후 2개 튜토리얼과 함께) NLP 모델링을 위해 `torchtext` 의\n",
        "수많은 편리한 기능을 사용하지 않고도 어떻게 데이터를 전처리하는지 \"기초부터(from scratch)\"\n",
        "보여주므로 NLP 모델링을 위한 데이터 전처리가 저수준에서 어떻게 진행되는지 알 수 있습니다.\n",
        "문자-단위 RNN은 단어를 문자의 연속으로 읽어 들여서 각 단계의 예측과\n",
        "\"은닉 상태(Hidden State)\"를 출력하고, 다음 단계에 이전 단계의 은닉 상태를 전달합니다.\n",
        "단어가 속한 클래스로 출력되도록 최종 예측으로 선택합니다.\n",
        "\n",
        "구체적으로, 18개 언어로 된 수천 개의 성(姓)을 훈련시키고,\n",
        "철자에 따라 이름이 어떤 언어인지 예측합니다:\n",
        "\n",
        "::\n",
        "\n",
        "    $ python predict.py Hinton\n",
        "    (-0.47) Scottish\n",
        "    (-1.52) English\n",
        "    (-3.57) Irish\n",
        "\n",
        "    $ python predict.py Schmidhuber\n",
        "    (-0.19) German\n",
        "    (-2.48) Czech\n",
        "    (-2.68) Dutch\n",
        "\n",
        "\n",
        "**추천 자료:**\n",
        "\n",
        "Pytorch를 설치했고, Python을 알고, Tensor를 이해한다고 가정합니다:\n",
        "\n",
        "-  https://pytorch.org/ 설치 안내\n",
        "-  :doc:`/beginner/deep_learning_60min_blitz` PyTorch 시작하기\n",
        "-  :doc:`/beginner/pytorch_with_examples` 넓고 깊은 통찰을 위한 자료\n",
        "-  :doc:`/beginner/former_torchies_tutorial` 이전 Lua Torch 사용자를 위한 자료\n",
        "\n",
        "RNN과 그 작동 방식을 아는 것 또한 유용합니다:\n",
        "\n",
        "-  [The Unreasonable Effectiveness of Recurrent Neural\n",
        "   Networks](https://karpathy.github.io/2015/05/21/rnn-effectiveness/)_\n",
        "   실생활 예제를 보여 줍니다.\n",
        "-  [Understanding LSTM\n",
        "   Networks](https://colah.github.io/posts/2015-08-Understanding-LSTMs/)_\n",
        "   LSTM에 관한 것이지만 RNN에 관해서도 유익합니다.\n",
        "\n",
        "## 데이터 준비\n",
        "\n",
        "<div class=\"alert alert-info\"><h4>Note</h4><p>[여기](https://download.pytorch.org/tutorial/data.zip)_ 에서 데이터를 다운로드 받고\n",
        "   현재 디렉토리에 압축을 푸십시오.</p></div>\n",
        "\n",
        "``data/names`` 디렉토리에는 ``[Language].txt`` 라는 18 개의 텍스트 파일이 있습니다.\n",
        "각 파일에는 한 줄에 하나의 이름이 포함되어 있으며 대부분 로마자로 되어 있습니다.\n",
        "(그러나, 유니코드에서 ASCII로 변환해야 함).\n",
        "\n",
        "각 언어 별로 이름 목록 사전 ``{language: [names ...]}`` 을 만듭니다.\n",
        "일반 변수 \"category\" 와 \"line\" (우리의 경우 언어와 이름)은 이후의 확장성을 위해 사용됩니다.\n",
        "\n",
        "<div class=\"alert alert-info\"><h4>Note</h4><p>역자 주: \"line\" 에 입력을 \"category\"에 클래스를 적용하여 다른 문제에도 활용할 수 있습니다.\n",
        "   여기서는 \"line\"에 이름(ex. Robert)을 입력으로, \"category\"에 클래스(ex. english)로 사용합니다.</p></div>\n"
      ]
    },
    {
      "cell_type": "code",
      "source": [
        "import os, zipfile\n",
        "from pathlib import Path\n",
        "\n",
        "with zipfile.ZipFile(\"data.zip\", \"r\") as zip_ref:\n",
        "    zip_ref.extractall()"
      ],
      "metadata": {
        "id": "oxTgjwvE1wfk"
      },
      "execution_count": 9,
      "outputs": []
    },
    {
      "cell_type": "code",
      "source": [
        "%matplotlib inline\n",
        "\n",
        "from io import open\n",
        "import glob\n",
        "import os\n",
        "\n",
        "def findFiles(path): return glob.glob(path)\n",
        "\n",
        "print(findFiles('data/names/*.txt'))\n",
        "\n",
        "import unicodedata\n",
        "import string\n",
        "\n",
        "all_letters = string.ascii_letters + \" .,;\"\n",
        "n_letters = len(all_letters)\n",
        "\n",
        "# Turn a Unicode string to plain ASCII, thanks to https://stackoverflow.com/a/518232/2809427\n",
        "def unicodeToAscii(s):\n",
        "    return ''.join(\n",
        "        c for c in unicodedata.normalize('NFD', s)\n",
        "        if unicodedata.category(c) != 'Mn'\n",
        "        and c in all_letters\n",
        "    )\n",
        "\n",
        "print(unicodeToAscii('Ślusàrski'))"
      ],
      "metadata": {
        "colab": {
          "base_uri": "https://localhost:8080/"
        },
        "id": "TG6wjIy5n9Sl",
        "outputId": "7dad2799-2484-4461-bcc2-9f4c242d3339"
      },
      "execution_count": 10,
      "outputs": [
        {
          "output_type": "stream",
          "name": "stdout",
          "text": [
            "['data/names/German.txt', 'data/names/Portuguese.txt', 'data/names/Czech.txt', 'data/names/Vietnamese.txt', 'data/names/Russian.txt', 'data/names/Irish.txt', 'data/names/Japanese.txt', 'data/names/Korean.txt', 'data/names/Dutch.txt', 'data/names/French.txt', 'data/names/Arabic.txt', 'data/names/Polish.txt', 'data/names/Greek.txt', 'data/names/Chinese.txt', 'data/names/Scottish.txt', 'data/names/English.txt', 'data/names/Italian.txt', 'data/names/Spanish.txt']\n",
            "Slusarski\n"
          ]
        }
      ]
    },
    {
      "cell_type": "code",
      "source": [
        "# Build the category_lines dictionary, a list of names per language\n",
        "category_lines = {}\n",
        "all_categories = []\n",
        "\n",
        "# Read a file and split into lines\n",
        "def readLines(filename):\n",
        "    lines = open(filename, encoding='utf-8').read().strip().split('\\n')\n",
        "    return [unicodeToAscii(line) for line in lines]\n",
        "\n",
        "for filename in findFiles('data/names/*.txt'):\n",
        "    category = os.path.splitext(os.path.basename(filename))[0]\n",
        "    all_categories.append(category)\n",
        "    lines = readLines(filename)\n",
        "    category_lines[category] = lines\n",
        "\n",
        "n_categories = len(all_categories)"
      ],
      "metadata": {
        "id": "_X_xdOny2Vw5"
      },
      "execution_count": 12,
      "outputs": []
    },
    {
      "cell_type": "markdown",
      "metadata": {
        "id": "Fk1JktPuzPBI"
      },
      "source": [
        "Now we have ``category_lines``, a dictionary mapping each category\n",
        "(language) to a list of lines (names). We also kept track of\n",
        "``all_categories`` (just a list of languages) and ``n_categories`` for\n",
        "later reference.\n",
        "\n",
        "\n"
      ]
    },
    {
      "cell_type": "markdown",
      "metadata": {
        "id": "6s6lFbBuzM4E"
      },
      "source": [
        "이제 각 ``category`` (언어)를 ``line`` (이름)에 매핑하는 사전인\n",
        "``category_lines`` 를 만들었습니다. 나중에 참조할 수 있도록\n",
        "``all_categories`` (언어 목록)와 ``n_categories`` 도 추적합니다.\n",
        "\n",
        "\n"
      ]
    },
    {
      "cell_type": "code",
      "source": [
        "print(category_lines['Italian'][:5])"
      ],
      "metadata": {
        "colab": {
          "base_uri": "https://localhost:8080/"
        },
        "id": "4KU_gDZc3zcG",
        "outputId": "51e11e84-d45d-45a7-882f-60c0cb749f36"
      },
      "execution_count": 13,
      "outputs": [
        {
          "output_type": "stream",
          "name": "stdout",
          "text": [
            "['Abandonato', 'Abatangelo', 'Abatantuono', 'Abate', 'Abategiovanni']\n"
          ]
        }
      ]
    },
    {
      "cell_type": "markdown",
      "metadata": {
        "id": "25Dno_otzPBJ"
      },
      "source": [
        "### Turning Names into Tensors\n",
        "\n",
        "Now that we have all the names organized, we need to turn them into\n",
        "Tensors to make any use of them.\n",
        "\n",
        "To represent a single letter, we use a \"one-hot vector\" of size\n",
        "``<1 x n_letters>``. A one-hot vector is filled with 0s except for a 1\n",
        "at index of the current letter, e.g. ``\"b\" = <0 1 0 0 0 ...>``.\n",
        "\n",
        "To make a word we join a bunch of those into a 2D matrix\n",
        "``<line_length x 1 x n_letters>``.\n",
        "\n",
        "That extra 1 dimension is because PyTorch assumes everything is in\n",
        "batches - we're just using a batch size of 1 here.\n",
        "\n",
        "\n"
      ]
    },
    {
      "cell_type": "markdown",
      "metadata": {
        "id": "-v2bN7RJzM4F"
      },
      "source": [
        "### 이름을 Tensor로 변경\n",
        "\n",
        "이제 모든 이름을 체계화했으므로, 이를 활용하기 위해 Tensor로\n",
        "변환해야 합니다.\n",
        "\n",
        "하나의 문자를 표현하기 위해 크기가 ``<1 x n_letters>`` 인\n",
        "\"One-Hot 벡터\"를 사용합니다. One-Hot 벡터는 현재 문자의\n",
        "주소에는 1이, 그 외 나머지 주소에는 0이 채워진 벡터입니다.\n",
        "예시 ``\"b\" = <0 1 0 0 0 ...>`` .\n",
        "\n",
        "단어를 만들기 위해 One-Hot 벡터들을 2차원 행렬\n",
        "``<line_length x 1 x n_letters>`` 에 결합시킵니다.\n",
        "\n",
        "위에서 보이는 추가적인 1차원은 PyTorch에서 모든 것이 배치(batch)에 있다고 가정하기\n",
        "때문에 발생합니다. 여기서는 배치 크기 1을 사용하고 있습니다.\n",
        "\n",
        "\n"
      ]
    },
    {
      "cell_type": "code",
      "source": [
        "'''\n",
        ".. NOTE::\n",
        "역자 주:  One-Hot 벡터는 언어를 다룰 때 자주 이용되며,\n",
        "단어, 글자 등을 벡터로 표현할 때 단어, 글자 사이의 상관 관계를 미리 알 수 없을 경우,\n",
        "One-Hot으로 표현하여 서로 직교한다고 가정하고 학습을 시작합니다.\n",
        "이와 동일하게, 상관 관계를 알 수 없는 다른 데이터의 경우에도 One-Hot 벡터를 활용할 수 있습니다.\n",
        "'''\n",
        "\n",
        "import torch\n",
        "\n",
        "# Finde letter index from all_letters, e.g., \"a\" = 0\n",
        "def letterToIndex(letter):\n",
        "    return all_letters.find(letter)\n",
        "\n",
        "# Just for demonstration, turn a letter into a <1 x n_letters> Tensor\n",
        "def letterToTensor(letter):\n",
        "    tensor = torch.zeros(1, n_letters)\n",
        "    tensor[0][letterToIndex(letter)] = 1\n",
        "    return tensor\n",
        "\n",
        "# Turn a line into a <line_length x 1 x n_letters>, or an array of one-hot letter vectors\n",
        "def lineToTensor(line):\n",
        "    tensor = torch.zeros(len(line), 1, n_letters)\n",
        "    for li, letter in enumerate(line):\n",
        "        tensor[li][0][letterToIndex(letter)] = 1\n",
        "    return tensor\n",
        "\n",
        "print(letterToTensor('J'))\n",
        "\n",
        "print(lineToTensor('Jones').size())"
      ],
      "metadata": {
        "colab": {
          "base_uri": "https://localhost:8080/"
        },
        "id": "UyK2iUay4HTe",
        "outputId": "9b5d16e3-ae53-4270-acde-75417a07c795"
      },
      "execution_count": 18,
      "outputs": [
        {
          "output_type": "stream",
          "name": "stdout",
          "text": [
            "tensor([[0., 0., 0., 0., 0., 0., 0., 0., 0., 0., 0., 0., 0., 0., 0., 0., 0., 0.,\n",
            "         0., 0., 0., 0., 0., 0., 0., 0., 0., 0., 0., 0., 0., 0., 0., 0., 0., 1.,\n",
            "         0., 0., 0., 0., 0., 0., 0., 0., 0., 0., 0., 0., 0., 0., 0., 0., 0., 0.,\n",
            "         0., 0.]])\n",
            "torch.Size([5, 1, 56])\n"
          ]
        }
      ]
    },
    {
      "cell_type": "markdown",
      "metadata": {
        "id": "Ll5Mvm-HzPBJ"
      },
      "source": [
        "## Creating the Network\n",
        "\n",
        "Before autograd, creating a recurrent neural network in Torch involved\n",
        "cloning the parameters of a layer over several timesteps. The layers\n",
        "held hidden state and gradients which are now entirely handled by the\n",
        "graph itself. This means you can implement a RNN in a very \"pure\" way,\n",
        "as regular feed-forward layers.\n",
        "\n",
        "This RNN module is just 2 linear layers which operate on an input and hidden state, with\n",
        "a ``LogSoftmax`` layer after the output.\n",
        "\n",
        "\n"
      ]
    },
    {
      "cell_type": "markdown",
      "metadata": {
        "id": "5PXndaX4zM4F"
      },
      "source": [
        "## 네트워크 생성\n",
        "\n",
        "Autograd 전에, Torch에서 RNN(recurrent neural network) 생성은\n",
        "여러 시간 단계 걸쳐서 계층의 매개변수를 복제하는 작업을 포함합니다.\n",
        "계층은 은닉 상태와 변화도(Gradient)를 가지며, 이제 이것들은 그래프 자체에서\n",
        "완전히 처리됩니다. 이는 feed-forward 계층과\n",
        "같은 매우 \"순수한\" 방법으로 RNN을 구현할 수 있음을 의미합니다.\n",
        "\n",
        "이 RNN 모듈은\n",
        "입력 및 은닉 상태로 작동하는 2개의 선형 계층이며,\n",
        "출력 다음에 ``LogSoftmax`` 계층이 있습니다.\n",
        "\n",
        "![image.png](data:image/png;base64,iVBORw0KGgoAAAANSUhEUgAAAYgAAAF2CAIAAAD7uZgYAAAgAElEQVR4Ae2dCVwb17X/L6tZPgYDBrwDyu4sH/sTZ2ncbM3SxEvi5LV10jR1m7ZJ6qRJ474ubtOXpU7fP0nTLG4yM9JICLSAzA4yNgIbs8gmKRhbEOzYGDtgB7BVwIAeJaqsf0bXUWQNi6TRMjM6fPxJRqN7zz3nd8796s6dQSA7/IACoAAowDMFEM/8AXdAAVAAFLADmKAIQAFQgHcKAJh4lxJwCBQABQBMUAOgACjAOwUATLxLCTgkegXGxsb6+/tPnDhx6NCh/fv3NzQ07N27d8+ePQaDYdeuXdXV1Xq9vqKiQq/X7969u7a2dt++fU1NTS0tLa2trZ2dnX19faOjo+JWCcAk7vxCdKFRwGaz9ff3d3R0NDY26vX6wsJCpVIpk8lIxw9BEBRF0TStUChUKpVWqy0sLNTpdEVFRcXFxaWlpRUVFZWVlaWlpcXFxTqdTqvVajQalUqlVCrlcrlUKsV2SJKUSqXYSElJyZ49e9ra2vr6+qxWa2jC9t+oACb/aQmWwliBM2fOfPzxx3q9XqVSYQBRFCWXyzUaTVlZmRMZIyMjNpvNLzrZbLbh4eFTp051dHQcOHCguroa44+iKJIk8eg6na6urq6rq2tiYsIvgwbNCIApaFLDQKJSYGhoyGg0FhUVyeVyDAKlUllWVtbc3Hzq1KmQhzowMNDZ2WkwGLRaLU3TeG2lUqkqKysPHz7Mf04BmEJeQuCAYBTo6+urr6/XarV4VZKXl1ddXd3V1WWxWHgeg81m+/zzz41GY1lZmUKhIElSLpcXFxd/8skn4+PjPHQewMTDpIBLPFLAZrOZTKaSkhKKoqRSqUajqaurO3nyJI9c9N4Vq9Xa2dlZVVWlVCoJgpBKpaWlpZ2dnd5bClQPAFOglAW7glZgYmLCaDRqNBqSJGma1uv13d3dgo5oOudtNtvx48fLy8vx1lhBQUFLS0vIr/UATNPlC86HqQIdHR2YR3l5eXV1dWazOXyEGBgYqKmpwcuovLy8lpaWUN3gAzCFT9VBpDMpcPbsWb1eL3X81NTUiP5BoZm0sNstFktjY2Nubi5JkkVFRSdOnJi5vd/fBTD5XVIwKDAFOjs78QzU6XSfffaZwLwPsLv9/f1VVVVSqVQmk9XU1ATtEg/AFODEgnkeK9Da2qpQKKRSaUNDw+TkJI89Db1rJpMJX+GWlZUNDQ0F2iEAU6AVBvu8U8BmsxmNRpnjx2g08s4/HjvU399fVFREkqROp+vr6wucpwCmwGkLlvmogMlkkkqlcrm8tbWVj/4JwafR0dGqqiqSJFUqVX9/fyBcBjAFQlWwyUcFzp49q1KpKIoCJPklPZOTkzt37iRJsqSkZGxszC82nUYATE4p4EC0CkxMTOBP+KqqKthL8m+ah4aGCgsLCYLYs2ePH58tADD5N01gjXcKHD16VCqVqlSqgYEB3jknFod6enpyc3OlUqm/bmsCmMRSGhDHVApUV1eTJNnW1jbVm3DOzwp8/PHHJElWVlZy/wYFAJOfcwPmeKLA8PBwbm6uXC4/e/YsT1wKBzfMZjP+0iiO9+wATOFQLWEXY3t7O0VRZWVl3D+6w047fwRcW1tLkmRNTY3PxgBMPksHHXmqQHNzM0mShw4d4ql/4eFWX18fTdPFxcW+hQtg8k036MVTBWpraymKOnPmDE/9Cye3JiYmFApFfn6+D7/IAmAKp0oRe6xVVVUURQXokT+xixeQ+KxWK/4KTW9/iwXAFJB8gNHgK7B7926CILydAMH3MwxHLC8vJ0nSqyfIAExhWCciDBk/FhDm31XC57xWVFRQFOV5ggBMfM4m+OaRAp988glFUfBYgEdiha5RcXExTdMerpsATKFLFIzsDwVOnTpFkuSxY8f8YQxsBFYBjUaTl5fnyTMcAKbAZgKsB1SBkZERiqLgq0sCKrIfjdtstvz8/JKSklltAphmlQga8FcBhUKxc+dO/voHnrEUsFgsFEUdPHiQ9c4lJwBMl8gBLwSkgNFolEqlnlwXCCiocHD18OHDFEXN/Mf4AEzhUAkijNFisZAkeeTIERHGFgYh6XS6wsLCGQIFMM0gDrzFXwWKi4u1Wi1//QPPZlRgYmKCoqj29vbpWgGYplMGzvNXgZ6eHpIkPX8ohr+RhLFnbW1tNE1PJwCAaTpl4Dx/FVAqlfv27eOvf+CZZwrIZLLpdsEBTJ5JCK14o8DAwIC3v9/AG9/BkUsUaGhoyM3NveTU1y8ATF8rAf8XiAKlpaWePAgjkGjC2k2r1UpR1JR/5hfAFNaVIbjgrVYrSZLwrSaCS9x0DtfW1qrVava7ACa2JnCGvwo0NTUplUr++geeeamA2WwmSZLdCcDE1gTO8FeB3Nxc+Ktw/E2PT57JZDL2rzoCmHzSEjoFS4Hu7m7njRur1UoQxP79+7u7u4M1PowTcAWKi4v1er3bMAAmN0HgJb8UGB4edu5BHD16lKZptVo9PDzMLy/BGw4KtLa2KhQKNwMAJjdB4CXvFHCSqLq6WqfTOTnFO0fBIZ8UmJycZD//AWDySUvoFEQFGhoaTCaT3W7Pz8+vqalpaGgI4uAwVDAUoCjK7e8kA5iCoTuMwUWBnp4e/N0mJEmWl5f39PRwsQZ9eaiATCZz+9viACYepglcukSByclJmqaHh4dJkvT8u1kvMQEv+K2AUql0u9kKYOJ3xsA7hwJlZWWffvopRVHl5eUgifgU0Gq1br/8CGASX5ZFGFFra+vu3bulUmlbW5sIwwv7kEpLS6urq11lADC5qgHHPFVgcHBQoVAQBDE4OMhTF8EtDgpUVVVVVla6GgAwuaoBx/xVgHD88Nc/8IyDAgAmDuJB15AqAGAKqfyBHRzAFFh9wTooAAr4oACAyQfRoAsoAAoEVoFZwGTRSuAfDxXgUhQ8DAdcsmglXHIqvr56vb6iosI1rks2v6Fi+KmAa8K8PeZnROCVt3kUd3tYMQlyScilKAEB/FSAS07F1xfABGASpAL8hAsXr8QHFy4RAZgEOS25pJzL5IG+gVOAS07F1xfABGASpAKBA0SoLIsPLlwiAjAJclpySXmoJh6MO7MCXHIqvr5wVw7AJEgFZp7kQnxXfHDhEhGsmAQ5LbmkXIiTNhx85pJT8fUVMJg0L2a8ujHl2PZl4VC1bjFyKUQ3U6F6OabOeXVjyjub0tgOTJfZcQ3T5e0fp7K7tL615NWNKZVbF7DfEsoZLjkVX18Bg+lHdyRmJkc0/mWR3ytPtyUz/4UMv5v1o0EuhehHN7iYGsnPQQhlJkewjUyX2VE10yV97hRdlM+nI4SevX8u25pQznDJqfj6ChhMASq4MXXOopSIh2+OD5B9v5jlUoh+cYC7kRnANJ1xABOXvAurr4DB9PN750oyo5rfWDyoyJZkRm24OX7vq4tulMQsSYt8bWPKSH6ORSvJfyFDkhn1t01pv1qTlD43YlFKBL05Hdf9+lXxksyo7g+ZK8ExdY4kM+rmy2M63l26bH4kQig+Bkkyo87IsqabJKE9z6XIQuu5c3QMpkUpEfWvLbrpsphl8yP/8vjFrDkza9FK/qXMfvLOxHnx6IZl0dV/Wui6Ymp7e8lNl8UkxaEHV8Z98FSac8U0rsl544eply+ISohFq6+K/edbS/CgP74zUZIZdfidJQ/fHJ+aiDbdlfjpe0ud/oT8gEtOxddXwGBae2McQqjulYVDecwKf2FKhCQz6qGb4qMZsKDqPy20aCXSZ5kVfkZSxE2XxTy2OoF5AyFcjiuyYxBCR95nStP5UXySWLbR0eyyzKiX1iWfy80Oeb1O6QCXQpzSYPBPYjBlJEVclhm1flV8VMQ3WXNm9qvUbFmfjK/4XliTlJXOpBZfyo1rcnIymJe3Xx372OqEFEdun3Fcyv3vE6kIobuWz/nbprRFKRGpiQjn8cGVTMHcfHnMPdfNWZTCjPeze3h06cclp+LrW1lZWVVV5RqXYH6J11m+uMQRQlWOvc/XNqYghLasT7ZoJfLNDJiWpkWOa5gF1KO3xCOEXn8sxaKVTAkmi1ay99VFCCG4lAs0qpxZwzvWrzqy9puHmKw5M2vRSjKTGYLgnUTdlkwnmOpeYVZPS9IisZ/44wSDacE8psvxfzBr4bd/zECKeHq+0+xT32Fg1PHuUoRQVvrF7oEO1hP7rpMQjsWwYsIlHhuFhh2Xb5VbFyCE1q9iNokwmB655eKG0euPMcz6xX1MaQKYPJktgWszQ9acYMJrYYSQWcksXbs/XOYEE+34yFl7Yxz28K0nGQA9c//cs4psvC5eJYlZJYm5cmEUQuildd/wruCli7c1kpj1EzqvYj6x+PAPYOSqgHjA5Ly/s8ex5HEF04/vTMSV96ajfPFnJgZTx7vMpdwXdJaz4mHFFJxZisE0ZdacYBqQM5SJjkSjagYfvdQ3afro6flfXZV//1sJ2Nv3HXtMz9w/94yMaRMZgbY+Os/5r/ClTOeKqe4V5hrfuRYDMLnigD/HYQGma5dE41p84vZEhNDL35tn0UoeWMF8Yuq2MCVb9N/fXCNgMDk/ioMzS70dhUsBeTtWgNp7AiaLVpIQy6xr8AZ2+e+ZtTDeY8LHVy2Kwu5tuovJLL6Uw0shvHs4lJczlHdxTeTkHe6CLxIBTFxqKXB9wwJM0ZHohTVJf9uUljiHqfJP3lxs0Ur+tom5j3P1oqhtj6esyI6JjkRpiciilXS9z+w+ZCRFlPw2c1ABm9+BuszxEEw/uI3Z1r796tj8FzJWZEUjdDFN53Kz5zqyuWV98ptPpuLN76cdF+nPPZCEEFq3Km73ywu/uyIuKgI1v8FkHMAUOI743XJYgOmpe+becx1TxdGR6C+PMzvfeMNi/ar4CMczfrteXpiZHJEQy4DJopWsX8XskUdFINPfeXQ7GfuG/8ulDlzthPDYQzAd/WDp8iUMj+bFo7xfZcTHIGeaNC9m4PXU8iXR23/OXNltuou5Zu+nsx9bnRDpuM135cIo6llm5xvAxKVmgt9XwGDyZFLhze/NDyThjST8cJNrx3566jXRGVnWmGNfw7Uxf465FAp/ovDck8/JLHxf1a3LqDrntHTqZ83Oq3L6pnnLzQhPXnLJqfj6hhGYeFJ/fnGDSyH6xQEw4ncFuORUfH0F/ByTJ5Wh/XVGRlLEHx5hdrvF9I9LIYpJBzHFwiWn4usr8hWTmArXNRYuhehqB475owCXnIqvL4BJkCspLoXIn6kInrgqwCWn4usLYAIwCVIB1yktjmPxwYVLRAAmQU5LLikXxzQWXxRcciq+vgAmAJMgFQAwiQ9GrhEBmAQ5LV1T6O2x+Ka0OCLyNo/ibg9/JQXAJEgFxAEj1yjEDRpvo5tlxeStOX6237Vrl1Qqtdls/HQPvOKigM1moyhq9+7dXIxAX74pEBZgstvteXl5BEF0dnbyLQHgDxcFOjs7CYKoqKjgYgT68lCBcAGT3W5vbGyUSqU0TdfX11ssFh4mA1zyUAGLxVJfX0/TtFQqbWxs9LAXNBOQAmEEJpyV9vZ2jUZDEERubm5dXZ3ZbBZQtsLcVbPZXFdXl5ubS5KkRqNpb28Pc0FEHH7YgQnncmJi4sCBAxqNhiRJuVxeXl7e0dFhtVpFnGmBhma1Wjs6OsrLy+VyOebRgQMHJiYmBBoOuO2hAmEKJqc6NpvNZDKVlZXRNI2XUTU1NSdOnHA2gIOQKHDixImamhq8M0jTdFlZmclkgtsXIclFSAYNdzC5ij4+Pt7S0qLT6SiKIkkyPz+/pqamp6fHtQ0cB06Bnp4eg8GQn59PkiRFUTqdbv/+/ePj44EbESzzVoFZnmPird+BdmxoaKi5ubmwsFAqlZIkqVKpDAYDQMrvsmMYqVQqkiSlUqlOp2tuboaNP7/rLDiDsGKaPWVms7mpqUmn07lC6tSpU7P3hBZTKXDq1CmDweAKo6amJoDRVFKF7zkAk3e5N5vNRqOxsLCQoiiCINRq9d69e/v7+72zEn6t+/v79+7dq1arCYKgKKqwsNBoNAKMwq8QPI0YwOSpUux2AwMD9fX1+NaeVCotKipqb2+HW3tOoaxWa3t7e1FREV5pajSa+vr6gYEBZwM4AAWmUwDANJ0y3p3v7u7W6/UKhYIgCKVSWVdXF7Yz8OzZs3V1dXgPW6FQ6PX67u5u79SE1mGvAIDJzyUwPj5uNBrxMkomk5WUlITDfW6bzdbR0VFaWupcHBmNRrih5ufaCidzAKYAZvvo0aMVFRU0TeP7ek1NTSJ7MnBiYqKpqQlvY9M0XVlZeeTIkQAKCqbDRgEAUzBSPTw83NDQkJ+fTxCESqVqaWmZnJwMxsCBGWNycrKlpUWlUhEEkZ+fv2/fvqGhocAMBVbDVAEAU1ATPz4+Xl9f7/xtr8OHDwd1eM6DHT58GF+l5ubm1tfXw8UaZ0XBwNQKwAOWU+sS6LNDQ0MGg0Emk1EUVV1dPTo6GugRudgfHR2trq6mKEomkxkMBlgfcRET+nqiAKyYPFEpgG2OHDlSUFBAEIRGo+Hh10V1dnbiL2MoKCiA/aMA1gGYvlQBANOleoTo1fj4eE1NjUwmk8vlPPk2j/b2drlcLpPJampq4JItRHURvsMCmPiVe6PRiL/Nrq2tbTrPdDrd2NjYdO96cn5sbEyn003Xsq2tDX8Hm9FonK4NnAcFAqoAgCmg8vpo3Gg0ymQymqa7urrYJgwGw7Fjx9jnPT9z7Ngxg8HAbt/V1UXTtEwmAySxxYEzwVQAwBRMtb0bq6WlhaIorVZ7/vx5154mk4nj98k2NTW53RA8f/68VqulKKqlpcV1LDgGBUKiAIApJLJ7OujY2BjeGq+urnb2GRwcLCoqcr704aCoqGhwcNDZsbq6miCIgoICjleIToNwAApwVADAxFHAYHTv6OggCEKr1eIHx202G03TX375pW9jW61Wmqbxt0FOTEwolUqCIDo6OnyzBr1AgUAoAGAKhKr+tzk6Ooq/MAR/xUp5efnp06d9G+b06dPl5eV2u72/vx9/eQvPn6LyLUzoJWgFKisrq6qqXENAri/gmD8KjI2NkY6f3t7elpaW1tZW33xra2traWnp6+vD1uDyzTcZoVdAFYAVU0Dl9bPxkZERkiQJgjh+/Lher/fNul6vP378OEEQJEmOjIz4ZgR6gQIBVQDAFFB5/W98aGgIM4Wmad+s4287IAgCfrPENwGhVxAUADAFQWQ/D2E2mwnHjw9kwVwjCAK+1tbPWQFzflUAwORXOYNlrLe3lyAIhULh7YD4OzZ7e3u97QjtQYFgKgBguqi2RSuBfzxUIJiTAcbijwIAJgATr4nMn6kCngRTAQATgAnAFMwZB2N5pACACcAEYPJoqkCjYCoA32AJYAIwBXPGwVgeKQArJgATgMmjqQKNgqkAgAnABGAK5oyDsTxSAMAEYAIweTRVoFEwFQAwAZgATMGccTCWRwoAmEQCpjF1zqsbU97ZlMZ+SPKfby15dWNK1dYF7Le8PdPqMFXpD1MeDu1RFUMj0SkAYBIJmEbycxBCmckR7Amv/XVGZnLEHx6Zx37L2zPK59MRQs/eP9fbjj63F92Mg4A8UgDAJH4w+QwFdkcAk0ezChpxVgDAFBowvfuTtKsXRc2LR9//VsKulxdiBJiV2c8/mJSdHhkfg1ZkxxS8lIHPq1/MkGRGffT0/N9tSJ4/N+L2q2OPfrBU82LG5QuiVkli9H9krtHwimnBvIjKrQtWZMfMi0dPfWfuSH6ORSsp+k2mJDPqf76fYtFKnKbe+GHq4tTI1VfFlv4uE4/yOZm1cXVCRlJERlLET+5ONCuz8fm2t5fcdFlMUhx6cGXcB0+lwYqJ86QDA7MrAN9gGQIwve+Y3gvmRWxZn5yZHDF3DvqczLJoJWtWxiGEli+Jfu6BpIRYhBAq/i1DDXozcwG1IjtmZU7M4tRIhNB3V8Rlp0fecQ3TKDs90gmmxDnMy2funzt3DtP9r0+kWrQSuaP75geSnKZuuiwmOz3y9quZ7mmJaFzD8Ovmy2MQQr9el7xlfTJC6InbEy1aybgmJyeDGfErGj62OiElgTH7DFzKzT6zoAUnBWDFFAIwLZvPTHXjXxdbtBLNixkPrIgreClj/18XI4Tmz43AmMAXTbddGeskS1Z65Kg6p2nbIoYNCO17fZFFK8lKZ0wd274Mr5ic57W/zsAsc3bHYMKQykiKGHYsplZkRSOEmrct3vsqY/aWy2PwKunWK2IjI9BpaVbdKwsRQkvSGPZZtJKNqxkyAZg4zTno7IECAKZgg8mszEYIRUYgjAY84S1aieyXzLJozco4fObT95YihFISkJMsj61OsGgluHtcDBpVM8scvMja/fJCDKaor83i7qmJ33R3BdP3vsWYsmglP707ESGU+3w6+cx8vHr66tpwlSQmfW4EQqhp2yK8WFt740Wv3noyFcDkwbSCJlwVADAFG0ynpVlfXWTFRl0kixNM//g5g4bvf42MHmIZQihxjjtZLFoJQigj6eLdt0dviUcIOcGUOOfidVn3h0z35Hj37q6XdRatZPMDSRhM23/GjH7d0uitj85z/jv8zpKPnr7EK3wRCismrtMO+s+mAIAp2GCyaCVJzFYSOvj2EotWUvfKwh/dkah4Lr3mz8xFU07GxYsm3ZbMKa/FZgYTQujwO4zZ0t8x3ZcviXYuuFxXTPjYFUyVWxcghFbmXLyUG1RkjzlWZOW/Z85ftSgKA3TTXcwKC8A027SC97kqAGAKAZheXMusU+64JnbHbzJXZDNbzjt+kzmmzrlhGbPj87N75iqeS798QdRXmzv05nQ3skwHpqE85jmmCIRWXxWreiHjuqWMqa2PMs8uua6SXI9dwTSSn7M0LTICodcfS6n4w4LURHT9suihvJxzudl4H33L+uQ3n0zFm99P3wfPMXGdeNB/ZgUATCEA01lF9qa7EqOZbWtmt/vvP7n4uHbX+0vvuc5xO82xu/Tmk6l4I9yNJlNeyn1BM1eIVyyM2vZ4ShzDOnTf9XP6aeaWv2t312NXMFm0EuNfF1/vIGN0JPr21bGHHCsvvD2PbxEuXxK93XG9ueku5oZdcP7NXL7wrlgVADCFAEx4So+qc04Sy9jTeygv55Tj6QH2Wx6eGcnP+YJmnj/w4V8/ne18gsnZfVSdc1rqo0GnEd8OxDrxIK6ZFQAwhQxMvk3UcOs1c/nCu2JVAMAEYPJlYRU0Pop14kFcMysAYAIwAZhmniPwbggUADABmABMIZh4MOTMCgCYAEwAppnnCLwbAgUATAAmAFMIJh4MObMCACYAE4Bp5jkC74ZAAQATgAnAFIKJB0POrACACcAEYJp5jsC7IVAAwBQC0TkOabPZKIravXu3b3Z27dollUptNptv3aEXKBAEBQBMQRDZn0N0dnYSBFFRUcHFaF5eHkEQnZ2dXIxAX1AgcAro9Xq3IkeBGwws+6yAxWKpr6+naVoqlTY2Nvpsx9mxsbFRKpXSNF1fX2+xWJzn4QAU4IMCsGLiQxam9cFsNtfV1eXm5pIkqdFo2tvbp23q0xvt7e0ajYYgiNzc3Lq6OrPZ7JMZ6AQK+FkBAJOfBeVuzmq1dnR0lJeXy+VyzKMDBw5MTExwtzydhYmJiQMHDmg0GpIk5XJ5eXl5R0eH1Wqdrj2cBwUCrQCAKdAKe2r/xIkTNTU1ePeHpumysjKTyRTkLWqbzWYymcrKymiaxsuompqaEydOeBoDtAMF/KQAgMlPQvpkpqenx2Aw5OfnkyRJUZROp9u/f//4+LhPxvzcaXx8vKWlRafTURRFkmR+fn5NTU1PT4+fhwFzoMBUCgCYplIlkOcwjFQqFUmSUqlUp9M1NzfzfHNnaGioubm5sLBQKpWSJKlSqQwGA0AqkGUS7rYBTMGogFOnThkMBlcYNTU18RxG0+liNpubmpp0Op0rpE6dOjVdezgPCvigAIDJB9E86tLf37937161Wk0QBEVRhYWFRqNRoDCaLmCz2Ww0GgsLCymKIghCrVbv3bu3v79/uvZwHhTwUAEAk4dCedTMarW2t7cXFRXh1YRGo6mvrx8YGPCos8AbDQwM1NfX41t7Uqm0qKiovb0dbu0JPKshcx/A5Afpz549W1dXh/ewFQqFXq/v7u72g13Bmuju7tbr9QqFgiAIpVJZV1cXJnQWbMZ45ziAyceU2Gy2jo6O0tJS5+LIaDTy5IaajyEFoNv4+LjRaMTLKJlMVlJSEvxnIAIQFpgMuAIAJu8knpiYaGpqwtvYNE1XVlYeOXLEOxPh2vro0aMVFRU0TeP7ek1NTQF9ajRcZRZJ3AAmjxI5OTnZ0tKiUqkIgsjPz9+3b9/Q0JBHPaERS4Hh4eGGhob8/HyCIFQqVUtLy+TkJKsVnAhrBQBMs6T/8OHD+EokNze3vr4eLtZm0cubt8fHx+vr652/CXj48GFvekNbMSsAYJo6u6Ojo9XV1RRFyWQyg8EA66OpZfLT2aGhIYPBIJPJKIqqrq4eHR31k2EwI1QFAEzumevs7MS/cF9QUAD7R+7qBPj1kSNHCgoKCILQaDTwdVEBFpvX5gFM36Snvb1dLpfLZLKamhq4ZPtGl6AfjY+P19TUyGQyuVzu9296CXo0MKAvCoQLmMbGxnQ63XQKtbW14e9gMxqN07WB88FXwGg04m+za2trm250nU43NjY23btwXqAKhAuYjh07ZjAY2Enq6uqiaVomkwGS2OLw5IzRaJTJZDRNd3V1sV0yGAzHjh1jn4czglYgXMDU1NTkdtPn/PnzWq2WoqiWlhZBpzBMnG9paaEoSqvVnj9/3jVkk8nkl+8adrUJxyFXoLKysqqqytUNcX7nd1FR0eDgoDPO6upqgiAKCgrgKsCpCf8PxsbG8NZ4dXW109vBwcGioiLnSzgQhwJhsWKyWq00TeNvg5yYmFAqlQRBdHR0iCOF4RZFR0cHQRBarRY/OG6z2ULj684AACAASURBVGia/vLLL8NNB3HHGxZgOn36dHl5ud1u7+/vx1/QAU/KCLqsR0dH8ZfJ4K9YKS8vP336tKAjAufdFAgLMLW1tbW0tPT19ZGOH7h8cysCIb4cGxvD2ezt7W1paWltbRViFODzdAqEBZj0ev3x48cJgiBJcmRkZDot4LywFBgZGSFJkiCI48eP6/V6YTkP3s6sQFiACf9GO0EQ8JslM1eD4N4dGhrCnzc0TQvOeXB4BgXEDyZcuwRBiOxrbWdIali9ZTabCccPfOqIKe/iBxP+HsXe3l4xpQ1icVWgt7eXIAiFQuF6Eo4FrcAsYFrzXi/846ECXGqOh+GAS2vegw/OS4oawCRI8l6SQy9fAAX4qYCXaRR5cwATgEmQCvATLly8EjlpvAwPwCTIaellli9pzmXyQN/AKXBJksL+BYAJwCRIBQIHiFBZDnsWXSIAgEmQ0/KSHHr5IlQTD8adWQEv0yjy5gAmAJMgFZh5kgvxXZGTxsvwAEyCnJZeZvmS5kKctOHg8yVJCvsXogLTs/lf5DYP/7Fk0LWOv/dRn+tLcRxzqVtxKCC+KLjkVHx9RQWmbVXn/jX+H23LCK7a3Obhk+eYv6TYN/RlSev5DdvFQyguhSisKe3Jh802/bnc5uEn6TPCCs3NWy45FV9fUYHJNdO/3TFgt9u7ByfJfUNH+v9tt9udwHJtJtBjLoUorJA9+bDZ3/1/drv9N7oBYYXm5i2XnIqvr6jA9GrF2dNDX+YZh9e81/vWLrOhc+wFbf9XD/u/Un7WbrcfOPF/uBT+X7W5e3By4kvb6aEvdZ+cf2i78LaZuBSi23wQ0MvpPmwATFzqgZ99RQWmt3aZ7XZ7+cFRt8lWfpD5y666T86vea/37d1Mm7F/20rbRj//F/N9rLWfjru15/9LLsXE/+hcPfTkwwaDaWvJYOMxy7DlP7s6xn4iF95lHZeciq+vXq+vqKhwjeuSP0bgWiL8P54STO/V/uvChQtj/7Y9IT295r3eM8MMjH5fxGyQP7y91/qfC7YLF34kY94S0D/XhHl7LKAw8cp31g8bDKbP+v998POJc2NWu92uPzwmrDDhl3jdyljkK6a/15gvXLhgmbThDYgN2/suXLjwH9uFR/5xcSP82ACzO/6H4ktu5PG/pt2y6NVL/kfn6qEnHzYYTLs6GBg9lXvGbrd/MWJ1NSKIY6+SKPrGYgbTOzVm24UL58asm9XMTtOa93q/91Gf3W6ftF5Y9/7F9VHHaWZf/OXSs4KoXaeTXOrSaUQQB2wwuX3YrHmvF4NpW9U5HNHYv212u92ZYkGECSsmt5IWLZieyfvC+p8LI5b//FRxyXbDsOU/drv9eQ2DqnXv9058yRSx4LYk3LLo1UuhTFTspxuY2B82TjA578qZx5gUA5i8qgq+NRYtmP55krmFfPLcpKFzDP8raWU2v/OMw3a7/Wj/v7dVnWs+brHb7S1f360T0IzlUkYCCtNtj2m6Dxu8YgIwcakKvvUVLZhOD7n/BcRzY8y+w0Mf9Oo+Of9/k8xC6Uvrhfqj44+RAtv55rjsFy6YpvuwATDxDSvc/REVmLyack9ITwtute8MkEvinUYEceB6KTfdhw2AiUs98LNv+IJJENNyOie5FNN0NuF8aBXgklPx9QUwCenxJefM4VKITiNwwCsFuORUfH0BTAAmQSrAK6b4xRnxwYVLRAAmQU5LLin3yywCI35XgEtOxdcXwARgEqQCfudCyA2KDy5cIgIwCXJackl5yGcgODClAlxyKr6+ACYAkyAVmHJuC/qk+ODCJSIAkyCnJZeUC3r2ith5LjkVX18AE4BJkAqIj1DigwuXiMIOTNs+2rHtox1CL2suKRd67GL1n0tOxdd3FjCFQ8DiizEcImIXbjhEHT4xsvN7yTdYik8IdsDiizEcIoI8ijvL7PwCmMSdcZFExy5ckQQGYTgUmOU7v8WnEhS0OHIKeRRHHqeLgp1fWDFNpxWc55EC7MLlkXPgCmcF2PkFMHEWFQwEXgF24QZ+TBgheAqw8wtgCp76MJLPCrAL12dT0JGHCrDzC2DiYZrAJXcF2IXr3gJeC1kBdn4BTELOZ9j4zi7csAk9LAJl5xfAFBaJF3qQ7MIVekTgv6sC7PwCmFz1gWOeKsAuXJ46Cm75pAA7vwAmn4SETsFVgF24wR0fRgusAuz8ApgCqzhY94sC7ML1i1kwwhMF2PkFMPEkNeDGTAqwC3em1vCe0BRg5xfAJLQchqW/7MINSxlEGzQ7vwAm0SZbTIGxC1dM0UEs7PwCmKAqBKAAu3AF4DS46LEC7PwCmDwWDxqGTgF24YbOFxjZ/wqw8ytOMHV3dx88eNButzsDPnjwYHd3t/8VBYtBUcCZx6CMBoMEWwF2fsUJpuHhYbVa7QomtVo9PDwcbL1hPD8pwC5cPxkGM7xQgJ1fcYLJbrdjEuGAnZziRRLACe8VYBeu9zagB38VYOdXtGBqaGgwmUw4YJPJ1NDQwN+0gGezKcAu3Nl6wPtCUoCdX9GCqaenZ+fOnTjgnTt39vT0CClR4OulCrAL99L34ZWwFQij7/yenJykabqysrKiooKm6cnJSWGnLry9BzCJO//s/Ip2xWS328scP6WlpWVlZeLOq+ijYxeu6EMOqwDZ+RUzmFpbW3fs2FFYWNjW1hZWaRZfsOzCFV+M4RwRO79iBtPg4KDU8TM4OBjOWRdB7OzCFUFQEIJTAXZ+xQwmu91OOH6c8cOBQBVgF65AAwG3p1SAnV+Rg0mhUOTl5U2pBZwUkALswhWQ8+DqrAqw8ytyMM2qCDQQhALswhWE2+Ckhwqw83sJmDb0NcI/HirgYXZF3IxduCIONgxDY+cXwCQAFodhpbqFzC5ctwbwUtAKsPMLYAIwCaCk2YUrAKfBRY8VYOcXwARg8rh8QteQXbih8wVG9r8C7PwCmABM/q8zv1tkF67fhwCDIVSAnV8AE4AphAXp6dDswvW0J7QTggLs/AKYAEwCqFx24QrAaXDRYwXY+QUwAZg8Lp/QNWQXbuh8gZH9rwA7vwAmAJP/68zvFtmF6/chwGAIFWDnV9hg+u4nxSv+9ofrt7308Of7ePhgpL9cCmHF8GRoduHyxDFwwy8KsPMrYDCtO7o7IjYGITT3qpyHTu69t1F75Us/ebi3wV844I8dv+Re0EbYhSvocMB5NwXY+RUwmG6WvYEQWvr9BzFBJD/7PkJIlEsntyyG4Ut24YahCCIOGX/TrGuAPALTHeUfLf3Bg7GZ8+OzFmc98dCDhyoxce7Zp864+9boeUkxafMy71t9X3Phhr7Gle/9KWZ+CkIoam5CfNbi9LtuQTHRCKH4rMWrtv/PTeTr8VmLV7z9+yt+9WR0anLarSvubym6iXo9IWfJvBVX31bw7kXLe/OXPbZ2zsL0pGuvWP7HZ9cfq93Q13j9tpfisxZf8/tfbOhrfLi3IfP+b8dnLb6zigrhAso1YeF5DGASd97Z+eULmNZ9VhOZEBebkXrtK89f+dJPUGTE4kfu29DX+GB7RWRiPEJo4bq7FzxwB0IoJm3e2iO7by/7MPPe2xBCydddcfkvH1/+p19GxM1BCF327ON3VBA3vv8y89b1VybfcNWchekIoYy7b41btjDtWysQQnHLFmLKpNx4LULomq3PYlM3vv/yhr7G9d11iZcvQ9FR9zZoVv59K7Mo+8HFRVmo2CTuovQkOnbhetIL2ghFAXZ++QKmexs0CKG0W1es7dq1oa/xjkryrl30hr7GK57/EUIo+8cbMBQwm6577cUNfY2r/vEKQijnp/+F34rNTGMu5Rx7TBhMcUsXPHyq/k69FDl+7qgkN/Q1xi1dgBD67ifFa7t2rXjztxhG9+zNRwil33ULNnVnFYUQSr31hujU5DkL0rFLoaLShr5GoZRX4PxkF27gxgLLwVeAnV++gOnh3oaEy5YxAImJTrtt5XWvvbDu6O4NfY0Z93wLIYTxsaGv8ZqtzyCEsp582BMw4TXX+mO1CKGIObEPn6rf0NeYed9qhNC3d3ywoa/x3kbt8pc3Z97/bbySSpAsddIHAxEhdJv2786ToToIfqHwbUR24fLNQ/CHiwLs/PIFTBv6GteYqi7f/ETSNZfhBU7yDVc93Nsw//ZVCKGbZW9gKFz32osIoWWPrfUETDlPfQ/3YnA3PwUfL1x3NwbTg4cqUVRkbEbqVb956pqtzyKEXMF02dMbsRs3S/8SKh45x+WScnH0ZReuOOKCKLAC7PzyCUydO/H283c/KU6+/kqE0L2N2uxNjyCELn/uR3iWLn7kPrwrNB2YHurZu6GvEV/KzQyma//8HGPKscn97eLtzMZ59mI8yu2lHzqu7G6OzUyLTk12bsM7SRHkAyhfduGCJmJSgJ1fvoAJb+ssXHvXHRXE6h3vM5d1UZFrP63+zp58FBERlTz3hje2XLXlqYg5sZEJcQ+2V7DBhFl27SvP39dc6AmYcJvUm6+/hX4j6doropISIubE3tugWXfMEJ+1OGJOLL6Rx+y7r7kzyCRyG05MJehbLOzC9c0O9OKnAuz88gVMG/oal7+8OSFnCXMBFRs9f/XKW+iLl2+3KP43bgmzY808S3m15PayD/G8ddv8XvHW7/CNueV/+qUnYFp3dHf6nTcjhKLnJd34wZ+vfeV5FBUZn7Uo56f/hRBa/vJmPErG3bcihFb94xU3WATzJT+LKZhesQs3mKPDWIFWgJ1fHoEJT/W1XbseOrGHPe3XdOxc91kN+7zrmfXHavHFoOvJmY/Xdu1yPiy+/ljtQyeZK0G+/Qt0WfDfPrtw+e8zeOi5Auz88g5MfIMCH/zxPMFibckuXLFGGp5xVVZWVlVVucYOYOLd+oiNQteEhecxgEnceWfnF8AEYBJAzbMLVwBOg4seK8DOL4AJwORx+YSuIbtwQ+cLjOx/Bdj5BTABmPxfZ363yC5cvw8BBkOoADu/ACYAUwgL0tOh2YXraU9oJwQF2PkFMAGYBFC57MIVgNPgoscKsPMLYAIweVw+oWvILtzQ+QIj+18Bdn4BTAAm/9eZ3y2yC9fvQ4DBECrAzu8lYAqhZwEamh1wgAYCswFVAPIYUHlDblyv11dUVLi6AWByVQOOeaoAgImnifGTW+z8Apj8JC2YCaQC7MIN5GhgO9gKsPMLYAp2DmA8HxRgF64PRqALbxVg5xfAxNtkgWPfKMAu3G/egyPhK8DOL4BJ+FkNgwjYhRsGQYdRiOz8ApjCKP3CDZVduMKNBTxnK8DOL4CJrRKc4Z0C7MLlnYvgEAcF2PkFMHGQE7oGSwF24QZrZBgnGAqw8wtgCobuMAZHBdiFy9EgdOeVAvCAJa/SAc54qgCAyVOlhNmOnV9YMQkzk2HmNbtww0wAkYfLzi+ASeQpF0d47MIVR1wQBVaAnV8AE9SGABRgF64AnAYXPVaAnV8Ak8fiQcPQKcAu3ND5AiP7XwF2fgFM/lcZLPpdAXbh+n0IMBhCBdj5BTCFMB0wtKcKsAvX057QTggKsPMLYBJC3sLeR3bhhr0kohJglr/EK6pYHcFAQYsjp5BHceRxuijY+RXniqm7u/vgwYN2u90Z8MGDB7u7u6fTBc7zUwHIIz/z4nevnPPUaVmcYBoeHlar1a5gUqvVw8PDzrDhQBAKQB4FkSbuToYLmOx2OyYRDthZ39wVBAtBVgDyGGTBQzJcGIGpoaHBZDLhgE0mU0NDQ0gUh0E5KgB55CigILqHEZh6enp27tyJA965c2dPT48gMgROuikAeXQTRJQvwwhMk5OTNE1XVlZWVFTQND05OSnKjIo+KMij6FPsuhfsDFacm984vDLHT2lpaVlZmTNgOBCcApBHwaXMW4fD6/uYWltbd+zYUVhY2NbW5q1S0J4/CkAe+ZOLAHkSRpdydrt9cHBQ6vgZHBwMkKBgNggKQB6DIHJohwgvMNntdsLxE1rRYXTuCkAeuWvIZwthByaFQpGXl8fnlIBvnigAefREJeG2mQVMFq0E/vFQAS4Fx8NwwCWLVsIlp+LrC2ASJHm5FCJQgJ8KcMmp+PoCmABMglSAn3Dh4pX44MIlIgCTIKcll5RzmTzQN3AKcMmp+PrO8hxT4NIAlrkowKUQuYwLfQOnAJeciq8vrJhgxSRIBQIHiFBZFh9cuEQEYBLktOSS8lBNPBh3ZgW45FR8fQFMACZBKjDzJBfiu+KDC5eIAEyCnJZcUi7ESRsOPnPJqfj6ApgATCFTQPNixqsbU45tX+bGnTF1zqsbU97ZlOZ23qKVtL615NWNKZVbF7i9Na5hurz941S38wJ6KT64cIlI/GB6dWPKP99a4nOBmv6+9I+PzhvX5PhsIRAduaQ8EP74ZnPtjXEIobpXFrp1H8nPyUyOuH5ZtNt5i1aifD4dIfTs/XPd3hpV5yCE0udGuJ0X0EsuORVfX5E/LrDn1UUIobxfZfhcoM89kIQQGlMDmPy/sJoOTDMkC8AkPgZNGZGQVkxmZfbzDyZlp0fGx6AV2TEFL13Ezfafz5dkRn34i/m4oJ++b64kM6pp26J3NqWlJSKEUEZSxOPfTuinsyWZUd9dEbfjN5nXLI5OiEWb7kocyWeIs35VvCQzqvtD5ppiTJ0jyYy6+fIYi1by3RVxMVGMBUlmVO7z6TNMmCC/NWUuPTwZZFdnGA6DSf/HBY/cEj9/bsRP707sen+pRSs5r2JScOsVsbhv29tLbrosJikOPbgy7oOn0pwrpn8ps5+8M3FePLphWXT1nxa6rpg+J7M2rk7ISIrISIr4yd2JZmW2RStRv5ghyYz66On5b/wwdXFq5OqrYkt/lzmDe0F+y8P0hUkzIYFpzUpm5b98SfRzDyQlxDK8KP4tU1ivP5aCEHrjhxf3F9avikcIGf5nYdXWBSuyYxBiCnr7z+abldkIoYRYtCQt8vkHk5IYYxd74WZHHLPC9aLgf59IjWcMoF+vS65/bVGQK3WG4bhU5wxmg/wWBtPKnJi7r52zYF4EQujn9zLXaCP5zHVZZjJzXTauycnJiEQI3X517GOrE1ISmHQ847iU27I+GTd7YU1SVjrTxnkpd/PlTNp+vS4Zt3ni9kSLVkJvZi4Db7osJjs98varmQJKS0T8uUjnklPx9RUMmPb/dTFCaP7cCFxJeEl/25XMh+p0YLJoJfhCDF/K4XJHCDW8ziBG/WIGQszKy6KVTAcmi1aCJwx/yhezg0shBpk+MwyHwfTTuxlqdLy7FCGUlR7pBqa6V5il0JI05rxFK9m4miETBlNmMsOyxr8w2dRtyXSCaa/j+v0Wx5rXopXcekVsZAQ6Lc2SO8CUkRQx7Fgmr8iKRgg1b1s8g4fBfItLTsXXVzBgkv2S+bhbszIO18qn7zF1nJKAvAVTVATCddnpmAmpiYwFAFMwZ6BzLAwm7a8vXpLjNex5VY7rigkvc9beeDHvbz2ZisE0lMesqhBC+DKt+8NlTjCRz8zHq6FVkphVkpj0uQy/mrYtwmD63rcSsAM/vZu5zufPFbr44MIlIsGA6R8/Z6rt+19XVQ/BFGLinG/A9NrGFFxw37l2Dr6Um3LFlDjn4ur9+D8YC8nx34Cp411mg+MLOstZ4rBickIkEAcYTM67cngF5Aamj56+JO/vO/aYnrl/7oCcuTCPjkSjjvsSvdQ3Wdv+M6bLdUujtz46z/nv8DtLMJg2P5CEY9nsuK0BYOKCj8D1FQyYav7MLOlzMi4u6fHSHV+ISZ9lFlM/uI35JDyvysHbT4b/YW5C40s5xXPMvrXzUu7QO8zTAyW/ZRb/y5cw96QfWMFsOOm2MDtWRf/9zUWBE0x4jzwQk9M3m1wKwrcRA9HLEzCV/34BQuiqRVHYgU13McscfCmHE42fBcHN8B5T5Vamy8oc5iLdopUMKrLxTVUAE5eyCXJfwTwuMKbOuWEZsynws3vmKp5Lv3wBc7eM3swQBy/j42PQy9+bd/e1cxanMvugu19mwPSXx5l98TUr4/a9vgiDKTICrb4qNv+FjGuXMNa2PjrPopX8bRNzr+fqRVHbHk9ZkR0THclsi+Kyxld5bz6Z2ulYTwVifvpgk0uV+DBcgLp4AqZzudlzmRUw2rI++c0nU/Hm99P3MXvkP7iN2W+6/Womm3jDCGdtJD9naVpkBEKvP5ZS8YcFqYno+mXRQ3k5ACYuZRPkvoJZMX1ViF3vL73nOkeROnaX3nwy1bkn/YdH5qUmotgo9NuHk/ESvfz3zMPBHe8uXTaf4dQqSQwG08KUiNcfS4lz3Gu7/4a4fpq5kdz94bL1q+IjHHeCdr28MDM5IiH2Ipg+/MV8fGPOedcvQLPUK7NcqsSrgQLa2BMwWbQSzYsZeHG0fEn0dscV/aa7mP3yox8sXe74dJkXzzyqFh/D3HLFDhv/uvh6x8dYdCT69tWxeI0MYOJSNkHuKyQw4Zobyss5RWaxJ8xQXs5Q3tSPQZ6WMu1dt1RH8nO+oN2NYEixLX/1/BTeYWW/FaozXKokVD5zGXdUnYOTyDbyOZnl/Hxye7ef5l3i3Dx0fcklp+LrKzwwuebSq2NXMHnVkYeNuRQiD8MBl+CPEbiVdHiBKSMp4rqlU/wGluAmhlsWvXopuGDDxGGvkij6xmEEJjHVN5e6FJMOYoqFS07F1xfA5P/fTQ3CbOFSiEFwD4bwQQEuORVf38rKyqqqKte4kOsLH/SFLkFQwDVH3h4HwT0YwgcFvM2juNvDiglWTIJUwIeZz/Mu4gaNt9EBmAQ5Lb1Ns2t7ns/PsHXPNUdwDGACMAlSAfHxC2DkqgCASZDT0jWF3h6Lb0qLIyJv8yju9rOASdzBQ3TCVaC6urq4uFi4/oPnMytQUlKyc+dO1zaX3JVzfQOOQQH+KNDU1KRWq/njD3jiXwW0Wu2+fftcbQKYXNWAY54qYDKZFAoFT50DtzgroFQqW1tbXc0AmFzVgGOeKtDb2yuVSnnqHLjFWQGZTPbZZ5+5mgEwuaoBxzxVYHR0lCRJnjoHbnFWgKKogYEBVzMAJlc14Ji/Cshksk8//ZS//oFnvipgtVpJkpycnHQ1AGByVQOO+atARUVFSUkJf/0Dz3xVoLW1NTc31603gMlNEHjJUwWOHz8O20w8zQ03t4qLi/V6vZsNAJObIPCSvwqQJNnX18df/8AznxSQSqVuO992ux3A5JOW0CkUCpSWlup0ulCMDGMGSgGz2TzlbQ0AU6AUB7t+V2B8fJwkyf7+fr9bBoOhUqCmpkaj0bBHBzCxNYEz/FVAr9dPWcf89Rg8m14BfD+up6eH3QTAxNYEzvBXgYmJCZIkT548yV8XwTOPFdizZ09eXt6UzQFMU8oCJ/mrQE1NjUKhsNls/HURPPNAAZvNRlFUZ2fnlG0BTFPKAid5rUB+fn5RURGvXQTnZlPAaDTK5fLpWgGYplMGzvNXgbGxMalUumfPHv66CJ7NqMDQ0BBJkkePHp2uFYBpOmXgPK8VOH78OEEQp06d4rWX4Nw0CiiVSrc/i+LWEMDkJgi8FIwCBw8epCjqzJkzgvEYHHUoUFtbS9P0zLuEACYoFgErUF9fD2wSVv76+vo8eYIfwCSstIK37grU19eTJHn27Fn3N+A1/xQYGBigKKqhoWFW1wBMs0oEDfiuAF43zbCTyvcAwsM/s9kslUpra2s9CRfA5IlK0IbvChw4cIAkybq6Or47Gq7+DQ8PS6VSt784MIMYAKYZxIG3hKTAmTNnZDJZQUGB1WoVkt9h4Ou5c+coiiovL/c8VgCT51pBS74rMDExoVaraZr+/PPP+e5r2Ph35MgRgiD279/vVcQAJq/kgsYCUKC2tpYkyfLyclg6hTxb+NaE219A8cQrAJMnKkEbgSlgNptVKpVUKjWZTAJzXSzuWq3W4uJiqVTq23f7AZjEUggQB0uB1tZWiqJ0Op3ZbGa9CScCqEBXV5dUKlUqlRaLxbdhAEy+6Qa9hKHAxMREcXExSZLFxcXDw8PCcFrIXloslh07dlAUdeDAAS5xAJi4qAd9haHA0NBQUVERSZJlZWXj4+PCcFqAXra1tZEkqdPpuIsMYBJg/sFlnxQ4e/asTqfDeDp37pxPNqDT1Argv+Hux7/9B2CaWmg4K1YF+vv78epJpVJ1dHSINcygxYWRJJVKGxsbZ/69XK9cAjB5JRc0FokCExMTtbW1MplMKpXW19dPTEyIJLAghtHe3p6bm+t3JOEIAExBzCQMxT8FDh06lJ+fTxCERqP5+OOP4dGnWVM0NDSk1+ulUqlMJmtoaPDjKsl1aACTqxpwHKYKjI6O7tmzJzc3lyRJrVZ76NChMBVixrBNJpNKpSJJsrCwkP0nKmfs6vWbACavJYMOIlbAbDbv2rWLpmmSJDUaTVNT0+joqIjjnTU0m8126NAh/ASATCbbs2ePz48mzTqWawMAk6sacAwKXFTg3Llze/bsyc/PJ0mSpumqqqrjx4+HjzpWq/Wf//xnQUEBSZJyuXznzp2+PcDts2IAJp+lg45hoYDVajWZTCUlJTKZjCAI/GXVhw8fFt9++eTkpMlkqqioUCgUBEHk5uYaDIZQPVcBYAqL2QVB+kWB8fHx1tbW0tJSuVxOkqRMJisqKtq3b99nn302OTnplyGCbMRsNre2tlZWVioUCrw2LC0tbW9vDzl2AUxBrgQYTiQKWK3Wo0eP7tq1S6PRyGQykiQpilKpVFVVVa2trX19fTy8wWe1Wvv6+pqbm0tLS5VKJen4USqVZWVlfICRa2UAmFzVgGNQwEcFbDbbqVOnmpqaSktLc3NzKYrCqFIoFFqttqqqqrm5uaur68yZM0HYPLbZbGaz+cSJEwcOHKiuri4sLFQoFNglqVTqpCeff7cZwORjIUI3UGBmBWw2W39/v8lkqq+vLy0t1Wg0crkc04EkSalUStN0Xl5eYWFhSUlJeXn5zp07a2trGxoaPhmswgAAAQZJREFUWlpa2tvbTSZTR0dHZ2fnp1//dHZ2dnV1HT58+OOPP25ubq6vrzcYDNXV1RUVFTqdTqVSKRQKvHbDTJTJZCqVqqSkpK6u7uDBg/39/QF65mhmHXx7F8Dkm27QCxTwXYGJiYn+/v6urq6PP/547969u3btqqysLCkp0el0Go1GpVIplUqF40cul+MDhUKBj3Nzc/Py8tRqtVarLSoqKi0traysNBgMRqPRZDKdPHlyZGTEd8940xPAxJtUgCOgACjwtQIApq+VgP+DAqAAbxQAMPEmFeAIKAAKfK0AgOlrJeD/oAAowBsFAEy8SQU4AgqAAl8rAGD6Wgn4PygACvBGgf8POLnI0XZeptoAAAAASUVORK5CYII=)\n",
        "\n",
        "\n"
      ]
    },
    {
      "cell_type": "code",
      "source": [
        "import torch.nn as nn\n",
        "\n",
        "class RNN(nn.Module):\n",
        "    def __init__(self, input_size, hidden_size, output_size):\n",
        "        super(RNN, self).__init__()\n",
        "\n",
        "        self.hidden_size = hidden_size\n",
        "\n",
        "        self.i2h = nn.Linear(input_size + hidden_size, hidden_size)\n",
        "        self.h2o = nn.Linear(hidden_size, output_size)\n",
        "        self.softmax = nn.LogSoftmax(dim=1)\n",
        "\n",
        "    def forward(self, input, hidden):\n",
        "        combined = torch.cat((input, hidden), 1)\n",
        "        hidden = self.i2h(combined)\n",
        "        output = self.h2o(hidden)\n",
        "        output = self.softmax(output)\n",
        "        return output, hidden\n",
        "\n",
        "    def initHidden(self):\n",
        "        return torch.zeros(1, self.hidden_size)\n",
        "\n",
        "n_hidden = 128\n",
        "rnn = RNN(n_letters, n_hidden, n_categories)"
      ],
      "metadata": {
        "id": "4jGg17Zy5gsN"
      },
      "execution_count": 20,
      "outputs": []
    },
    {
      "cell_type": "markdown",
      "metadata": {
        "id": "i1PPBOVXzPBJ"
      },
      "source": [
        "To run a step of this network we need to pass an input (in our case, the\n",
        "Tensor for the current letter) and a previous hidden state (which we\n",
        "initialize as zeros at first). We'll get back the output (probability of\n",
        "each language) and a next hidden state (which we keep for the next\n",
        "step).\n",
        "\n",
        "\n"
      ]
    },
    {
      "cell_type": "markdown",
      "metadata": {
        "id": "jAze_Ym_zM4G"
      },
      "source": [
        "이 네트워크의 한 단계를 실행하려면 입력(현재 문자 Tensor)과\n",
        "이전의 은닉 상태(처음에는 0으로 초기화)를 전달해야 합니다.\n",
        "출력(각 언어의 확률)과 다음 은닉 상태(다음 단계를 위해 유지)를\n",
        "돌려받습니다.\n",
        "\n",
        "\n"
      ]
    },
    {
      "cell_type": "code",
      "source": [
        "input = letterToTensor('A')\n",
        "hidden = torch.zeros(1, n_hidden)\n",
        "\n",
        "output, next_hidden = rnn(input, hidden)"
      ],
      "metadata": {
        "id": "3pyFR59-4kyP"
      },
      "execution_count": 22,
      "outputs": []
    },
    {
      "cell_type": "markdown",
      "metadata": {
        "id": "pwSdhtlYzPBK"
      },
      "source": [
        "For the sake of efficiency we don't want to be creating a new Tensor for\n",
        "every step, so we will use ``lineToTensor`` instead of\n",
        "``letterToTensor`` and use slices. This could be further optimized by\n",
        "precomputing batches of Tensors.\n",
        "\n",
        "\n"
      ]
    },
    {
      "cell_type": "markdown",
      "metadata": {
        "id": "sG1r2gKyzM4G"
      },
      "source": [
        "효율성을 위해서 매 단계마다 새로운 Tensor를 만들고 싶지 않기 때문에\n",
        "``letterToTensor`` 대신 ``lineToTensor`` 를 잘라서 사용할\n",
        "것입니다. 이것은 Tensor의 사전 연산(pre-computing) 배치에 의해\n",
        "더욱 최적화될 수 있습니다.\n",
        "\n",
        "\n"
      ]
    },
    {
      "cell_type": "code",
      "source": [
        "input = lineToTensor('Albert')\n",
        "hidden = torch.zeros(1, n_hidden)\n",
        "\n",
        "output, next_hidden = rnn(input[0], hidden)\n",
        "print(output)\n",
        "# print(next_hidden)"
      ],
      "metadata": {
        "colab": {
          "base_uri": "https://localhost:8080/"
        },
        "id": "8kO2F4Oa9FuN",
        "outputId": "2d6d92b2-af3a-4f2a-93e3-223d7fc804df"
      },
      "execution_count": 25,
      "outputs": [
        {
          "output_type": "stream",
          "name": "stdout",
          "text": [
            "tensor([[-2.8884, -2.9092, -2.8593, -2.9263, -2.8240, -2.8297, -2.9267, -2.7961,\n",
            "         -2.9801, -2.8887, -2.9401, -2.9154, -2.9170, -2.8141, -2.9181, -2.8549,\n",
            "         -2.9522, -2.9089]], grad_fn=<LogSoftmaxBackward0>)\n"
          ]
        }
      ]
    },
    {
      "cell_type": "markdown",
      "metadata": {
        "id": "oFrxPLK2zPBK"
      },
      "source": [
        "As you can see the output is a ``<1 x n_categories>`` Tensor, where\n",
        "every item is the likelihood of that category (higher is more likely).\n",
        "\n",
        "\n"
      ]
    },
    {
      "cell_type": "markdown",
      "metadata": {
        "id": "0ol7XlSJzM4G"
      },
      "source": [
        "보시다시피 출력은 ``<1 x n_categories>`` Tensor이고, 모든 항목은\n",
        "해당 카테고리의 우도(likelihood)입니다(더 높은 것이 더 확률 높음).\n",
        "\n",
        "\n"
      ]
    },
    {
      "cell_type": "markdown",
      "metadata": {
        "id": "LMB7YmfrzPBK"
      },
      "source": [
        "## Training\n",
        "Preparing for Training\n",
        "----------------------\n",
        "\n",
        "Before going into training we should make a few helper functions. The\n",
        "first is to interpret the output of the network, which we know to be a\n",
        "likelihood of each category. We can use ``Tensor.topk`` to get the index\n",
        "of the greatest value:\n",
        "\n",
        "\n"
      ]
    },
    {
      "cell_type": "markdown",
      "metadata": {
        "id": "4-j9SNzfzM4G"
      },
      "source": [
        "## 학습\n",
        "학습 준비\n",
        "----------------------\n",
        "\n",
        "학습에 들어가기 전, 몇몇 도움 되는 함수를 만들어야 합니다.\n",
        "첫째는 우리가 알아낸 각 카테고리의 우도인 네트워크 출력을 해석하는 함수입니다.\n",
        "가장 큰 값의 주소를 알기 위해서 ``Tensor.topk`` 를 사용할 수 있습니다.\n",
        "\n",
        "역자 주: 네트워크 출력(각 카테고리의 우도)으로\n",
        "가장 확률이 높은 카테고리 이름(언어)과 카테고리 번호를 반환\n",
        "\n",
        "\n"
      ]
    },
    {
      "cell_type": "code",
      "source": [
        "def categoryFromOutput(output):\n",
        "    top_n, top_i = output.topk(1)\n",
        "    category_i = top_i[0].item()\n",
        "    return all_categories[category_i], category_i\n",
        "\n",
        "print(categoryFromOutput(output))"
      ],
      "metadata": {
        "colab": {
          "base_uri": "https://localhost:8080/"
        },
        "id": "MoxJ83i24xIo",
        "outputId": "818ba754-bb17-4fd9-8114-280aea65c6c0"
      },
      "execution_count": 26,
      "outputs": [
        {
          "output_type": "stream",
          "name": "stdout",
          "text": [
            "('Korean', 7)\n"
          ]
        }
      ]
    },
    {
      "cell_type": "markdown",
      "metadata": {
        "id": "Sy3R1r4wzPBK"
      },
      "source": [
        "We will also want a quick way to get a training example (a name and its\n",
        "language):\n",
        "\n",
        "\n"
      ]
    },
    {
      "cell_type": "markdown",
      "metadata": {
        "id": "Nknv6CcczM4H"
      },
      "source": [
        "학습 예시(하나의 이름과 그 언어)를 얻는 빠른 방법도 필요합니다.:\n",
        "\n",
        "\n"
      ]
    },
    {
      "cell_type": "code",
      "source": [
        "import random\n",
        "\n",
        "def randomChoice(l):\n",
        "    return l[random.randint(0, len(l) - 1)]\n",
        "\n",
        "def randomTrainingExample():\n",
        "    category = randomChoice(all_categories)\n",
        "    line = randomChoice(category_lines[category])\n",
        "    category_tensor = torch.tensor([all_categories.index(category)], dtype=torch.long)\n",
        "    line_tensor = lineToTensor(line)\n",
        "    return category, line, category_tensor, line_tensor\n",
        "\n",
        "for i in range(10):\n",
        "    category, line, category_tensor, line_tensor = randomTrainingExample()\n",
        "    print('category =', category, '/ line =', line)"
      ],
      "metadata": {
        "colab": {
          "base_uri": "https://localhost:8080/"
        },
        "id": "7Q9RufwZ4t3F",
        "outputId": "d16c4615-b46f-42e7-df36-5860964ba675"
      },
      "execution_count": 32,
      "outputs": [
        {
          "output_type": "stream",
          "name": "stdout",
          "text": [
            "category = Russian / line = Mogilnichenko\n",
            "category = French / line = Tremble\n",
            "category = German / line = Wolf\n",
            "category = Czech / line = Kofel\n",
            "category = Japanese / line = Tsukamoto\n",
            "category = Greek / line = Vourlis\n",
            "category = English / line = Berry\n",
            "category = English / line = Ridgwell\n",
            "category = Irish / line = Cathain\n",
            "category = Scottish / line = Ramsay\n"
          ]
        }
      ]
    },
    {
      "cell_type": "markdown",
      "metadata": {
        "id": "lpjAd7kKzPBK"
      },
      "source": [
        "### Training the Network\n",
        "\n",
        "Now all it takes to train this network is show it a bunch of examples,\n",
        "have it make guesses, and tell it if it's wrong.\n",
        "\n",
        "For the loss function ``nn.NLLLoss`` is appropriate, since the last\n",
        "layer of the RNN is ``nn.LogSoftmax``.\n",
        "\n",
        "\n"
      ]
    },
    {
      "cell_type": "markdown",
      "metadata": {
        "id": "qHoHPvFpzM4H"
      },
      "source": [
        "### 네트워크 학습\n",
        "\n",
        "이제 이 네트워크를 학습하는 데 필요한 예시(학습 데이터)를 보여주고 추정합니다.\n",
        "만일 틀렸다면 알려 줍니다.\n",
        "\n",
        "RNN의 마지막 계층이 ``nn.LogSoftmax`` 이므로 손실 함수로\n",
        "``nn.NLLLoss`` 가 적합합니다.\n",
        "\n",
        "\n"
      ]
    },
    {
      "cell_type": "code",
      "source": [
        "criterion = nn.NLLLoss()"
      ],
      "metadata": {
        "id": "6CSITm5q_R4E"
      },
      "execution_count": 33,
      "outputs": []
    },
    {
      "cell_type": "markdown",
      "metadata": {
        "id": "GG5C7WU2zPBK"
      },
      "source": [
        "Each loop of training will:\n",
        "\n",
        "-  Create input and target tensors\n",
        "-  Create a zeroed initial hidden state\n",
        "-  Read each letter in and\n",
        "\n",
        "   -  Keep hidden state for next letter\n",
        "\n",
        "-  Compare final output to target\n",
        "-  Back-propagate\n",
        "-  Return the output and loss\n",
        "\n",
        "\n"
      ]
    },
    {
      "cell_type": "markdown",
      "metadata": {
        "id": "ygGJGk5ozM4H"
      },
      "source": [
        "각 학습 루프는 다음과 같습니다:\n",
        "\n",
        "-  입력과 목표 Tensor 생성\n",
        "-  0 로 초기화 된 은닉 상태 생성\n",
        "-  각 문자 읽기\n",
        "\n",
        "-  다음 문자를 위한 은닉 상태 유지\n",
        "\n",
        "-  목표와 최종 출력 비교\n",
        "-  역전파\n",
        "-  출력과 손실 반환\n",
        "\n",
        "\n"
      ]
    },
    {
      "cell_type": "code",
      "source": [
        "learning_rate = 0.005 # If you set this too high, it might explode. If too low, it might not learn\n",
        "\n",
        "def train(category_tensor, line_tensor):\n",
        "    hidden = rnn.initHidden()\n",
        "\n",
        "    rnn.zero_grad()\n",
        "\n",
        "    for i in range(line_tensor.size()[0]):\n",
        "        output, hidden = rnn(line_tensor[i], hidden)\n",
        "\n",
        "    loss = criterion(output, category_tensor)\n",
        "    loss.backward()\n",
        "\n",
        "    # Add parameters' gradients to their values, multiplied by learning rate\n",
        "    for p in rnn.parameters():\n",
        "        p.data.add_(p.grad.data, alpha = - learning_rate)\n",
        "\n",
        "    return output, loss.item()"
      ],
      "metadata": {
        "id": "JJFUl7mx_kBd"
      },
      "execution_count": 35,
      "outputs": []
    },
    {
      "cell_type": "markdown",
      "metadata": {
        "id": "zgqYGCldzPBL"
      },
      "source": [
        "Now we just have to run that with a bunch of examples. Since the\n",
        "``train`` function returns both the output and loss we can print its\n",
        "guesses and also keep track of loss for plotting. Since there are 1000s\n",
        "of examples we print only every ``print_every`` examples, and take an\n",
        "average of the loss.\n",
        "\n",
        "\n"
      ]
    },
    {
      "cell_type": "markdown",
      "metadata": {
        "id": "TxSoFw8mzM4H"
      },
      "source": [
        "이제 예시 데이터를 사용하여 실행해야 합니다. ``train`` 함수가 출력과 손실을\n",
        "반환하기 때문에 추측을 화면에 출력하고 도식화를 위한 손실을 추적할 수\n",
        "있습니다. 1000개의 예시 데이터가 있기 때문에 ``print_every`` 예제만\n",
        "출력하고, 손실의 평균을 얻습니다.\n",
        "\n",
        "\n"
      ]
    },
    {
      "cell_type": "code",
      "source": [
        "import time\n",
        "import math\n",
        "\n",
        "n_iters = 100000\n",
        "print_every = 5000\n",
        "plot_every = 1000\n",
        "\n",
        "# Keep track of losses for plotting\n",
        "current_loss = 0\n",
        "all_losses = []\n",
        "\n",
        "def timeSince(since):\n",
        "    now = time.time()\n",
        "    s = now - since\n",
        "    m = math.floor(s / 60)\n",
        "    s -= m * 60\n",
        "    return '%dm %ds' % (m, s)\n",
        "\n",
        "start = time.time()\n",
        "\n",
        "for iter in range(1, n_iters + 1):\n",
        "    category, line, category_tensor, line_tensor = randomTrainingExample()\n",
        "    output, loss = train(category_tensor, line_tensor)\n",
        "    current_loss += loss\n",
        "\n",
        "    # Print ``iter`` number, loss, name and guess\n",
        "    if iter % print_every == 0:\n",
        "        guess, guess_i = categoryFromOutput(output)\n",
        "        correct = '✓' if guess == category else  '✗ (%s)' % category\n",
        "        print('%d %d%% (%s) %.4f %s / %s %s' % (iter, iter / n_iters * 100, timeSince(start), loss, line, guess, correct))\n",
        "\n",
        "    # Add current loss avg to list of losses\n",
        "    if iter % plot_every == 0:\n",
        "        all_losses.append(current_loss / plot_every)\n",
        "        current_loss = 0"
      ],
      "metadata": {
        "colab": {
          "base_uri": "https://localhost:8080/"
        },
        "id": "DeajaOWKAZGt",
        "outputId": "31070ca6-2b3f-40ec-a7c1-5e071cf2e2e7"
      },
      "execution_count": 36,
      "outputs": [
        {
          "output_type": "stream",
          "name": "stdout",
          "text": [
            "5000 5% (0m 4s) 2.7850 Lam / Arabic ✗ (Chinese)\n",
            "10000 10% (0m 9s) 2.1409 Allcott / English ✓\n",
            "15000 15% (0m 13s) 0.1027 Sasaki / Japanese ✓\n",
            "20000 20% (0m 17s) 2.7883 Mathieu / Vietnamese ✗ (French)\n",
            "25000 25% (0m 22s) 0.8644 Hong / Korean ✓\n",
            "30000 30% (0m 27s) 0.9818 Ha / Korean ✓\n",
            "35000 35% (0m 31s) 0.5118 Ankeren / Dutch ✓\n",
            "40000 40% (0m 35s) 1.0921 Kan / Chinese ✓\n",
            "45000 45% (0m 40s) 0.2647 Bach / Vietnamese ✓\n",
            "50000 50% (0m 44s) 0.6611 Rios / Portuguese ✓\n",
            "55000 55% (0m 48s) 2.0398 Schuyler / German ✗ (Dutch)\n",
            "60000 60% (0m 53s) 1.6360 Acciaio / Spanish ✗ (Italian)\n",
            "65000 65% (0m 57s) 1.3285 Vespa / Czech ✗ (Italian)\n",
            "70000 70% (1m 2s) 1.4043 Ho / Korean ✗ (Vietnamese)\n",
            "75000 75% (1m 7s) 0.8419 Agosti / Italian ✓\n",
            "80000 80% (1m 12s) 0.3448 Youj / Korean ✓\n",
            "85000 85% (1m 20s) 0.4924 Guan / Chinese ✓\n",
            "90000 90% (1m 31s) 0.1687 Ramires / Portuguese ✓\n",
            "95000 95% (1m 39s) 0.3797 Rodriguez / Spanish ✓\n",
            "100000 100% (1m 44s) 1.1974 Liu / Vietnamese ✗ (Chinese)\n"
          ]
        }
      ]
    },
    {
      "cell_type": "markdown",
      "metadata": {
        "id": "r9aPHNACzPBL"
      },
      "source": [
        "### Plotting the Results\n",
        "\n",
        "Plotting the historical loss from ``all_losses`` shows the network\n",
        "learning:\n",
        "\n",
        "\n"
      ]
    },
    {
      "cell_type": "markdown",
      "metadata": {
        "id": "cYncrCZTzM4H"
      },
      "source": [
        "### 결과 도식화\n",
        "\n",
        "``all_losses`` 를 이용한 손실 도식화는\n",
        "네트워크의 학습을 보여줍니다:\n",
        "\n",
        "\n"
      ]
    },
    {
      "cell_type": "code",
      "source": [
        "import matplotlib.pyplot as plt\n",
        "import matplotlib.ticker as ticker\n",
        "\n",
        "plt.figure()\n",
        "plt.plot(all_losses);"
      ],
      "metadata": {
        "colab": {
          "base_uri": "https://localhost:8080/",
          "height": 430
        },
        "id": "9l7k5k_HCMl0",
        "outputId": "56d8a6fe-c4b9-40b9-99ff-6812c687f2e1"
      },
      "execution_count": 38,
      "outputs": [
        {
          "output_type": "display_data",
          "data": {
            "text/plain": [
              "<Figure size 640x480 with 1 Axes>"
            ],
            "image/png": "[encoded data removed]"
          },
          "metadata": {}
        }
      ]
    },
    {
      "cell_type": "markdown",
      "metadata": {
        "id": "Kbb6PsxRzPBL"
      },
      "source": [
        "## Evaluating the Results\n",
        "\n",
        "To see how well the network performs on different categories, we will\n",
        "create a confusion matrix, indicating for every actual language (rows)\n",
        "which language the network guesses (columns). To calculate the confusion\n",
        "matrix a bunch of samples are run through the network with\n",
        "``evaluate()``, which is the same as ``train()`` minus the backprop.\n",
        "\n",
        "\n"
      ]
    },
    {
      "cell_type": "markdown",
      "metadata": {
        "id": "oeTXdmGezM4I"
      },
      "source": [
        "## 결과 평가\n",
        "\n",
        "네트워크가 다른 카테고리에서 얼마나 잘 작동하는지 보기 위해\n",
        "모든 실제 언어(행)가 네트워크에서 어떤 언어로 추측(열)되는지 나타내는\n",
        "혼란 행렬(confusion matrix)을 만듭니다. 혼란 행렬을 계산하기 위해\n",
        "``evaluate()`` 로 많은 수의 샘플을 네트워크에 실행합니다.\n",
        "``evaluate()`` 은 ``train ()`` 과 역전파를 빼면 동일합니다.\n",
        "\n",
        "\n"
      ]
    },
    {
      "cell_type": "code",
      "source": [
        "# Keep track of correct guesses in a confusion matrix\n",
        "confusion = torch.zeros(n_categories, n_categories)\n",
        "n_confusion = 10000\n",
        "\n",
        "# Just return an output given a line\n",
        "def evaluate(line_tensor):\n",
        "    hidden = rnn.initHidden()\n",
        "\n",
        "    for i in range(line_tensor.size()[0]):\n",
        "        output, hidden = rnn(line_tensor[i], hidden)\n",
        "\n",
        "    return output\n",
        "\n",
        "# Go through a bunch of examples and record which are correctly guessed\n",
        "for i in range(n_confusion):\n",
        "    category, line, category_tensor, line_tensor = randomTrainingExample()\n",
        "    output = evaluate(line_tensor)\n",
        "    guess, guess_i = categoryFromOutput(output)\n",
        "    category_i = all_categories.index(category)\n",
        "    confusion[category_i][guess_i] += 1\n",
        "\n",
        "# Normalize by dividing every row by its sum\n",
        "for i in range(n_categories):\n",
        "    confusion[i] = confusion[i] / confusion[i].sum()\n",
        "\n",
        "# Set up plot\n",
        "fig = plt.figure()\n",
        "ax = fig.add_subplot(111)\n",
        "cax = ax.matshow(confusion.numpy())\n",
        "fig.colorbar(cax)\n",
        "\n",
        "# Set up axes\n",
        "ax.set_xticklabels([''] + all_categories, rotation=90)\n",
        "ax.set_yticklabels([''] + all_categories)\n",
        "\n",
        "# Force label at every tick\n",
        "ax.xaxis.set_major_locator(ticker.MultipleLocator(1))\n",
        "ax.yaxis.set_major_locator(ticker.MultipleLocator(1))\n",
        "\n",
        "# sphinx_gallery_thumbnail_number = 2\n",
        "plt.show()"
      ],
      "metadata": {
        "colab": {
          "base_uri": "https://localhost:8080/",
          "height": 575
        },
        "id": "vDY3_fLW4kvb",
        "outputId": "0f76348b-5d85-4ef2-d93f-1f7b69bb7d6e"
      },
      "execution_count": 41,
      "outputs": [
        {
          "output_type": "stream",
          "name": "stderr",
          "text": [
            "<ipython-input-41-3106c8b96506>:33: UserWarning: FixedFormatter should only be used together with FixedLocator\n",
            "  ax.set_xticklabels([''] + all_categories, rotation=90)\n",
            "<ipython-input-41-3106c8b96506>:34: UserWarning: FixedFormatter should only be used together with FixedLocator\n",
            "  ax.set_yticklabels([''] + all_categories)\n"
          ]
        },
        {
          "output_type": "display_data",
          "data": {
            "text/plain": [
              "<Figure size 640x480 with 2 Axes>"
            ],
            "image/png": "[encoded data removed]"
          },
          "metadata": {}
        }
      ]
    },
    {
      "cell_type": "markdown",
      "metadata": {
        "id": "nITo0lXlzPBL"
      },
      "source": [
        "You can pick out bright spots off the main axis that show which\n",
        "languages it guesses incorrectly, e.g. Chinese for Korean, and Spanish\n",
        "for Italian. It seems to do very well with Greek, and very poorly with\n",
        "English (perhaps because of overlap with other languages).\n",
        "\n",
        "\n"
      ]
    },
    {
      "cell_type": "markdown",
      "metadata": {
        "id": "kbVSIdPyzM4I"
      },
      "source": [
        "주축에서 벗어난 밝은 점을 선택하여 잘못 추측한 언어를 표시할 수 있습니다.\n",
        "예를 들어 한국어는 중국어로 이탈리아어로 스페인어로.\n",
        "그리스어는 매우 잘되는 것으로 영어는 매우 나쁜 것으로 보입니다.\n",
        "(다른 언어들과의 중첩 때문으로 추정)\n",
        "\n",
        "\n"
      ]
    },
    {
      "cell_type": "markdown",
      "metadata": {
        "id": "l7KBjQ2XzPBL"
      },
      "source": [
        "### Running on User Input\n",
        "\n",
        "\n"
      ]
    },
    {
      "cell_type": "markdown",
      "metadata": {
        "id": "lJU6TmF6zM4I"
      },
      "source": [
        "### 사용자 입력으로 실행\n",
        "\n",
        "\n"
      ]
    },
    {
      "cell_type": "code",
      "source": [
        "def predict(input_line, n_predictions=3):\n",
        "    print('\\n> %s' % input_line)\n",
        "    with torch.no_grad():\n",
        "        output = evaluate(lineToTensor(input_line))\n",
        "\n",
        "        # Get top N categories\n",
        "        topv, topi = output.topk(n_predictions, 1, True)\n",
        "        predictions = []\n",
        "\n",
        "        for i in range(n_predictions):\n",
        "            value = topv[0][i].item()\n",
        "            category_index = topi[0][i].item()\n",
        "            print('(%.2f) %s' % (value, all_categories[category_index]))\n",
        "            predictions.append([value, all_categories[category_index]])\n",
        "\n",
        "predict('Dovesky')\n",
        "predict('Jackson')\n",
        "predict('Satoshi')"
      ],
      "metadata": {
        "colab": {
          "base_uri": "https://localhost:8080/"
        },
        "id": "24KuoRKPELUF",
        "outputId": "ffc9904e-86f5-4d49-8fc1-55a6464a06de"
      },
      "execution_count": 42,
      "outputs": [
        {
          "output_type": "stream",
          "name": "stdout",
          "text": [
            "\n",
            "> Dovesky\n",
            "(-0.20) Russian\n",
            "(-1.88) Czech\n",
            "(-4.42) English\n",
            "\n",
            "> Jackson\n",
            "(-0.30) Scottish\n",
            "(-2.10) English\n",
            "(-3.38) Dutch\n",
            "\n",
            "> Satoshi\n",
            "(-0.91) Italian\n",
            "(-1.30) Japanese\n",
            "(-1.63) Arabic\n"
          ]
        }
      ]
    },
    {
      "cell_type": "markdown",
      "metadata": {
        "id": "bUvTJlLEzPBL"
      },
      "source": [
        "The final versions of the scripts [in the Practical PyTorch\n",
        "repo](https://github.com/spro/practical-pytorch/tree/master/char-rnn-classification)_\n",
        "split the above code into a few files:\n",
        "\n",
        "-  ``data.py`` (loads files)\n",
        "-  ``model.py`` (defines the RNN)\n",
        "-  ``train.py`` (runs training)\n",
        "-  ``predict.py`` (runs ``predict()`` with command line arguments)\n",
        "-  ``server.py`` (serve prediction as a JSON API with ``bottle.py``)\n",
        "\n",
        "Run ``train.py`` to train and save the network.\n",
        "\n",
        "Run ``predict.py`` with a name to view predictions:\n",
        "\n",
        "```sh\n",
        "$ python predict.py Hazaki\n",
        "(-0.42) Japanese\n",
        "(-1.39) Polish\n",
        "(-3.51) Czech\n",
        "```\n",
        "Run ``server.py`` and visit http://localhost:5533/Yourname to get JSON\n",
        "output of predictions.\n",
        "\n",
        "\n"
      ]
    },
    {
      "cell_type": "markdown",
      "metadata": {
        "id": "pXungBKizPBM"
      },
      "source": [
        "## Exercises\n",
        "\n",
        "-  Try with a different dataset of line -> category, for example:\n",
        "\n",
        "   -  Any word -> language\n",
        "   -  First name -> gender\n",
        "   -  Character name -> writer\n",
        "   -  Page title -> blog or subreddit\n",
        "\n",
        "-  Get better results with a bigger and/or better shaped network\n",
        "\n",
        "   -  Add more linear layers\n",
        "   -  Try the ``nn.LSTM`` and ``nn.GRU`` layers\n",
        "   -  Combine multiple of these RNNs as a higher level network\n",
        "\n",
        "\n"
      ]
    },
    {
      "cell_type": "markdown",
      "metadata": {
        "id": "uxG_4w5WzM4I"
      },
      "source": [
        "[실용 PyTorch 저장소](https://github.com/spro/practical-pytorch/tree/master/char-rnn-classification)_\n",
        "의 최종 버전 스크립트는 위 코드를 몇 개의 파일로 분할했습니다.:\n",
        "\n",
        "-  ``data.py`` (파일 읽기)\n",
        "-  ``model.py`` (RNN 정의)\n",
        "-  ``train.py`` (학습 실행)\n",
        "-  ``predict.py`` (커맨드 라인 인자로 ``predict()`` 실행)\n",
        "-  ``server.py`` (``bottle.py`` 를 사용하여 JSON API로 예측 제공)\n",
        "\n",
        "학습과 네트워크 저장을 위해 ``train.py`` 실행.\n",
        "\n",
        "이름으로 예측을 보기 위해 ``predict.py`` 실행:\n",
        "\n",
        "::\n",
        "\n",
        "    $ python predict.py Hazaki\n",
        "    (-0.42) Japanese\n",
        "    (-1.39) Polish\n",
        "    (-3.51) Czech\n",
        "\n",
        "``server.py`` 를 실행하고 예측의 JSON 출력을 얻기 위해\n",
        "http://localhost:5533/Yourname 방문.\n",
        "\n",
        "\n"
      ]
    },
    {
      "cell_type": "markdown",
      "metadata": {
        "id": "qz5SRHhUzM4I"
      },
      "source": [
        "## 연습\n",
        "\n",
        "-  \"line -> category\" 의 다른 데이터 집합으로 시도해 보십시오, 예를 들어:\n",
        "\n",
        "   -  단어 -> 언어\n",
        "   -  이름 -> 성별\n",
        "   -  캐릭터 이름 -> 작가\n",
        "   -  페이지 제목 -> 블로그 또는 서브레딧\n",
        "\n",
        "-  더 크고 더 나은 모양의 네트워크로 더 나은 결과를 얻으십시오.\n",
        "\n",
        "   -  더 많은 선형 계층을 추가해 보십시오.\n",
        "   -  ``nn.LSTM`` 과 ``nn.GRU`` 계층을 추가해 보십시오.\n",
        "   -  위와 같은 RNN 여러 개를 상위 수준 네트워크로 결합해 보십시오.\n",
        "\n",
        "\n"
      ]
    }
  ]
}