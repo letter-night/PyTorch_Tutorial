{
  "nbformat": 4,
  "nbformat_minor": 0,
  "metadata": {
    "colab": {
      "provenance": [],
      "gpuType": "T4"
    },
    "kernelspec": {
      "name": "python3",
      "display_name": "Python 3"
    },
    "language_info": {
      "name": "python"
    },
    "accelerator": "GPU"
  },
  "cells": [
    {
      "cell_type": "code",
      "execution_count": null,
      "metadata": {
        "id": "gLaniEL7QjyD"
      },
      "outputs": [],
      "source": []
    },
    {
      "cell_type": "code",
      "source": [],
      "metadata": {
        "id": "88eW-NGnQoA_"
      },
      "execution_count": null,
      "outputs": []
    },
    {
      "cell_type": "code",
      "source": [],
      "metadata": {
        "id": "1YKnmI1iQn-E"
      },
      "execution_count": null,
      "outputs": []
    },
    {
      "cell_type": "code",
      "source": [],
      "metadata": {
        "id": "pVT7GWCmQn8G"
      },
      "execution_count": null,
      "outputs": []
    },
    {
      "cell_type": "code",
      "source": [],
      "metadata": {
        "id": "4p9nIWLsQn5g"
      },
      "execution_count": null,
      "outputs": []
    },
    {
      "cell_type": "code",
      "source": [],
      "metadata": {
        "id": "_KrlI_cZQn3Z"
      },
      "execution_count": null,
      "outputs": []
    },
    {
      "cell_type": "code",
      "source": [],
      "metadata": {
        "id": "Cbipb3aJfk6i"
      },
      "execution_count": null,
      "outputs": []
    },
    {
      "cell_type": "markdown",
      "source": [
        "\n",
        "# `torch.nn` 이 *실제로* 무엇인가요?\n",
        "\n",
        "**저자**: Jeremy Howard, [fast.ai](https://www.fast.ai).  Rachel Thomas, Francisco Ingham에 감사합니다.\n",
        "\n",
        "**번역**: [남상호](https://github.com/namdori61)\n"
      ],
      "metadata": {
        "id": "gpOH0cGj2aav"
      }
    },
    {
      "cell_type": "markdown",
      "metadata": {
        "id": "naL-24MzzNxR"
      },
      "source": [
        "## MNIST 데이터 준비\n",
        "\n",
        "우리는 손으로 쓴 숫자(0에서 9 사이)의 흑백 이미지로 구성된 클래식\n",
        "[MNIST](http://deeplearning.net/data/mnist/) 데이터셋을 사용할 것 입니다.\n",
        "\n",
        "우리는 경로 설정을 담당하는 (Python3 표준 라이브러리의 일부인)\n",
        "[pathlib](https://docs.python.org/3/library/pathlib.html) 을 사용할 것이고,\n",
        "[requests](http://docs.python-requests.org/en/master/) 를 이용하여\n",
        "데이터셋을 다운로드 할 것입니다. 우리는 모듈을 사용할 때만 임포트(import) 할 것이므로,\n",
        "여러분은 매 포인트마다 정확히 어떤 것이 사용되는지 확인할 수 있습니다.\n",
        "\n"
      ]
    },
    {
      "cell_type": "code",
      "source": [
        "from pathlib import Path\n",
        "import requests\n",
        "\n",
        "DATA_PATH = Path(\"data\")\n",
        "PATH = DATA_PATH / \"mnist\"\n",
        "\n",
        "PATH.mkdir(parents=True, exist_ok=True)\n",
        "\n",
        "URL = \"https://github.com/pytorch/tutorials/raw/main/_static/\"\n",
        "FILENAME = \"mnist.pkl.gz\"\n",
        "\n",
        "if not (PATH / FILENAME).exists():\n",
        "    content = requests.get(URL + FILENAME).content\n",
        "    (PATH / FILENAME).open(\"wb\").write(content)"
      ],
      "metadata": {
        "id": "k53hSn3leGFy"
      },
      "execution_count": 1,
      "outputs": []
    },
    {
      "cell_type": "markdown",
      "source": [
        "이 데이터셋은 NumPy 배열 포맷이고, 데이터를 직렬화하기 위한\n",
        "python 전용 포맷 pickle 을 이용하여 저장되어 있습니다.\n"
      ],
      "metadata": {
        "id": "tb0cpyL02k2t"
      }
    },
    {
      "cell_type": "code",
      "source": [
        "import pickle\n",
        "import gzip\n",
        "\n",
        "with gzip.open((PATH / FILENAME).as_posix(), \"rb\") as f:\n",
        "    ((x_train, y_train), (x_valid, y_valid), _)  = pickle.load(f, encoding=\"latin-1\")"
      ],
      "metadata": {
        "id": "i6ysi_6q0svX"
      },
      "execution_count": 2,
      "outputs": []
    },
    {
      "cell_type": "markdown",
      "source": [
        "각 이미지는 28 x 28 형태 이고, 784 (=28x28) 크기를 가진 하나의 행으로 저장되어 있습니다.\n",
        "하나를 살펴 봅시다; 먼저 우리는 이 이미지를 2d로 재구성해야 합니다."
      ],
      "metadata": {
        "id": "_IlksVCD2l4j"
      }
    },
    {
      "cell_type": "code",
      "source": [
        "from matplotlib import pyplot\n",
        "import numpy as np\n",
        "\n",
        "pyplot.imshow(x_train[0].reshape((28,28)), cmap=\"gray\")\n",
        "print(x_train.shape)"
      ],
      "metadata": {
        "colab": {
          "base_uri": "https://localhost:8080/",
          "height": 447
        },
        "id": "IN0FaLox1BY3",
        "outputId": "671e478a-27e3-4e58-9762-c4a2bf39861e"
      },
      "execution_count": 3,
      "outputs": [
        {
          "output_type": "stream",
          "name": "stdout",
          "text": [
            "(50000, 784)\n"
          ]
        },
        {
          "output_type": "display_data",
          "data": {
            "text/plain": [
              "<Figure size 640x480 with 1 Axes>"
            ],
            "image/png": "[encoded data removed]"
          },
          "metadata": {}
        }
      ]
    },
    {
      "cell_type": "markdown",
      "source": [
        "PyTorch는 NumPy 배열 보다는 ``torch.tensor`` 를 사용하므로, 우리는 데이터를 변환해야 합니다."
      ],
      "metadata": {
        "id": "6ugafMPb2pi_"
      }
    },
    {
      "cell_type": "code",
      "source": [
        "import torch\n",
        "\n",
        "x_train, y_train, x_valid, y_valid = map(\n",
        "    torch.tensor, (x_train, y_train, x_valid, y_valid)\n",
        ")\n",
        "\n",
        "n, c = x_train.shape\n",
        "print(x_train, y_train)\n",
        "print(x_train.shape)\n",
        "print(y_train.min(), y_train.max())"
      ],
      "metadata": {
        "colab": {
          "base_uri": "https://localhost:8080/"
        },
        "id": "jpTlQ5kR1NkP",
        "outputId": "c0979d9f-1090-4358-8170-74373821d097"
      },
      "execution_count": 4,
      "outputs": [
        {
          "output_type": "stream",
          "name": "stdout",
          "text": [
            "tensor([[0., 0., 0.,  ..., 0., 0., 0.],\n",
            "        [0., 0., 0.,  ..., 0., 0., 0.],\n",
            "        [0., 0., 0.,  ..., 0., 0., 0.],\n",
            "        ...,\n",
            "        [0., 0., 0.,  ..., 0., 0., 0.],\n",
            "        [0., 0., 0.,  ..., 0., 0., 0.],\n",
            "        [0., 0., 0.,  ..., 0., 0., 0.]]) tensor([5, 0, 4,  ..., 8, 4, 8])\n",
            "torch.Size([50000, 784])\n",
            "tensor(0) tensor(9)\n"
          ]
        }
      ]
    },
    {
      "cell_type": "markdown",
      "metadata": {
        "id": "JA10F2UszNxT"
      },
      "source": [
        "## (``torch.nn`` 없이) 밑바닥부터 신경망 만들기\n",
        "\n",
        "PyTorch 텐서 연산만으로 첫 모델을 만들어봅시다.\n",
        "\n",
        "\n",
        "PyTorch는 랜덤 또는 0으로만 이루어진 텐서를 생성하는 메소드를 제공하고,\n",
        "우리는 간단한 선형 모델의 가중치(weights)와 절편(bias)을 생성하기 위해서 이것을 사용할 것입니다.\n",
        "이들은 일반적인 텐서에 매우 특별한 한 가지가 추가된 것입니다: 우리는 PyTorch에게 이들이\n",
        "기울기(gradient)가 필요하다고 알려줍니다.\n",
        "이를 통해 PyTorch는 텐서에 행해지는 모든 연산을 기록하게 하고,\n",
        "따라서 *자동적으로* 역전파(back-propagation) 동안에 기울기를 계산할 수 있습니다!\n",
        "\n",
        "\n",
        "\n",
        "\n",
        "\n",
        "가중치에 대해서는 ``requires_grad`` 를 초기화(initialization) **다음에** 설정합니다,\n",
        "왜냐하면 우리는 해당 단계가 기울기에 포함되는 것을 원치 않기 때문입니다.\n",
        "(PyTorch에서 ``_`` 다음에 오는 메소드 이름은 연산이 인플레이스(in-place)로 수행되는 것을 의미합니다.)\n",
        "\n",
        "<div class=\"alert alert-info\"><h4>Note</h4><p>[Xavier initialisation](http://proceedings.mlr.press/v9/glorot10a/glorot10a.pdf)\n",
        "   기법을 이용하여 가중치를 초기화 합니다. (``1/sqrt(n)`` 을 곱해서 초기화).</p></div>\n",
        "\n"
      ]
    },
    {
      "cell_type": "code",
      "source": [
        "import math\n",
        "\n",
        "weights = torch.randn(784, 10) / math.sqrt(784)\n",
        "weights.requires_grad_()\n",
        "bias = torch.zeros(10, requires_grad=True)"
      ],
      "metadata": {
        "id": "3FVEmRFf1i7I"
      },
      "execution_count": 5,
      "outputs": []
    },
    {
      "cell_type": "markdown",
      "metadata": {
        "id": "Kp0Y4XNLzNxT"
      },
      "source": [
        "PyTorch의 기울기를 자동으로 계산해주는 기능 덕분에, Python 표준 함수\n",
        "(또는 호출 가능한 객체)를 모델로 사용할 수 있습니다!\n",
        "그러므로 간단한 선형 모델을 만들기 위해서 단순한 행렬 곱셈과 브로드캐스트(broadcast)\n",
        "덧셈을 사용하여 보겠습니다. 또한, 우리는 활성화 함수(activation function)가 필요하므로,\n",
        "`log_softmax` 를 구현하고 사용할 것입니다.\n",
        "PyTorch에서 많은 사전 구현된 손실 함수(loss function), 활성화 함수들이 제공되지만,\n",
        "일반적인 python을 사용하여 자신만의 함수를 쉽게 작성할 수 있음을 기억해주세요.\n",
        "PyTorch는 심지어 여러분의 함수를 위해서 빠른 GPU 또는 벡터화된 CPU 코드를 만들어줄 것입니다.\n",
        "\n"
      ]
    },
    {
      "cell_type": "code",
      "source": [
        "def log_softmax(x):\n",
        "    return x - x.exp().sum(-1).log().unsqueeze(-1)\n",
        "\n",
        "def model(xb):\n",
        "    return log_softmax(xb @ weights + bias)"
      ],
      "metadata": {
        "id": "pos_bmRo3cun"
      },
      "execution_count": 6,
      "outputs": []
    },
    {
      "cell_type": "markdown",
      "metadata": {
        "id": "6EOf_z26zNxU"
      },
      "source": [
        "위에서, ``@`` 기호는 행렬 곱셈(matrix multiplication) 연산을 나타냅니다.\n",
        "우리는 하나의 배치(batch) 데이터(이 경우에는 64개의 이미지들)에 대하여 함수를 호출할 것입니다.\n",
        "이것은 하나의 *포워드 전달(forward pass)* 입니다. 이 단계에서 우리는 무작위(random) 가중치로\n",
        "시작했기 때문에 우리의 예측이 무작위 예측보다 전혀 나은 점이 없을 것입니다.\n",
        "\n"
      ]
    },
    {
      "cell_type": "code",
      "source": [
        "bs = 64 # batch size\n",
        "\n",
        "xb = x_train[0:bs] # mini-batch\n",
        "preds = model(xb)\n",
        "\n",
        "print(preds[0], preds.shape)"
      ],
      "metadata": {
        "colab": {
          "base_uri": "https://localhost:8080/"
        },
        "id": "pz1BQnzt3vVk",
        "outputId": "7eaeae48-3695-42ff-eb7e-929a083e326d"
      },
      "execution_count": 7,
      "outputs": [
        {
          "output_type": "stream",
          "name": "stdout",
          "text": [
            "tensor([-2.1537, -3.3185, -2.7734, -1.9876, -2.5644, -2.0948, -1.8541, -2.7175,\n",
            "        -1.8945, -2.5880], grad_fn=<SelectBackward0>) torch.Size([64, 10])\n"
          ]
        }
      ]
    },
    {
      "cell_type": "markdown",
      "metadata": {
        "id": "tY94qXYszNxU"
      },
      "source": [
        "여러분이 보시듯이, ``preds`` 텐서(tensor)는 텐서 값 외에도, 또한\n",
        "기울기 함수(gradient function)를 담고 있습니다.\n",
        "우리는 나중에 이것을 역전파(backpropagation)를 위해 사용할 것입니다.\n",
        "이제 손실함수(loss function)로 사용하기 위한 음의 로그 우도(negative log-likelihood)를\n",
        "구현합시다. (다시 말하지만, 우리는 표준 Python을 사용할 수 있습니다.):\n",
        "\n"
      ]
    },
    {
      "cell_type": "code",
      "source": [
        "def nll(input, target):\n",
        "    return -input[range(target.shape[0]), target].mean()\n",
        "\n",
        "loss_func = nll"
      ],
      "metadata": {
        "id": "PhstyWxx4XX2"
      },
      "execution_count": 8,
      "outputs": []
    },
    {
      "cell_type": "markdown",
      "metadata": {
        "id": "HdysA3GtzNxV"
      },
      "source": [
        "우리의 무작위 모델에 대한 손실을 점검해봅시다, 그럼으로써 우리는 나중에 역전파 이후에 개선이 있는지\n",
        "확인할 수 있습니다.\n",
        "\n"
      ]
    },
    {
      "cell_type": "code",
      "source": [
        "yb = y_train[0:bs]\n",
        "print(loss_func(preds, yb))"
      ],
      "metadata": {
        "colab": {
          "base_uri": "https://localhost:8080/"
        },
        "id": "PfOZE--a4pt-",
        "outputId": "6de73a78-7382-4c30-f107-1650a98b2f90"
      },
      "execution_count": 9,
      "outputs": [
        {
          "output_type": "stream",
          "name": "stdout",
          "text": [
            "tensor(2.3366, grad_fn=<NegBackward0>)\n"
          ]
        }
      ]
    },
    {
      "cell_type": "markdown",
      "metadata": {
        "id": "Wp7lQX87zNxV"
      },
      "source": [
        "또한, 우리 모델의 정확도(accuracy)를 계산하기 위한 함수를 구현합시다.\n",
        "매 예측마다, 만약 가장 큰 값의 인덱스가 목표값(target value)과 동일하다면,\n",
        "그 예측은 올바른 것입니다.\n",
        "\n"
      ]
    },
    {
      "cell_type": "code",
      "source": [
        "def accuracy(out, yb):\n",
        "    preds = torch.argmax(out, dim=1)\n",
        "    return (preds==yb).float().mean()"
      ],
      "metadata": {
        "id": "YCtMIS_Q4zSW"
      },
      "execution_count": 10,
      "outputs": []
    },
    {
      "cell_type": "markdown",
      "metadata": {
        "id": "LSPcGq_wzNxW"
      },
      "source": [
        "우리의 무작위 모델의 정확도를 점검해 봅시다, 그럼으로써 손실이 개선됨에 따라서 정확도가 개선되는지\n",
        "확인할 수 있습니다.\n",
        "\n"
      ]
    },
    {
      "cell_type": "code",
      "source": [
        "print(accuracy(preds, yb))"
      ],
      "metadata": {
        "colab": {
          "base_uri": "https://localhost:8080/"
        },
        "id": "MAB1_07P48v2",
        "outputId": "7b414d8b-5083-44aa-e437-a0ab591ecdb2"
      },
      "execution_count": 11,
      "outputs": [
        {
          "output_type": "stream",
          "name": "stdout",
          "text": [
            "tensor(0.0625)\n"
          ]
        }
      ]
    },
    {
      "cell_type": "markdown",
      "metadata": {
        "id": "_C9Mp7rszNxW"
      },
      "source": [
        "이제 우리는 훈련 루프(training loop)를 실행할 수 있습니다. 매 반복마다, 우리는 다음을 수행할 것입니다:\n",
        "\n",
        "- 데이터의 미니배치를 선택 (``bs`` 크기)\n",
        "- 모델을 이용하여 예측 수행\n",
        "- 손실 계산\n",
        "- ``loss.backward()`` 를 이용하여 모델의 기울기 업데이트, 이 경우에는, ``weights`` 와 ``bias``.\n",
        "\n",
        "이제 우리는 이 기울기들을 이용하여 가중치와 절편을 업데이트 합니다.\n",
        "우리는 이것을 ``torch.no_grad()`` 컨텍스트 매니져(context manager) 내에서 실행합니다,\n",
        "왜냐하면 이러한 실행이 다음 기울기의 계산에 기록되지 않기를 원하기 때문입니다.\n",
        "PyTorch의 자동 기울기(Autograd)가 어떻게 연산을 기록하는지\n",
        "[여기](https://pytorch.org/docs/stable/notes/autograd.html) 에서 더 알아볼 수 있습니다.\n",
        "\n",
        "우리는 그러고나서 기울기를 0으로 설정합니다, 그럼으로써 다음 루프(loop)에 준비하게 됩니다.\n",
        "그렇지 않으면, 우리의 기울기들은 일어난 모든 연산의 누적 집계를 기록하게 되버립니다.\n",
        "(즉, ``loss.backward()`` 가 이미 저장된 것을 대체하기보단, 기존 값에 기울기를 *더하게* 됩니다).\n",
        "\n",
        ".. tip:: 여러분들은 PyTorch 코드에 대하여 표준 python 디버거(debugger)를 사용할 수 있으므로,\n",
        "   매 단계마다 다양한 변수 값을 점검할 수 있습니다.\n",
        "   아래에서 ``set_trace()`` 를 주석 해제하여 사용해보세요.\n",
        "\n",
        "\n"
      ]
    },
    {
      "cell_type": "code",
      "source": [
        "from IPython.core.debugger import set_trace\n",
        "\n",
        "lr = 0.5\n",
        "epochs = 2\n",
        "\n",
        "for epoch in range(epochs):\n",
        "    for i in range((n-1) // bs + 1):\n",
        "        # set_trace()\n",
        "        start_i = i * bs\n",
        "        end_i = start_i + bs\n",
        "        xb = x_train[start_i : end_i]\n",
        "        yb = y_train[start_i : end_i]\n",
        "        pred = model(xb)\n",
        "        loss = loss_func(pred, yb)\n",
        "\n",
        "        loss.backward()\n",
        "        with torch.no_grad():\n",
        "            weights -= weights.grad * lr\n",
        "            bias -= bias.grad * lr\n",
        "            weights.grad.zero_()\n",
        "            bias.grad.zero_()"
      ],
      "metadata": {
        "id": "nEbOR84H4-U2"
      },
      "execution_count": 12,
      "outputs": []
    },
    {
      "cell_type": "markdown",
      "metadata": {
        "id": "1e_DDTuizNxW"
      },
      "source": [
        "이제 다 됐습니다: 우리는 제일 간단한 신경망(neural network)의 모든 것을 밑바닥부터 생성하고\n",
        "훈련하였습니다! (이번에는 은닉층(hidden layer)이 없기 때문에,\n",
        "로지스틱 회귀(logistic regression)입니다).\n",
        "\n",
        "이제 손실과 정확도를 이전 값들과 비교하면서 확인해봅시다.\n",
        "우리는 손실은 감소하고, 정확도는 증가하기를 기대할 것이고, 그들은 아래와 같습니다.\n",
        "\n"
      ]
    },
    {
      "cell_type": "code",
      "source": [
        "print(loss_func(model(xb), yb), accuracy(model(xb), yb))"
      ],
      "metadata": {
        "colab": {
          "base_uri": "https://localhost:8080/"
        },
        "id": "S26ZJn854U4V",
        "outputId": "d9e47516-ab32-45dd-ac49-01ea270d07dc"
      },
      "execution_count": 13,
      "outputs": [
        {
          "output_type": "stream",
          "name": "stdout",
          "text": [
            "tensor(0.0809, grad_fn=<NegBackward0>) tensor(1.)\n"
          ]
        }
      ]
    },
    {
      "cell_type": "markdown",
      "metadata": {
        "id": "jGKRfmgzzNxW"
      },
      "source": [
        "## ``torch.nn.functional`` 사용하기\n",
        "\n",
        "이제 우리는 코드를 리팩토링(refactoring) 하겠습니다, 그럼으로써 이전과 동일하지만,\n",
        "PyTorch의 ``nn`` 클래스의 장점을 활용하여 더 간결하고 유연하게 만들 것입니다.\n",
        "지금부터 매 단계에서, 우리는 코드를 더 짧고, 이해하기 쉽고, 유연하게 만들어야 합니다.\n",
        "\n",
        "처음이면서 우리의 코드를 짧게 만들기 가장 쉬운 단계는 직접 작성한 활성화, 손실 함수를\n",
        "``torch.nn.functional`` 의 함수로 대체하는 것입니다\n",
        "(관례에 따라, 일반적으로 ``F`` 네임스페이스(namespace)를 통해 임포트(import) 합니다).\n",
        "이 모듈에는 ``torch.nn`` 라이브러리의 모든 함수가 포함되어 있습니다\n",
        "(라이브러리의 다른 부분에는 클래스가 포함되어 있습니다.)\n",
        "다양한 손실 및 활성화 함수 뿐만 아니라, 풀링(pooling) 함수와 같이 신경망을 만드는데\n",
        "편리한 몇 가지 함수도 여기에서 찾을 수 있습니다.\n",
        "(컨볼루션(convolution) 연산, 선형(linear) 레이어, 등을 수행하는 함수도 있지만,\n",
        "앞으로 보시겠지만 일반적으로 라이브러리의 다른 부분을 사용하여 더 잘 처리 할 수 있습니다.)\n",
        "\n",
        "만약 여러분들이 음의 로그 우도 손실과 로그 소프트맥스 (log softmax) 활성화 함수를 사용하는 경우,\n",
        "PyTorch는 이 둘을 결합하는 단일 함수인 ``F.cross_entropy`` 를 제공합니다.\n",
        "따라서 모델에서 활성화 함수를 제거할 수도 있습니다.\n",
        "\n"
      ]
    },
    {
      "cell_type": "code",
      "source": [
        "import torch.nn.functional as F\n",
        "\n",
        "loss_func = F.cross_entropy\n",
        "\n",
        "def model(xb):\n",
        "    return xb @ weights + bias"
      ],
      "metadata": {
        "id": "Cub9-oOy7v0_"
      },
      "execution_count": 14,
      "outputs": []
    },
    {
      "cell_type": "markdown",
      "metadata": {
        "id": "ZqG61EFUzNxX"
      },
      "source": [
        "더이상 ``model`` 함수에서 ``log_softmax`` 를 호출하지 않고 있습니다.\n",
        "손실과 정확도과 이전과 동일한지 확인해봅시다:\n",
        "\n"
      ]
    },
    {
      "cell_type": "code",
      "source": [
        "print(loss_func(model(xb), yb), accuracy(model(xb), yb))"
      ],
      "metadata": {
        "colab": {
          "base_uri": "https://localhost:8080/"
        },
        "id": "O6JUTBps8VOe",
        "outputId": "368fb44e-9b6d-4603-87ad-5ea0a02e7c37"
      },
      "execution_count": 15,
      "outputs": [
        {
          "output_type": "stream",
          "name": "stdout",
          "text": [
            "tensor(0.0809, grad_fn=<NllLossBackward0>) tensor(1.)\n"
          ]
        }
      ]
    },
    {
      "cell_type": "markdown",
      "metadata": {
        "id": "pbwtPYSizNxX"
      },
      "source": [
        "## ``nn.Module`` 을 이용하여 리팩토링 하기\n",
        "다음으로, 더 명확하고 간결한 훈련 루프를 위해 ``nn.Module`` 및 ``nn.Parameter`` 를 사용합니다.\n",
        "우리는 ``nn.Module`` (자체가 클래스이고 상태를 추척할 수 있는) 하위 클래스(subclass)를 만듭니다.\n",
        "이 경우에는, 포워드(forward) 단계에 대한 가중치, 절편, 그리고 메소드(method) 등을 유지하는\n",
        "클래스를 만들고자 합니다.\n",
        "``nn.Module`` 은 우리가 사용할 몇 가지 속성(attribute)과 메소드를 (``.parameters()`` 와\n",
        "``.zero_grad()`` 같은) 가지고 있습니다.\n",
        "\n"
      ]
    },
    {
      "cell_type": "code",
      "source": [
        "from torch import nn\n",
        "\n",
        "class Mnist_Logistic(nn.Module):\n",
        "    def __init__(self):\n",
        "        super().__init__()\n",
        "        self.weights = nn.Parameter(torch.randn(784,10) / math.sqrt(784))\n",
        "        self.bias = nn.Parameter(torch.zeros(10))\n",
        "\n",
        "    def forward(self, xb):\n",
        "        return xb @ self.weights + self.bias"
      ],
      "metadata": {
        "id": "uo0lONK_8mu3"
      },
      "execution_count": 16,
      "outputs": []
    },
    {
      "cell_type": "markdown",
      "metadata": {
        "id": "gdeNQk-NzNxY"
      },
      "source": [
        "함수를 사용하는 대신에 이제는 오브젝트(object) 를 사용하기 때문에,\n",
        "먼저 모델을 인스턴스화(instantiate) 해야 합니다:\n",
        "\n"
      ]
    },
    {
      "cell_type": "code",
      "source": [
        "model = Mnist_Logistic()"
      ],
      "metadata": {
        "id": "Dl8-XzXF9Ii-"
      },
      "execution_count": 17,
      "outputs": []
    },
    {
      "cell_type": "markdown",
      "metadata": {
        "id": "mtxcb8_4zNxY"
      },
      "source": [
        "이제 우리는 이전과 동일한 방식으로 손실을 계산할 수 있습니다.\n",
        "여기서 ``nn.Module`` 오브젝트들은 마치 함수처럼 사용됩니다 (즉, 이들은 *호출가능* 합니다),\n",
        "그러나 배후에서 PyTorch 는 우리의 ``forward`` 메소드를 자동으로 호출합니다.\n",
        "\n"
      ]
    },
    {
      "cell_type": "code",
      "source": [
        "print(loss_func(model(xb), yb))"
      ],
      "metadata": {
        "colab": {
          "base_uri": "https://localhost:8080/"
        },
        "id": "Xsiy0yWM9RNe",
        "outputId": "76af0fda-dbd3-4b9d-9f24-83e703f64243"
      },
      "execution_count": 18,
      "outputs": [
        {
          "output_type": "stream",
          "name": "stdout",
          "text": [
            "tensor(2.4711, grad_fn=<NllLossBackward0>)\n"
          ]
        }
      ]
    },
    {
      "cell_type": "markdown",
      "metadata": {
        "id": "V_0uvJJszNxY"
      },
      "source": [
        "이전에는 훈련 루프를 위해 이름 별로 각 매개변수(parameter)의 값을 업데이트하고 다음과 같이\n",
        "각 매개 변수에 대한 기울기들을 개별적으로 수동으로 0으로 제거해야 했습니다:\n",
        "\n",
        "::\n",
        "\n",
        "   with torch.no_grad():\n",
        "       weights -= weights.grad * lr\n",
        "       bias -= bias.grad * lr\n",
        "       weights.grad.zero_()\n",
        "       bias.grad.zero_()\n",
        "\n",
        "\n",
        "이제 우리는 model.parameters() 및 model.zero_grad() (모두\n",
        "``nn.Module`` 에 대해 PyTorch에 의해 정의됨)를 활용하여 이러한 단계를 더 간결하게\n",
        "만들고, 특히 더 복잡한 모델에 대해서 일부 매개변수를 잊어 버리는 오류를 덜 발생시킬 수 있습니다:\n",
        "\n",
        "::\n",
        "\n",
        "   with torch.no_grad():\n",
        "       for p in model.parameters(): p -= p.grad * lr\n",
        "       model.zero_grad()\n",
        "\n",
        "\n",
        "이제 이것을 나중에 다시 실행할 수 있도록 ``fit`` 함수로 작은 훈련 루프를 감쌀 것입니다.\n",
        "\n"
      ]
    },
    {
      "cell_type": "code",
      "source": [
        "def fit():\n",
        "    for epoch in range(epochs):\n",
        "        for i in range((n-1) // bs + 1):\n",
        "            start_i = i * bs\n",
        "            end_i = start_i + bs\n",
        "            xb = x_train[start_i : end_i]\n",
        "            yb = y_train[start_i : end_i]\n",
        "            pred = model(xb)\n",
        "            loss = loss_func(pred, yb)\n",
        "\n",
        "            loss.backward()\n",
        "            with torch.no_grad():\n",
        "                for p in model.parameters():\n",
        "                    p -= p.grad * lr\n",
        "                model.zero_grad()\n",
        "\n",
        "fit()"
      ],
      "metadata": {
        "id": "RAimu2ko9V5F"
      },
      "execution_count": 19,
      "outputs": []
    },
    {
      "cell_type": "code",
      "source": [
        "print(loss_func(model(xb), yb))"
      ],
      "metadata": {
        "colab": {
          "base_uri": "https://localhost:8080/"
        },
        "id": "rXJ-gZ8X-Bkv",
        "outputId": "fee20c0e-4c7a-4710-daa6-d94994e349ef"
      },
      "execution_count": 20,
      "outputs": [
        {
          "output_type": "stream",
          "name": "stdout",
          "text": [
            "tensor(0.0816, grad_fn=<NllLossBackward0>)\n"
          ]
        }
      ]
    },
    {
      "cell_type": "markdown",
      "metadata": {
        "id": "pwCYO3WWzNxe"
      },
      "source": [
        "## ``nn.Linear`` 를 사용하여 리팩토링 하기\n",
        "\n",
        "계속해서 코드를 리팩토링 합니다. ``self.weights`` 및 ``self.bias`` 를 수동으로 정의 및\n",
        "초기화하고, ``xb  @ self.weights + self.bias`` 를 계산하는 대신에,\n",
        "위의 모든 것을 해줄 PyTorch 클래스인\n",
        "[nn.Linear](https://pytorch.org/docs/stable/nn.html#linear-layers) 를 선형\n",
        "레이어로 사용합니다.\n",
        "PyTorch 에는 다양한 유형의 코드를 크게 단순화 할 수 있는 미리 정의된 레이어가 있고 이는 또한\n",
        "종종 기존 코드보다 속도를 빠르게 합니다.\n",
        "\n"
      ]
    },
    {
      "cell_type": "code",
      "source": [
        "class Mnist_Logistic(nn.Module):\n",
        "    def __init__(self):\n",
        "        super().__init__()\n",
        "        self.lin = nn.Linear(784, 10)\n",
        "\n",
        "    def forward(self, xb):\n",
        "        return self.lin(xb)"
      ],
      "metadata": {
        "id": "3o5_KxFM-GZW"
      },
      "execution_count": 21,
      "outputs": []
    },
    {
      "cell_type": "markdown",
      "metadata": {
        "id": "FeDf3hJLzNxe"
      },
      "source": [
        "이전과 같은 방식으로 모델을 인스턴스화하고 손실을 계산합니다:\n",
        "\n"
      ]
    },
    {
      "cell_type": "code",
      "source": [
        "model = Mnist_Logistic()\n",
        "print(loss_func(model(xb), yb))"
      ],
      "metadata": {
        "colab": {
          "base_uri": "https://localhost:8080/"
        },
        "id": "YnMltdgW-WpN",
        "outputId": "ae8f89ba-ea8c-4ea1-efc0-98d68c9b5797"
      },
      "execution_count": 22,
      "outputs": [
        {
          "output_type": "stream",
          "name": "stdout",
          "text": [
            "tensor(2.2972, grad_fn=<NllLossBackward0>)\n"
          ]
        }
      ]
    },
    {
      "cell_type": "markdown",
      "metadata": {
        "id": "svF3vIE9zNxe"
      },
      "source": [
        "우리는 여전히 이전과 동일한 ``fit`` 메소드를 사용할 수 있습니다.\n",
        "\n"
      ]
    },
    {
      "cell_type": "code",
      "source": [
        "fit()\n",
        "\n",
        "print(loss_func(model(xb), yb))"
      ],
      "metadata": {
        "colab": {
          "base_uri": "https://localhost:8080/"
        },
        "id": "NUCoJHlC-a9u",
        "outputId": "8f425bde-c67b-4bf8-9d40-646adc02ac04"
      },
      "execution_count": 23,
      "outputs": [
        {
          "output_type": "stream",
          "name": "stdout",
          "text": [
            "tensor(0.0817, grad_fn=<NllLossBackward0>)\n"
          ]
        }
      ]
    },
    {
      "cell_type": "markdown",
      "metadata": {
        "id": "IuxLqolrzNxe"
      },
      "source": [
        "## ``torch.optim`` 을 이용하여 리팩토링 하기\n",
        "\n",
        "PyTorch에는 다양한 최적화(optimization) 알고리즘을 가진 패키지인 ``torch.optim`` 도 있습니다.\n",
        "각 매개변수를 수동으로 업데이트 하는 대신, 옵티마이저(optimizer)의 ``step`` 메소드를 사용하여\n",
        "업데이트를 진행할 수 있습니다.\n",
        "\n",
        "이렇게 하면 이전에 수동으로 코딩한 최적화 단계를 대체할 수 있습니다:\n",
        "\n",
        "::\n",
        "\n",
        "   with torch.no_grad():\n",
        "       for p in model.parameters(): p -= p.grad * lr\n",
        "       model.zero_grad()\n",
        "\n",
        "대신에 이렇게 말이죠:\n",
        "\n",
        "::\n",
        "\n",
        "   opt.step()\n",
        "   opt.zero_grad()\n",
        "\n",
        "(``optim.zero_grad()`` 는 기울기를 0으로 재설정 해줍니다. 다음 미니 배치에 대한\n",
        "기울기를 계산하기 전에 호출해야 합니다.)\n",
        "\n"
      ]
    },
    {
      "cell_type": "code",
      "source": [
        "from torch import optim"
      ],
      "metadata": {
        "id": "TtGydq8u-ei-"
      },
      "execution_count": 24,
      "outputs": []
    },
    {
      "cell_type": "markdown",
      "metadata": {
        "id": "CGrKkp9szNxf"
      },
      "source": [
        "나중에 다시 사용할 수 있도록 모델과 옵티마이져를 만드는 작은 함수를 정의합니다.\n",
        "\n"
      ]
    },
    {
      "cell_type": "code",
      "source": [
        "def get_model():\n",
        "    model = Mnist_Logistic()\n",
        "    return model, optim.SGD(model.parameters(), lr=lr)\n",
        "\n",
        "model, opt = get_model()\n",
        "print(loss_func(model(xb), yb))\n",
        "\n",
        "for epoch in range(epochs):\n",
        "    for i in range((n-1) // bs + 1):\n",
        "        start_i = i * bs\n",
        "        end_i = start_i + bs\n",
        "        xb = x_train[start_i:end_i]\n",
        "        yb = y_train[start_i:end_i]\n",
        "        pred = model(xb)\n",
        "        loss = loss_func(pred, yb)\n",
        "\n",
        "        loss.backward()\n",
        "        opt.step()\n",
        "        opt.zero_grad()\n",
        "\n",
        "print(loss_func(model(xb), yb))"
      ],
      "metadata": {
        "colab": {
          "base_uri": "https://localhost:8080/"
        },
        "id": "mFFJh0M0_Nnt",
        "outputId": "d49a9807-6afe-4b69-f161-be49db910247"
      },
      "execution_count": 25,
      "outputs": [
        {
          "output_type": "stream",
          "name": "stdout",
          "text": [
            "tensor(2.2953, grad_fn=<NllLossBackward0>)\n",
            "tensor(0.0819, grad_fn=<NllLossBackward0>)\n"
          ]
        }
      ]
    },
    {
      "cell_type": "markdown",
      "metadata": {
        "id": "qHxT8IX1zNxf"
      },
      "source": [
        "## Dataset 을 이용하여 리팩토링하기\n",
        "\n",
        "PyTorch 에는 추상 Dataset 클래스가 있습니다. Dataset 은\n",
        "``__len__`` 함수 (Python의 표준 ``len`` 함수에 의해 호출됨) 및\n",
        "``__getitem__`` 함수를 가진 어떤 것이라도 될 수 있으며, 이 함수들을 인덱싱(indexing)하기\n",
        "위한 방법으로 사용합니다.\n",
        "[이 튜토리얼](https://tutorials.pytorch.kr/beginner/data_loading_tutorial.html)\n",
        "은 ``Dataset`` 의 하위 클래스로써, 사용자 지정 ``FacialLandmarkDataset`` 클래스를 만드는\n",
        "좋은 예를 제시합니다.\n",
        "\n",
        "PyTorch 의 [TensorDataset](https://pytorch.org/docs/stable/_modules/torch/utils/data/dataset.html#TensorDataset)\n",
        "은 텐서를 감싸는(wrapping) Dataset 입니다.\n",
        "길이와 인덱싱 방식을 정의함으로써 텐서의 첫 번째 차원을 따라 반복, 인덱싱 및 슬라이스(slice)하는 방법도 제공합니다.\n",
        "이렇게하면 훈련 할 때 동일한 라인에서 독립(independent) 변수와 종속(dependent) 변수에 쉽게 액세스 할 수 있습니다.\n",
        "\n"
      ]
    },
    {
      "cell_type": "code",
      "source": [
        "from torch.utils.data import TensorDataset"
      ],
      "metadata": {
        "id": "V1ibQe74_sQt"
      },
      "execution_count": 26,
      "outputs": []
    },
    {
      "cell_type": "markdown",
      "metadata": {
        "id": "ZDYLY7HXzNxf"
      },
      "source": [
        "``x_train`` 및 ``y_train`` 모두 하나의 ``TensorDataset`` 에 합쳐질 수 있습니다,\n",
        "따라서 반복시키고 슬라이스 하기 편리합니다.\n",
        "\n"
      ]
    },
    {
      "cell_type": "code",
      "source": [
        "train_ds = TensorDataset(x_train, y_train)"
      ],
      "metadata": {
        "id": "g4PGdVasAHpe"
      },
      "execution_count": 27,
      "outputs": []
    },
    {
      "cell_type": "markdown",
      "metadata": {
        "id": "yqWRPYMzzNxf"
      },
      "source": [
        "이전에는 ``x`` 및 ``y`` 값의 미니 배치를 별도로 반복해야 했습니다:\n",
        "\n",
        "::\n",
        "\n",
        "    xb = x_train[start_i:end_i]\n",
        "    yb = y_train[start_i:end_i]\n",
        "\n",
        "\n",
        "이제 이 두 단계를 함께 수행할 수 있습니다:\n",
        "\n",
        "::\n",
        "\n",
        "    xb,yb = train_ds[i*bs : i*bs+bs]\n",
        "\n",
        "\n"
      ]
    },
    {
      "cell_type": "code",
      "source": [
        "model, opt = get_model()\n",
        "\n",
        "for epoch in range(epochs):\n",
        "    for i in range((n-1) // bs + 1):\n",
        "        xb, yb = train_ds[i * bs : i * bs + bs]\n",
        "        pred = model(xb)\n",
        "        loss = loss_func(pred, yb)\n",
        "\n",
        "        loss.backward()\n",
        "        opt.step()\n",
        "        opt.zero_grad()\n",
        "\n",
        "print(loss_func(model(xb), yb))"
      ],
      "metadata": {
        "colab": {
          "base_uri": "https://localhost:8080/"
        },
        "id": "iMuqU3JCALbl",
        "outputId": "4c738c27-6e77-4942-a9d5-8baa5fd576f3"
      },
      "execution_count": 28,
      "outputs": [
        {
          "output_type": "stream",
          "name": "stdout",
          "text": [
            "tensor(0.0798, grad_fn=<NllLossBackward0>)\n"
          ]
        }
      ]
    },
    {
      "cell_type": "markdown",
      "metadata": {
        "id": "bdM1PzcuzNxf"
      },
      "source": [
        "## ``DataLoader`` 를 사용하여 리팩토링하기\n",
        "\n",
        "PyTorch 의 ``DataLoader`` 는 배치 관리를 담당합니다.\n",
        "여러분들은 모든 ``Dataset`` 으로부터 ``DataLoader`` 를 생성할 수 있습니다.\n",
        "``DataLoader`` 는 배치들에 대해서 반복하기 쉽게 만들어줍니다.\n",
        "``train_ds[i*bs : i*bs+bs]`` 를 사용하는 대신,\n",
        "``DataLoader`` 는 매 미니배치를 자동적으로 제공합니다.\n",
        "\n"
      ]
    },
    {
      "cell_type": "code",
      "source": [
        "from torch.utils.data import DataLoader\n",
        "\n",
        "train_ds = TensorDataset(x_train, y_train)\n",
        "train_dl = DataLoader(train_ds, batch_size=bs)"
      ],
      "metadata": {
        "id": "wcTUtyYOAfJO"
      },
      "execution_count": 29,
      "outputs": []
    },
    {
      "cell_type": "markdown",
      "metadata": {
        "id": "0JTuze-szNxg"
      },
      "source": [
        "이전에는 루프가 다음과 같이 배치 ``(xb, yb)`` 를 반복했습니다:\n",
        "\n",
        "::\n",
        "\n",
        "    for i in range((n-1)//bs + 1):\n",
        "        xb,yb = train_ds[i*bs : i*bs+bs]\n",
        "        pred = model(xb)\n",
        "\n",
        "이제 (xb, yb)가 DataLoader 에서 자동으로 로드되므로 루프가 훨씬 깨끗해졌습니다:\n",
        "\n",
        "::\n",
        "\n",
        "    for xb,yb in train_dl:\n",
        "        pred = model(xb)\n",
        "\n"
      ]
    },
    {
      "cell_type": "code",
      "source": [
        "model, opt = get_model()\n",
        "\n",
        "for epoch in range(epochs):\n",
        "    for xb, yb in train_dl:\n",
        "        pred = model(xb)\n",
        "        loss = loss_func(pred, yb)\n",
        "\n",
        "        loss.backward()\n",
        "        opt.step()\n",
        "        opt.zero_grad()\n",
        "\n",
        "print(loss_func(model(xb), yb))"
      ],
      "metadata": {
        "colab": {
          "base_uri": "https://localhost:8080/"
        },
        "id": "gM4z1riwAqbs",
        "outputId": "2dbe123d-84fb-439e-c9ce-191682baae7a"
      },
      "execution_count": 30,
      "outputs": [
        {
          "output_type": "stream",
          "name": "stdout",
          "text": [
            "tensor(0.0818, grad_fn=<NllLossBackward0>)\n"
          ]
        }
      ]
    },
    {
      "cell_type": "markdown",
      "metadata": {
        "id": "lU-2bbP6zNxg"
      },
      "source": [
        "PyTorch의 nn.Module, nn.Parameter, Dataset 및 DataLoader 덕분에 이제 훈련 루프가\n",
        "훨씬 더 작아지고 이해하기 쉬워졌습니다.\n",
        "이제 실제로 효과적인 모델을 만드는 데 필요한 기본 기능을 추가해 보겠습니다.\n",
        "\n",
        "## 검증(validation) 추가하기\n",
        "\n",
        "섹션 1에서, 우리는 훈련 데이터에 사용하기 위해 합리적인 훈련 루프를 설정하려고했습니다.\n",
        "실전에서, 여러분들은 과적합(overfitting)을 확인하기 위해서 **항상**\n",
        "[검증 데이터셋(validation set)](https://www.fast.ai/2017/11/13/validation-sets/) 이\n",
        "있어야 합니다.\n",
        "\n",
        "훈련 데이터를 섞는(shuffling) 것은 배치와 과적합 사이의 상관관계를 방지하기 위해\n",
        "[중요합니다.](https://www.quora.com/Does-the-order-of-training-data-matter-when-training-neural-networks)\n",
        "반면에, 검증 손실(validation loss)은 검증 데이터셋을 섞든 안섞든 동일합니다.\n",
        "데이터를 섞는 것은 추가 시간이 걸리므로, 검증 데이터를 섞는 것은 의미가 없습니다.\n",
        "\n",
        "검증 데이터셋에 대한 배치 크기는 학습 데이터셋 배치 크기의 2배를 사용할 것입니다.\n",
        "이는 검증 데이터셋에 대해서는 역전파(backpropagation)가 필요하지 않으므로 메모리를\n",
        "덜 사용하기 때문입니다 (기울기를 저장할 필요가 없음).\n",
        "더 큰 배치 크기를 사용하여 손실을 더 빨리 계산하기 위해 이렇게 합니다.\n",
        "\n"
      ]
    },
    {
      "cell_type": "code",
      "source": [
        "train_ds = TensorDataset(x_train, y_train)\n",
        "train_dl = DataLoader(train_ds, batch_size=bs, shuffle=True)\n",
        "\n",
        "valid_ds = TensorDataset(x_valid, y_valid)\n",
        "valid_dl = DataLoader(valid_ds, batch_size=bs*2)"
      ],
      "metadata": {
        "id": "OmWyz2jSA7kn"
      },
      "execution_count": 31,
      "outputs": []
    },
    {
      "cell_type": "markdown",
      "metadata": {
        "id": "lzoVsuEwzNxg"
      },
      "source": [
        "각 에폭이 끝날 때 검증 손실을 계산하고 프린트 할 것입니다.\n",
        "\n",
        "(훈련 전에 항상 ``model.train()`` 을 호출하고, 추론(inference) 전에 ``model.eval()``\n",
        "을 호출합니다, 이는 ``nn.BatchNorm2d`` 및 ``nn.Dropout`` 과 같은 레이어에서\n",
        "이러한 다른 단계(훈련, 추론) 에 대한 적절한 동작이 일어나게 하기 위함입니다.)\n",
        "\n"
      ]
    },
    {
      "cell_type": "code",
      "source": [
        "model, opt = get_model()\n",
        "\n",
        "for epoch in range(epochs):\n",
        "    model.train()\n",
        "    for xb, yb in train_dl:\n",
        "        pred = model(xb)\n",
        "        loss = loss_func(pred, yb)\n",
        "\n",
        "        loss.backward()\n",
        "        opt.step()\n",
        "        opt.zero_grad()\n",
        "\n",
        "    model.eval()\n",
        "    with torch.no_grad():\n",
        "        valid_loss = sum(loss_func(model(xb), yb) for xb, yb in valid_dl)\n",
        "\n",
        "    print(epoch, valid_loss / len(valid_dl))"
      ],
      "metadata": {
        "colab": {
          "base_uri": "https://localhost:8080/"
        },
        "id": "KczMkgO4Bin-",
        "outputId": "e06de035-a601-4401-efc1-f562efdf4b9a"
      },
      "execution_count": 32,
      "outputs": [
        {
          "output_type": "stream",
          "name": "stdout",
          "text": [
            "0 tensor(0.3040)\n",
            "1 tensor(0.3861)\n"
          ]
        }
      ]
    },
    {
      "cell_type": "markdown",
      "metadata": {
        "id": "z1Pn1M7XzNxg"
      },
      "source": [
        "## fit() 와 get_data() 생성하기\n",
        "\n",
        "이제 우리는 우리만의 작은 리팩토링을 수행할 것입니다.\n",
        "훈련 데이터셋과 검증 데이터셋 모두에 대한 손실을 계산하는 유사한 프로세스를 두 번 거치므로,\n",
        "이를 하나의 배치에 대한 손실을 계산하는 자체 함수 ``loss_batch`` 로 만들어보겠습니다.\n",
        "\n",
        "훈련 데이터셋에 대한 옵티마이저를 전달하고 이를 사용하여 역전파를 수행합니다.\n",
        "검증 데이터셋의 경우 옵티마이저를 전달하지 않으므로 메소드가 역전파를 수행하지 않습니다.\n",
        "\n"
      ]
    },
    {
      "cell_type": "code",
      "source": [
        "def loss_batch(model, loss_func, xb, yb, opt=None):\n",
        "    loss = loss_func(model(xb), yb)\n",
        "\n",
        "    if opt is not None:\n",
        "        loss.backward()\n",
        "        opt.step()\n",
        "        opt.zero_grad()\n",
        "\n",
        "    return loss.item(), len(xb)"
      ],
      "metadata": {
        "id": "tnV0SEqWB6W2"
      },
      "execution_count": 33,
      "outputs": []
    },
    {
      "cell_type": "markdown",
      "metadata": {
        "id": "3UfYCWTJzNxg"
      },
      "source": [
        "``fit`` 은 모델을 훈련하고 각 에폭에 대한 훈련 및 검증 손실을 계산하는 작업을 수행합니다.\n",
        "\n"
      ]
    },
    {
      "cell_type": "code",
      "source": [
        "import numpy as np\n",
        "\n",
        "def fit(epochs, model, loss_func, opt, train_dl, valid_dl):\n",
        "    for epoch in range(epochs):\n",
        "        model.train()\n",
        "        for xb, yb in train_dl:\n",
        "            loss_batch(model, loss_func, xb, yb, opt)\n",
        "\n",
        "        model.eval()\n",
        "        with torch.no_grad():\n",
        "            losses, nums = zip(\n",
        "                *[loss_batch(model, loss_func, xb, yb) for xb, yb in valid_dl]\n",
        "            )\n",
        "        val_loss = np.sum(np.multiply(losses, nums)) / np.sum(nums)\n",
        "\n",
        "        print(epoch, val_loss)"
      ],
      "metadata": {
        "id": "1kwbTdOnChFn"
      },
      "execution_count": 34,
      "outputs": []
    },
    {
      "cell_type": "markdown",
      "metadata": {
        "id": "GqwHWI4UzNxg"
      },
      "source": [
        "``get_data`` 는 학습 및 검증 데이터셋에 대한 dataloader 를 출력합니다.\n",
        "\n"
      ]
    },
    {
      "cell_type": "code",
      "source": [
        "def get_data(train_ds, valid_ds, bs):\n",
        "    return (\n",
        "        DataLoader(train_ds, batch_size=bs, shuffle=True),\n",
        "        DataLoader(valid_ds, batch_size=bs * 2),\n",
        "    )"
      ],
      "metadata": {
        "id": "n5y03VzobTji"
      },
      "execution_count": 35,
      "outputs": []
    },
    {
      "cell_type": "markdown",
      "metadata": {
        "id": "w6X2Mv4tzNxh"
      },
      "source": [
        "이제 dataloader를 가져오고 모델을 훈련하는 전체 프로세스를 3 줄의 코드로 실행할 수 있습니다:\n",
        "\n"
      ]
    },
    {
      "cell_type": "code",
      "source": [
        "train_dl, valid_dl = get_data(train_ds, valid_ds, bs)\n",
        "model, opt = get_model()\n",
        "fit(epochs, model, loss_func, opt, train_dl, valid_dl)"
      ],
      "metadata": {
        "colab": {
          "base_uri": "https://localhost:8080/"
        },
        "id": "RWlU_aWiDgiN",
        "outputId": "88df6ce2-9370-434a-dc32-c6232145fe2d"
      },
      "execution_count": 36,
      "outputs": [
        {
          "output_type": "stream",
          "name": "stdout",
          "text": [
            "0 0.35172800642251967\n",
            "1 0.3538460034906864\n"
          ]
        }
      ]
    },
    {
      "cell_type": "markdown",
      "metadata": {
        "id": "zKyEm8gJzNxh"
      },
      "source": [
        "이러한 기본 3줄의 코드를 사용하여 다양한 모델을 훈련할 수 있습니다.\n",
        "컨볼루션 신경망(CNN)을 훈련하는 데 사용할 수 있는지 살펴 보겠습니다!\n",
        "\n",
        "## CNN 으로 넘어가기\n",
        "\n",
        "이제 3개의 컨볼루션 레이어로 신경망을 구축할 것입니다.\n",
        "이전 섹션의 어떤 함수도 모델의 형식에 대해 가정하지 않기 때문에,\n",
        "별도의 수정없이 CNN을 학습하는 데 사용할 수 있습니다.\n",
        "\n",
        "Pytorch의 사전정의된\n",
        "[Conv2d](https://pytorch.org/docs/stable/nn.html#torch.nn.Conv2d) 클래스를\n",
        "컨볼루션 레이어로 사용합니다. 3개의 컨볼루션 레이어로 CNN을 정의합니다.\n",
        "각 컨볼루션 뒤에는 ReLU가 있습니다. 마지막으로 평균 풀링(average pooling)을 수행합니다.\n",
        "(``view`` 는 PyTorch의 NumPy ``reshape`` 버전입니다.)\n",
        "\n"
      ]
    },
    {
      "cell_type": "code",
      "source": [
        "class Mnist_CNN(nn.Module):\n",
        "    def __init__(self):\n",
        "        super().__init__()\n",
        "        self.conv1 = nn.Conv2d(1, 16, kernel_size=3, stride=2, padding=1)\n",
        "        self.conv2 = nn.Conv2d(16, 16, kernel_size=3, stride=2, padding=1)\n",
        "        self.conv3 = nn.Conv2d(16, 10, kernel_size=3, stride=2, padding=1)\n",
        "\n",
        "    def forward(self, xb):\n",
        "        xb = xb.view(-1, 1, 28, 28)\n",
        "        xb = F.relu(self.conv1(xb))\n",
        "        xb = F.relu(self.conv2(xb))\n",
        "        xb = F.relu(self.conv3(xb))\n",
        "        xb = F.avg_pool2d(xb, 4)\n",
        "        return xb.view(-1, xb.size(1))\n",
        "\n",
        "lr = 0.1"
      ],
      "metadata": {
        "id": "nSSFehk-DqKc"
      },
      "execution_count": 37,
      "outputs": []
    },
    {
      "cell_type": "markdown",
      "metadata": {
        "id": "HCQUs7wQzNxh"
      },
      "source": [
        "[모멘텀(Momentum)](https://cs231n.github.io/neural-networks-3/#sgd) 은\n",
        "이전 업데이트도 고려하고 일반적으로 더 빠른 훈련으로 이어지는 확률적 경사하강법(stochastic gradient descent)\n",
        "의 변형입니다.\n",
        "\n"
      ]
    },
    {
      "cell_type": "code",
      "source": [
        "model = Mnist_CNN()\n",
        "opt = optim.SGD(model.parameters(), lr=lr, momentum=0.9)\n",
        "\n",
        "fit(epochs, model, loss_func, opt, train_dl, valid_dl)"
      ],
      "metadata": {
        "colab": {
          "base_uri": "https://localhost:8080/"
        },
        "id": "LmUCBIAjO-CT",
        "outputId": "4f86d323-721e-48a0-f1e9-225ad4632dc6"
      },
      "execution_count": 38,
      "outputs": [
        {
          "output_type": "stream",
          "name": "stdout",
          "text": [
            "0 0.35116425483226776\n",
            "1 0.22251384780406952\n"
          ]
        }
      ]
    },
    {
      "cell_type": "markdown",
      "metadata": {
        "id": "-Kz2ANMBzNxh"
      },
      "source": [
        "## ``nn.Sequential`` 사용하기\n",
        "\n",
        "``torch.nn`` 에는 코드를 간단히 사용할 수 있는 또 다른 편리한 클래스인\n",
        "[Sequential](https://pytorch.org/docs/stable/nn.html#torch.nn.Sequential)\n",
        "이 있습니다..\n",
        "``Sequential`` 객체는 그 안에 포함된 각 모듈을 순차적으로 실행합니다.\n",
        "이것은 우리의 신경망을 작성하는 더 간단한 방법입니다.\n",
        "\n",
        "이를 활용하려면 주어진 함수에서 **사용자정의 레이어(custom layer)** 를 쉽게\n",
        "정의할 수 있어야 합니다.\n",
        "예를 들어, PyTorch에는 `view` 레이어가 없으므로 우리의 신경망 용으로 만들어야 합니다.\n",
        "``Lambda`` 는 ``Sequential`` 로 신경망을 정의할 때 사용할 수 있는 레이어를 생성할 것입니다.\n",
        "\n"
      ]
    },
    {
      "cell_type": "code",
      "source": [
        "class Lambda(nn.Module):\n",
        "    def __init__(self, func):\n",
        "        super().__init__()\n",
        "        self.func = func\n",
        "\n",
        "    def forward(self, x):\n",
        "        return self.func(x)\n",
        "\n",
        "def preprocess(x):\n",
        "    return x.view(-1, 1, 28, 28)"
      ],
      "metadata": {
        "id": "EjjqNen5Pa1z"
      },
      "execution_count": 39,
      "outputs": []
    },
    {
      "cell_type": "markdown",
      "metadata": {
        "id": "ns9yhlHGzNxi"
      },
      "source": [
        "``Sequential`` 로 생성된 모들은 간단하게 아래와 같습니다:\n",
        "\n"
      ]
    },
    {
      "cell_type": "code",
      "source": [
        "model = nn.Sequential(\n",
        "    Lambda(preprocess),\n",
        "    nn.Conv2d(1, 16, kernel_size=3, stride=2, padding=1),\n",
        "    nn.ReLU(),\n",
        "    nn.Conv2d(16, 16, kernel_size=3, stride=2, padding=1),\n",
        "    nn.ReLU(),\n",
        "    nn.Conv2d(16, 10, kernel_size=3, stride=2, padding=1),\n",
        "    nn.ReLU(),\n",
        "    nn.AvgPool2d(4),\n",
        "    Lambda(lambda x: x.view(x.size(0), -1))\n",
        ")\n",
        "\n",
        "opt = optim.SGD(model.parameters(), lr=lr, momentum=0.9)\n",
        "\n",
        "fit(epochs, model, loss_func, opt, train_dl, valid_dl)"
      ],
      "metadata": {
        "colab": {
          "base_uri": "https://localhost:8080/"
        },
        "id": "OJiOi_RlQ3hb",
        "outputId": "f460ba26-4de0-4e79-e119-a6c7791d3c4d"
      },
      "execution_count": 40,
      "outputs": [
        {
          "output_type": "stream",
          "name": "stdout",
          "text": [
            "0 0.439752613401413\n",
            "1 0.37776193462610247\n"
          ]
        }
      ]
    },
    {
      "cell_type": "markdown",
      "metadata": {
        "id": "T5qz5I7vzNxi"
      },
      "source": [
        "## ``DataLoader`` 감싸기\n",
        "\n",
        "우리의 CNN은 상당히 간결하지만, MNIST에서만 작동합니다, 왜냐하면:\n",
        " - 입력이 28\\*28의 긴 벡터라고 가정합니다.\n",
        " - 최종적으로 CNN 그리드 크기는 4\\*4 라고 가정합니다. (이것은 우리가 사용한 평균 풀링 커널 크기 때문입니다.)\n",
        "\n",
        "이 두 가지 가정을 제거하여 모델이 모든 2d 단일 채널(channel) 이미지에서 작동하도록 하겠습니다.\n",
        "먼저 초기 Lambda 레이어를 제거하고 데이터 전처리를 제네레이터(generator)로 이동시킬 수 있습니다:\n",
        "\n"
      ]
    },
    {
      "cell_type": "code",
      "source": [
        "def preprocess(x, y):\n",
        "    return x.view(-1, 1, 28, 28), y\n",
        "\n",
        "class WrappedDataLoader:\n",
        "    def __init__(self, dl, func):\n",
        "        self.dl = dl\n",
        "        self.func = func\n",
        "\n",
        "    def __len__(self):\n",
        "        return len(self.dl)\n",
        "\n",
        "    def __iter__(self):\n",
        "        batches = iter(self.dl)\n",
        "        for b in batches:\n",
        "            yield (self.func(*b))\n",
        "\n",
        "train_dl, valid_dl = get_data(train_ds, valid_ds, bs)\n",
        "train_dl = WrappedDataLoader(train_dl, preprocess)\n",
        "valid_dl = WrappedDataLoader(valid_dl, preprocess)"
      ],
      "metadata": {
        "id": "B2PAX23aRbWs"
      },
      "execution_count": 41,
      "outputs": []
    },
    {
      "cell_type": "markdown",
      "metadata": {
        "id": "ZF4bnxkGzNxj"
      },
      "source": [
        "다음으로 ``nn.AvgPool2d`` 를 ``nn.AdaptiveAvgPool2d`` 로 대체하여 우리가 가진\n",
        "*입력* 텐서가 아니라 원하는 *출력* 텐서의 크기를 정의할 수 있습니다.\n",
        "결과적으로 우리 모델은 모든 크기의 입력과 함께 작동합니다.\n",
        "\n"
      ]
    },
    {
      "cell_type": "code",
      "source": [
        "model = nn.Sequential(\n",
        "    nn.Conv2d(1, 16, kernel_size=3, stride=2, padding=1),\n",
        "    nn.ReLU(),\n",
        "    nn.Conv2d(16, 16, kernel_size=3, stride=2, padding=1),\n",
        "    nn.ReLU(),\n",
        "    nn.Conv2d(16, 10, kernel_size=3, stride=2, padding=1),\n",
        "    nn.ReLU(),\n",
        "    nn.AdaptiveAvgPool2d(1),\n",
        "    Lambda(lambda x : x.view(x.size(0), -1))\n",
        ")\n",
        "\n",
        "opt = optim.SGD(model.parameters(), lr=lr, momentum=0.9)"
      ],
      "metadata": {
        "id": "tDNY3SvTSSJ7"
      },
      "execution_count": 42,
      "outputs": []
    },
    {
      "cell_type": "markdown",
      "metadata": {
        "id": "Zdqz2eKpzNxk"
      },
      "source": [
        "한번 실행해 봅시다:\n",
        "\n"
      ]
    },
    {
      "cell_type": "code",
      "source": [
        "fit(epochs, model, loss_func, opt, train_dl, valid_dl)"
      ],
      "metadata": {
        "colab": {
          "base_uri": "https://localhost:8080/"
        },
        "id": "-qlbL4rzS8yD",
        "outputId": "6b7429e9-0382-4e6c-b502-0cf626624f73"
      },
      "execution_count": 43,
      "outputs": [
        {
          "output_type": "stream",
          "name": "stdout",
          "text": [
            "0 0.3836502144813538\n",
            "1 0.2323406585931778\n"
          ]
        }
      ]
    },
    {
      "cell_type": "markdown",
      "metadata": {
        "id": "H-Fokik9zNxk"
      },
      "source": [
        "## GPU 사용하기\n",
        "\n",
        "만약 여러분들이 운이 좋아서 CUDA 지원 GPU (대부분의 클라우드 제공 업체에서\n",
        "시간당 약 $0.50 에 이용할 수 있습니다) 를 사용할 수 있다면, 코드 실행 속도를 높일 수 있습니다.\n",
        "먼저 GPU가 PyTorch에서 작동하는지 확인합니다:\n",
        "\n"
      ]
    },
    {
      "cell_type": "code",
      "source": [
        "print(torch.cuda.is_available())"
      ],
      "metadata": {
        "colab": {
          "base_uri": "https://localhost:8080/"
        },
        "id": "3Bh8NSFsTAeq",
        "outputId": "79e0bbc6-ca8e-484b-bb2c-1dd8c7f42c77"
      },
      "execution_count": 44,
      "outputs": [
        {
          "output_type": "stream",
          "name": "stdout",
          "text": [
            "True\n"
          ]
        }
      ]
    },
    {
      "cell_type": "markdown",
      "metadata": {
        "id": "wiFtY7wSzNxk"
      },
      "source": [
        "그리고 이에 대한 디바이스 오브젝트를 생성합니다:\n",
        "\n"
      ]
    },
    {
      "cell_type": "code",
      "source": [
        "dev = torch.device(\n",
        "    \"cuda\"\n",
        ") if torch.cuda.is_available() else torch.device(\"cpu\")"
      ],
      "metadata": {
        "id": "YmXYxlTzUMlz"
      },
      "execution_count": 45,
      "outputs": []
    },
    {
      "cell_type": "markdown",
      "metadata": {
        "id": "Fp8nCI77zNxk"
      },
      "source": [
        "GPU로 배치를 옮기도록 ``preprocess`` 를 업데이트 합시다:\n",
        "\n"
      ]
    },
    {
      "cell_type": "code",
      "source": [
        "def preprocess(x, y):\n",
        "    return x.view(-1, 1, 28, 28).to(dev), y.to(dev)\n",
        "\n",
        "train_dl, valid_dl = get_data(train_ds, valid_ds, bs)\n",
        "train_dl = WrappedDataLoader(train_dl, preprocess)\n",
        "valid_dl = WrappedDataLoader(valid_dl, preprocess)"
      ],
      "metadata": {
        "id": "l-Uhj-dQUSQj"
      },
      "execution_count": 46,
      "outputs": []
    },
    {
      "cell_type": "markdown",
      "metadata": {
        "id": "SNQ5X1p7zNxk"
      },
      "source": [
        "마지막으로 모델을 GPU로 이동시킬 수 있습니다.\n",
        "\n"
      ]
    },
    {
      "cell_type": "code",
      "source": [
        "model.to(dev)\n",
        "opt = optim.SGD(model.parameters(), lr=lr, momentum=0.9)"
      ],
      "metadata": {
        "id": "kQuPTux-UfZb"
      },
      "execution_count": 47,
      "outputs": []
    },
    {
      "cell_type": "markdown",
      "metadata": {
        "id": "xqAAsvdAzNxl"
      },
      "source": [
        "이제 더 빨리 실행됩니다:\n",
        "\n"
      ]
    },
    {
      "cell_type": "code",
      "source": [
        "fit(epochs, model, loss_func, opt, train_dl, valid_dl)"
      ],
      "metadata": {
        "colab": {
          "base_uri": "https://localhost:8080/"
        },
        "id": "GOivJkPcVyuj",
        "outputId": "272c0d17-ee9b-4729-b9ac-961e18ff7ba7"
      },
      "execution_count": 48,
      "outputs": [
        {
          "output_type": "stream",
          "name": "stdout",
          "text": [
            "0 0.20358822078704833\n",
            "1 0.19387345678806306\n"
          ]
        }
      ]
    },
    {
      "cell_type": "markdown",
      "metadata": {
        "id": "NPo2pb3izNxl"
      },
      "source": [
        "## 마치면서\n",
        "\n",
        "이제 PyTorch를 사용하여 다양한 유형의 모델을 학습하는 데 사용할 수 있는 일반 데이터 파이프 라인과\n",
        "훈련 루프가 있습니다.\n",
        "이제 모델 학습이 얼마나 간단한지 확인하려면 [mnist_sample 노트북](https://github.com/fastai/fastai_dev/blob/master/dev_nb/mnist_sample.ipynb)_ 을 살펴보세요.\n",
        "\n",
        "물론 데이터 증강(data augmentation), 초매개변수 조정(hyperparameter tuning),\n",
        "훈련과정 모니터링(monitoring training), 전이 학습(transfer learning) 등과 같이\n",
        "추가하고 싶은 항목들이 많이 있을 것입니다.\n",
        "이러한 기능들은 이 튜토리얼에 표시된 것과 동일한 설계 접근 방식을 사용하여 개발된 fastai 라이브러리에서\n",
        "사용할 수 있으며, 모델을 더욱 발전시키려는 실무자에게 자연스러운 다음 단계를 제공합니다.\n",
        "\n",
        "이 튜토리얼의 시작 부분에서 ``torch.nn``, ``torch.optim``, ``Dataset``,\n",
        "그리고 ``DataLoader`` 의 각 예제를 통해 설명하겠다고 이야기했었습니다.\n",
        "이제 위의 내용들을 요약해보겠습니다:\n",
        "\n",
        " - ``torch.nn``:\n",
        "\n",
        "   + ``Module``: 함수처럼 동작하지만, 또한 상태(state) (예를 들어, 신경망의 레이어 가중치)를\n",
        "     포함할 수 있는 호출 가능한 오브젝트를 생성합니다.\n",
        "     이는 포함된 ``Parameter`` (들)가 어떤 것인지 알고, 모든 기울기를 0으로 설정하고 가중치\n",
        "     업데이트 등을 위해 반복할 수 있습니다.\n",
        "   + ``Parameter``: ``Module`` 에 역전파 동안 업데이트가 필요한 가중치가 있음을 알려주는\n",
        "     텐서용 래퍼입니다. `requires_grad` 속성이 설정된 텐서만 업데이트 됩니다.\n",
        "   + ``functional``: 활성화 함수, 손실 함수 등을 포함하는 모듈 (관례에 따라 일반적으로\n",
        "     ``F`` 네임스페이스로 임포트 됩니다) 이고, 물론 컨볼루션 및 선형 레이어 등에 대해서\n",
        "     상태를 저장하지않는(non-stateful) 버전의 레이어를 포함합니다.\n",
        " - ``torch.optim``: 역전파 단계에서 ``Parameter`` 의 가중치를 업데이트하는,\n",
        "   ``SGD`` 와 같은 옵티마이저를 포함합니다.\n",
        " - ``Dataset``: ``TensorDataset`` 과 같이 PyTorch와 함께 제공되는 클래스를 포함하여 ``__len__`` 및\n",
        "   ``__getitem__`` 이 있는 객체의 추상 인터페이스\n",
        " - ``DataLoader``: 모든 종류의 ``Dataset`` 을 기반으로 데이터의 배치들을 출력하는 반복자(iterator)를 생성합니다.\n",
        "\n"
      ]
    },
    {
      "cell_type": "markdown",
      "source": [
        "# Quick MNIST\n",
        "\n",
        "by Jeremy Howard, fast.ai.\n",
        "\n",
        "In this notebook we'll see how easy it is to use the simple functions we created along with torch.nn and friends to train MNIST. We're going to create the same convolution net that we created at the end of the previous notebook, but this time we'll use the functions we've already written, and we'll skip the explanatory text so you can see just the final code.\n",
        "\n",
        "You can use this same notebook to train other neural nets on other datasets with minimal changes."
      ],
      "metadata": {
        "id": "CZiwOboUV6sG"
      }
    },
    {
      "cell_type": "code",
      "source": [
        "import pickle, gzip\n",
        "from pathlib import Path\n",
        "# from mnist_sample import *"
      ],
      "metadata": {
        "id": "nYSNO5GoUpa7"
      },
      "execution_count": 49,
      "outputs": []
    },
    {
      "cell_type": "code",
      "source": [
        "PATH = Path('data') / \"mnist\"\n",
        "\n",
        "with gzip.open(PATH / \"mnist.pkl.gz\", 'rb') as f:\n",
        "    ((train_x, train_y), (valid_x, valid_y), _) = pickle.load(f, encoding='latin-1')"
      ],
      "metadata": {
        "id": "Q0MGa4ulWR2N"
      },
      "execution_count": 50,
      "outputs": []
    },
    {
      "cell_type": "code",
      "source": [
        "bs = 64\n",
        "lr = 0.1\n",
        "epochs = 2\n",
        "\n",
        "dev = torch.device(\"cuda\") if torch.cuda.is_available() else torch.device(\"cpu\")"
      ],
      "metadata": {
        "id": "hHK77C42WdOi"
      },
      "execution_count": 51,
      "outputs": []
    },
    {
      "cell_type": "code",
      "source": [
        "def preprocess(x, y): return x.view(-1, 1, 28, 28).to(dev), y.to(dev)"
      ],
      "metadata": {
        "id": "JFuJkysbWlc7"
      },
      "execution_count": 52,
      "outputs": []
    },
    {
      "cell_type": "code",
      "source": [
        "def get_dataloader(x, y, bs, shuffle):\n",
        "    ds = TensorDataset(*map(torch.tensor, (x, y)))\n",
        "    dl = DataLoader(ds, batch_size=bs, shuffle=shuffle)\n",
        "    return WrappedDataLoader(dl, preprocess)"
      ],
      "metadata": {
        "id": "4w0ncri4WpxU"
      },
      "execution_count": 53,
      "outputs": []
    },
    {
      "cell_type": "code",
      "source": [
        "train_dl = get_dataloader(train_x, train_y, bs, shuffle=True)\n",
        "valid_dl = get_dataloader(valid_x, valid_y, bs*2, shuffle=False)"
      ],
      "metadata": {
        "id": "auqIdmVBXGvK"
      },
      "execution_count": 54,
      "outputs": []
    },
    {
      "cell_type": "code",
      "source": [
        "model = nn.Sequential(\n",
        "    nn.Conv2d(1, 16, kernel_size=3, stride=2, padding=1), nn.ReLU(),\n",
        "    nn.Conv2d(16, 16, kernel_size=3, stride=2, padding=1), nn.ReLU(),\n",
        "    nn.Conv2d(16, 10, kernel_size=3, stride=2, padding=1), nn.ReLU(),\n",
        "    nn.AdaptiveAvgPool2d(1),\n",
        "    Lambda(lambda x: x.view(x.size(0), -1))\n",
        ").to(dev)\n",
        "\n",
        "opt = optim.SGD(model.parameters(), lr=lr, momentum=0.9)"
      ],
      "metadata": {
        "id": "EP0jXplHXPgu"
      },
      "execution_count": 55,
      "outputs": []
    },
    {
      "cell_type": "code",
      "source": [
        "fit(epochs, model, F.cross_entropy, opt, train_dl, valid_dl)"
      ],
      "metadata": {
        "colab": {
          "base_uri": "https://localhost:8080/"
        },
        "id": "aV7mPpHYXr5T",
        "outputId": "a9712c31-c869-45f7-d314-6519bbf2db85"
      },
      "execution_count": 56,
      "outputs": [
        {
          "output_type": "stream",
          "name": "stdout",
          "text": [
            "0 0.41196801595687865\n",
            "1 0.25019710030555725\n"
          ]
        }
      ]
    }
  ]
}